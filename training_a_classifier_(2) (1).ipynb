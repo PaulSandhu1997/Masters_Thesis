{
 "cells": [
  {
   "cell_type": "code",
   "execution_count": null,
   "id": "M-OjBnVj7qM8",
   "metadata": {
    "colab": {
     "base_uri": "https://localhost:8080/"
    },
    "id": "M-OjBnVj7qM8",
    "outputId": "d69aca14-1311-4fb9-b141-8ed86094f1f2"
   },
   "outputs": [
    {
     "name": "stdout",
     "output_type": "stream",
     "text": [
      "Mounted at /content/drive\n"
     ]
    }
   ],
   "source": [
    "from google.colab import drive\n",
    "drive.mount('/content/drive')"
   ]
  },
  {
   "cell_type": "code",
   "execution_count": null,
   "id": "dc0gBwaSEzvZ",
   "metadata": {
    "colab": {
     "base_uri": "https://localhost:8080/"
    },
    "id": "dc0gBwaSEzvZ",
    "outputId": "a055d954-9d35-480c-9bf8-af61e7e257c7"
   },
   "outputs": [
    {
     "name": "stdout",
     "output_type": "stream",
     "text": [
      "Looking in indexes: https://pypi.org/simple, https://us-python.pkg.dev/colab-wheels/public/simple/, https://download.pytorch.org/whl/cu113\n",
      "Collecting torch==1.11.0+cu113\n",
      "  Downloading https://download.pytorch.org/whl/cu113/torch-1.11.0%2Bcu113-cp37-cp37m-linux_x86_64.whl (1637.0 MB)\n",
      "\u001b[K     |████████████████▎               | 834.1 MB 1.3 MB/s eta 0:10:00tcmalloc: large alloc 1147494400 bytes == 0x39000000 @  0x7f9df7caa615 0x592b76 0x4df71e 0x59afff 0x515655 0x549576 0x593fce 0x548ae9 0x51566f 0x549576 0x593fce 0x548ae9 0x5127f1 0x598e3b 0x511f68 0x598e3b 0x511f68 0x598e3b 0x511f68 0x4bc98a 0x532e76 0x594b72 0x515600 0x549576 0x593fce 0x548ae9 0x5127f1 0x549576 0x593fce 0x5118f8 0x593dd7\n",
      "\u001b[K     |████████████████████▋           | 1055.7 MB 1.2 MB/s eta 0:07:54tcmalloc: large alloc 1434370048 bytes == 0x7d656000 @  0x7f9df7caa615 0x592b76 0x4df71e 0x59afff 0x515655 0x549576 0x593fce 0x548ae9 0x51566f 0x549576 0x593fce 0x548ae9 0x5127f1 0x598e3b 0x511f68 0x598e3b 0x511f68 0x598e3b 0x511f68 0x4bc98a 0x532e76 0x594b72 0x515600 0x549576 0x593fce 0x548ae9 0x5127f1 0x549576 0x593fce 0x5118f8 0x593dd7\n",
      "\u001b[K     |██████████████████████████▏     | 1336.2 MB 1.3 MB/s eta 0:03:53tcmalloc: large alloc 1792966656 bytes == 0x2488000 @  0x7f9df7caa615 0x592b76 0x4df71e 0x59afff 0x515655 0x549576 0x593fce 0x548ae9 0x51566f 0x549576 0x593fce 0x548ae9 0x5127f1 0x598e3b 0x511f68 0x598e3b 0x511f68 0x598e3b 0x511f68 0x4bc98a 0x532e76 0x594b72 0x515600 0x549576 0x593fce 0x548ae9 0x5127f1 0x549576 0x593fce 0x5118f8 0x593dd7\n",
      "\u001b[K     |████████████████████████████████| 1636.9 MB 1.6 MB/s eta 0:00:01tcmalloc: large alloc 1636958208 bytes == 0x6d270000 @  0x7f9df7ca91e7 0x4a3940 0x4a39cc 0x592b76 0x4df71e 0x59afff 0x515655 0x549576 0x593fce 0x511e2c 0x549576 0x593fce 0x511e2c 0x549576 0x593fce 0x511e2c 0x549576 0x593fce 0x511e2c 0x549576 0x593fce 0x511e2c 0x593dd7 0x511e2c 0x549576 0x593fce 0x548ae9 0x5127f1 0x549576 0x593fce 0x548ae9\n",
      "tcmalloc: large alloc 2046197760 bytes == 0xceb90000 @  0x7f9df7caa615 0x592b76 0x4df71e 0x59afff 0x515655 0x549576 0x593fce 0x511e2c 0x549576 0x593fce 0x511e2c 0x549576 0x593fce 0x511e2c 0x549576 0x593fce 0x511e2c 0x549576 0x593fce 0x511e2c 0x593dd7 0x511e2c 0x549576 0x593fce 0x548ae9 0x5127f1 0x549576 0x593fce 0x548ae9 0x5127f1 0x549576\n",
      "\u001b[K     |████████████████████████████████| 1637.0 MB 6.4 kB/s \n",
      "\u001b[?25hCollecting torchvision==0.12.0+cu113\n",
      "  Downloading https://download.pytorch.org/whl/cu113/torchvision-0.12.0%2Bcu113-cp37-cp37m-linux_x86_64.whl (22.3 MB)\n",
      "\u001b[K     |████████████████████████████████| 22.3 MB 1.3 MB/s \n",
      "\u001b[?25hCollecting torchaudio==0.11.0\n",
      "  Downloading https://download.pytorch.org/whl/cu113/torchaudio-0.11.0%2Bcu113-cp37-cp37m-linux_x86_64.whl (2.9 MB)\n",
      "\u001b[K     |████████████████████████████████| 2.9 MB 34.3 MB/s \n",
      "\u001b[?25hRequirement already satisfied: typing-extensions in /usr/local/lib/python3.7/dist-packages (from torch==1.11.0+cu113) (4.1.1)\n",
      "Requirement already satisfied: requests in /usr/local/lib/python3.7/dist-packages (from torchvision==0.12.0+cu113) (2.23.0)\n",
      "Requirement already satisfied: numpy in /usr/local/lib/python3.7/dist-packages (from torchvision==0.12.0+cu113) (1.21.6)\n",
      "Requirement already satisfied: pillow!=8.3.*,>=5.3.0 in /usr/local/lib/python3.7/dist-packages (from torchvision==0.12.0+cu113) (7.1.2)\n",
      "Requirement already satisfied: chardet<4,>=3.0.2 in /usr/local/lib/python3.7/dist-packages (from requests->torchvision==0.12.0+cu113) (3.0.4)\n",
      "Requirement already satisfied: idna<3,>=2.5 in /usr/local/lib/python3.7/dist-packages (from requests->torchvision==0.12.0+cu113) (2.10)\n",
      "Requirement already satisfied: urllib3!=1.25.0,!=1.25.1,<1.26,>=1.21.1 in /usr/local/lib/python3.7/dist-packages (from requests->torchvision==0.12.0+cu113) (1.24.3)\n",
      "Requirement already satisfied: certifi>=2017.4.17 in /usr/local/lib/python3.7/dist-packages (from requests->torchvision==0.12.0+cu113) (2022.6.15)\n",
      "Installing collected packages: torch, torchvision, torchaudio\n",
      "  Attempting uninstall: torch\n",
      "    Found existing installation: torch 1.12.0+cu113\n",
      "    Uninstalling torch-1.12.0+cu113:\n",
      "      Successfully uninstalled torch-1.12.0+cu113\n",
      "  Attempting uninstall: torchvision\n",
      "    Found existing installation: torchvision 0.13.0+cu113\n",
      "    Uninstalling torchvision-0.13.0+cu113:\n",
      "      Successfully uninstalled torchvision-0.13.0+cu113\n",
      "  Attempting uninstall: torchaudio\n",
      "    Found existing installation: torchaudio 0.12.0+cu113\n",
      "    Uninstalling torchaudio-0.12.0+cu113:\n",
      "      Successfully uninstalled torchaudio-0.12.0+cu113\n",
      "\u001b[31mERROR: pip's dependency resolver does not currently take into account all the packages that are installed. This behaviour is the source of the following dependency conflicts.\n",
      "torchtext 0.13.0 requires torch==1.12.0, but you have torch 1.11.0+cu113 which is incompatible.\u001b[0m\n",
      "Successfully installed torch-1.11.0+cu113 torchaudio-0.11.0+cu113 torchvision-0.12.0+cu113\n"
     ]
    }
   ],
   "source": [
    "pip install torch==1.11.0+cu113 torchvision==0.12.0+cu113 torchaudio==0.11.0 --extra-index-url https://download.pytorch.org/whl/cu113"
   ]
  },
  {
   "cell_type": "code",
   "execution_count": null,
   "id": "rEiuAQqUWSPH",
   "metadata": {
    "colab": {
     "base_uri": "https://localhost:8080/"
    },
    "id": "rEiuAQqUWSPH",
    "outputId": "2c707034-f0d7-4b1a-c2b3-79c8b60625e9"
   },
   "outputs": [
    {
     "name": "stdout",
     "output_type": "stream",
     "text": [
      "Num GPUs Available:  1\n"
     ]
    }
   ],
   "source": [
    "import tensorflow as tf\n",
    "print(\"Num GPUs Available: \", len(tf.config.list_physical_devices('GPU')))"
   ]
  },
  {
   "cell_type": "code",
   "execution_count": null,
   "id": "AKsgi0l_WV-W",
   "metadata": {
    "colab": {
     "base_uri": "https://localhost:8080/"
    },
    "id": "AKsgi0l_WV-W",
    "outputId": "3a181535-94d1-4ac7-eec4-788e86eda7da"
   },
   "outputs": [
    {
     "name": "stdout",
     "output_type": "stream",
     "text": [
      "1 Physical GPUs, 1 Logical GPU\n"
     ]
    }
   ],
   "source": [
    "gpus = tf.config.list_physical_devices('GPU')\n",
    "if gpus:\n",
    "  # Restrict TensorFlow to only use the first GPU\n",
    "  try:\n",
    "    tf.config.set_visible_devices(gpus[0], 'GPU')\n",
    "    logical_gpus = tf.config.list_logical_devices('GPU')\n",
    "    print(len(gpus), \"Physical GPUs,\", len(logical_gpus), \"Logical GPU\")\n",
    "  except RuntimeError as e:\n",
    "    # Visible devices must be set before GPUs have been initialized\n",
    "    print(e,'error')"
   ]
  },
  {
   "cell_type": "code",
   "execution_count": null,
   "id": "_wonWdRBExs5",
   "metadata": {
    "id": "_wonWdRBExs5"
   },
   "outputs": [],
   "source": [
    "import torch\n",
    "from typing import Optional, Callable, Union, Dict, Tuple\n",
    "from tqdm import tqdm\n",
    "import os\n",
    "\n",
    "\n",
    "class Trainer:\n",
    "    \"\"\"\n",
    "    This is the default class for defining trainers to teach neural networks\n",
    "    different tasks.\n",
    "\n",
    "    Parameters\n",
    "    ----------\n",
    "    model : torch.nn.Module\n",
    "        The neural network model to train.\n",
    "    optimiser : torch.optim.Optimizer\n",
    "        The optimiser to use during training.\n",
    "    loss_fn : Callable\n",
    "        The loss function to use during training.\n",
    "    no_of_epochs : int\n",
    "        The number of epochs to train for.\n",
    "    batch_size : int\n",
    "        The batch size to use.\n",
    "    data_pth : str\n",
    "        The path to the training/validation data.\n",
    "    save_dir : str, optional\n",
    "        The directory to save the trained models to. Default is ``\"./\"`` -- the\n",
    "        :abbr:`CWD (current working directory)`.\n",
    "    scheduler : torch.optim.lr_scheduler._LRScheduler, optional\n",
    "        The way to adaptively change the learning rate while training. Default\n",
    "        is None. For examples on how to adaptively change the learning rate\n",
    "        please see\n",
    "        `here <https://pytorch.org/docs/stable/optim.html#how-to-adjust-learning-rate>`_.\n",
    "    device_id : int or str, optional\n",
    "        Which device to perform training on. Providing an integer will point to\n",
    "        the GPU with that specific ID whereas the string option can be used to\n",
    "        also specify training on the CPU. When using ``nn.DataParallel`` for the\n",
    "        model, setting ``device_id = \"cuda\"`` uses all GPUs. Default is 0 -- use\n",
    "        the GPU corresponding to ID ``\"cuda:0\"``.\n",
    "    data_parallel : bool, optional\n",
    "        Whether or not to use multiple GPUs for training. Default is ``False``.\n",
    "    \"\"\"\n",
    "\n",
    "    def __init__(\n",
    "        self,\n",
    "        model: torch.nn.Module,\n",
    "        optimiser: torch.optim.Optimizer,\n",
    "        loss_fn: Callable[[torch.tensor, torch.tensor], torch.tensor],\n",
    "        no_of_epochs: int,\n",
    "        batch_size: int,\n",
    "        data_pth: str,\n",
    "        save_dir: str = \"./\",\n",
    "        scheduler: Optional[torch.optim.lr_scheduler._LRScheduler] = None,\n",
    "        device_id: Union[int, str] = 0,\n",
    "        data_parallel: bool = False,\n",
    "    ) -> None:\n",
    "\n",
    "        self.device = torch.device(\n",
    "            f\"cuda:{device_id}\" if type(device_id) == int else device_id\n",
    "        )\n",
    "\n",
    "        if data_parallel:\n",
    "            self.model = torch.nn.DataParallel(model)\n",
    "        else:\n",
    "            self.model = model\n",
    "        self.model.to(self.device)\n",
    "\n",
    "        self.optimiser = optimiser\n",
    "\n",
    "        self.loss_fn = loss_fn\n",
    "\n",
    "        self.total_epochs = no_of_epochs\n",
    "        self.batch_size = batch_size\n",
    "\n",
    "        self.data_pth = data_pth\n",
    "\n",
    "        self.save_dir = save_dir\n",
    "\n",
    "        self.scheduler = scheduler\n",
    "\n",
    "        self.current_epoch = 0\n",
    "\n",
    "    def load_data(self) -> None:\n",
    "        \"\"\"\n",
    "        User-defined data loading instance method.\n",
    "        This should populate self.train_in, self.train_out, self.val_in and self.val_out.\n",
    "        \"\"\"\n",
    "\n",
    "        raise NotImplementedError(\"This must be user-defined!!\")\n",
    "\n",
    "    def checkpoint(self, add_info: Optional[Dict] = None) -> None:\n",
    "        \"\"\"\n",
    "        This class method creates a checkpoint for the current epoch.\n",
    "\n",
    "        Parameters\n",
    "        ----------\n",
    "        add_info : dict, optional\n",
    "            An additional information to add to the checkpoint e.g. scheduler\n",
    "            state dictionary. Default is ``None``.\n",
    "        \"\"\"\n",
    "\n",
    "        if isinstance(self.model, torch.nn.DataParallel):\n",
    "            self.chkpt = {\n",
    "                \"epoch\": self.current_epoch,\n",
    "                \"model_state_dict\": self.model.module.state_dict(),\n",
    "                \"optimiser_state_dict\": self.optimiser.state_dict(),\n",
    "                \"train_losses\": self.train_losses,\n",
    "                \"val_losses\": self.val_losses,\n",
    "            }\n",
    "        else:\n",
    "            self.chkpt = {\n",
    "                \"epoch\": self.current_epoch,\n",
    "                \"model_state_dict\": self.model.state_dict(),\n",
    "                \"optimiser_state_dict\": self.optimiser.state_dict(),\n",
    "                \"train_losses\": self.train_losses,\n",
    "                \"val_losses\": self.val_losses,\n",
    "            }\n",
    "\n",
    "        if isinstance(add_info, dict):\n",
    "            self.chkpt.update(add_info)\n",
    "\n",
    "    def save_checkpoint(self, custom_path: Optional[str] = None) -> None:\n",
    "        \"\"\"\n",
    "        This class method saves the current checkpoint to the save directory\n",
    "        defined when instantiating the class.\n",
    "\n",
    "        Parameters\n",
    "        ----------\n",
    "        custom_path : str, optional\n",
    "            Path to save the model to. Default is ``None``.\n",
    "        \"\"\"\n",
    "\n",
    "        if isinstance(custom_path, str):\n",
    "            save_pth = f\"{custom_path}{self.current_epoch}.pth\"\n",
    "        else:\n",
    "            save_pth = f\"{self.save_dir}{self.current_epoch}.pth\"\n",
    "\n",
    "        if not hasattr(self, \"chkpt\"):\n",
    "            self.checkpoint()\n",
    "        torch.save(self.chkpt, save_pth)\n",
    "\n",
    "    def load_checkpoint(self, filename: str) -> None:\n",
    "        \"\"\"\n",
    "        This class method loads a checkpoint for the model.\n",
    "\n",
    "        Parameters\n",
    "        ----------\n",
    "        filename : str\n",
    "            The path to the model to load.\n",
    "        \"\"\"\n",
    "\n",
    "        if os.path.isfile(filename):\n",
    "            print(f\"=> loading checkpoint at {filename}\")\n",
    "            chkpt = torch.load(filename)\n",
    "            self.current_epoch = chkpt[\"epoch\"]\n",
    "            self.train_losses = chkpt[\"train_losses\"]\n",
    "            self.val_losses = chkpt[\"val_losses\"]\n",
    "            self.model.load_state_dict(chkpt[\"model_state_dict\"])\n",
    "            self.optimiser.load_state_dict(chkpt[\"optimiser_state_dict\"])\n",
    "\n",
    "            def_keys = [\n",
    "                \"epoch\",\n",
    "                \"train_losses\",\n",
    "                \"val_losses\",\n",
    "                \"model_state_dict\",\n",
    "                \"optimiser_state_dict\",\n",
    "            ]\n",
    "            if len(chkpt.keys()) != 5:\n",
    "                self.add_info = {}\n",
    "                for key in chkpt.keys():\n",
    "                    if key not in def_keys:\n",
    "                        self.add_info.update({key: chkpt[key]})\n",
    "            if self.scheduler:\n",
    "                self.scheduler.load_state_dict(self.add_info[\"scheduler_state_dict\"])\n",
    "\n",
    "            train_l = self.train_losses[-1]\n",
    "            val_l = self.val_losses[-1]\n",
    "            print(\n",
    "                f\"=> loaded checkpoint at {filename} at epoch {self.current_epoch} with training loss {train_l} and validation loss {val_l}.\"\n",
    "            )\n",
    "        else:\n",
    "            print(f\"=> no checkpoint found at {filename}\")\n",
    "\n",
    "\n",
    "class ClassifierTrainer(Trainer):\n",
    "    \"\"\"\n",
    "    A trainer for training a neural network for classification.\n",
    "\n",
    "    Parameters\n",
    "    ----------\n",
    "    model : torch.nn.Module\n",
    "        The neural network model to train.\n",
    "    optimiser : torch.optim.Optimizer\n",
    "        The optimiser to use during training.\n",
    "    loss_fn : Callable\n",
    "        The loss function to use during training.\n",
    "    no_of_epochs : int\n",
    "        The number of epochs to train for.\n",
    "    batch_size : int\n",
    "        The batch size to use.\n",
    "    data_pth : str\n",
    "        The path to the training/validation data.\n",
    "    save_dir : str, optional\n",
    "        The directory to save the trained models to. Default is ``\"./\"`` -- the\n",
    "        :abbr:`CWD (current working directory)`.\n",
    "    scheduler : torch.optim.lr_scheduler._LRScheduler, optional\n",
    "        The way to adaptively change the learning rate while training. Default\n",
    "        is None. For examples on how to adaptively change the learning rate\n",
    "        please see\n",
    "        `here <https://pytorch.org/docs/stable/optim.html#how-to-adjust-learning-rate>`_.\n",
    "    device_id : int or str, optional\n",
    "        Which device to perform training on. Providing an integer will point to\n",
    "        the GPU with that specific ID whereas the string option can be used to\n",
    "        also specify training on the CPU. When using ``nn.DataParallel`` for the\n",
    "        model, setting ``device_id = \"cuda\"`` uses all GPUs. Default is 0 -- use\n",
    "        the GPU corresponding to ID ``\"cuda:0\"``.\n",
    "    data_parallel : bool, optional\n",
    "        Whether or not to use multiple GPUs for training. Default is ``False``.\n",
    "    \"\"\"\n",
    "\n",
    "    def train(self, train_loader: torch.utils.data.DataLoader) -> Tuple[float, float]:\n",
    "        \"\"\"\n",
    "        The function used to train the classifier model.\n",
    "\n",
    "        Parameters\n",
    "        ----------\n",
    "        train_loader: torch.utils.data.DataLoader\n",
    "            The data to train the model on wrapped up in a `PyTorch DataLoader\n",
    "            <https://pytorch.org/docs/stable/data.html#torch.utils.data.DataLoader>`_.\n",
    "\n",
    "        Returns\n",
    "        -------\n",
    "         : float\n",
    "            The average of the batch losses for one training epoch.\n",
    "         : float\n",
    "            The percentage correct on the training data.\n",
    "        \"\"\"\n",
    "        self.model.train()\n",
    "\n",
    "        batch_losses = []\n",
    "        total, correct = 0.0, 0.0\n",
    "        for j, (images, labels) in enumerate(tqdm(train_loader)):\n",
    "            images, labels = images.float().to(self.device), labels.long().to(\n",
    "                self.device\n",
    "            )\n",
    "\n",
    "            self.optimiser.zero_grad()\n",
    "            output = self.model(images)\n",
    "            loss = self.loss_fn(output, labels)\n",
    "            loss.backward()\n",
    "            self.optimiser.step()\n",
    "\n",
    "            batch_losses.append(loss.item())\n",
    "\n",
    "            # work out the % correct per epoch accumulatively\n",
    "            _, predicted = torch.max(\n",
    "                output.data, 1\n",
    "            )  # output will have dimensions (batch_size, output_features) with the maximum taken along the output_features axis i.e. the probability distribution of classes, predicted is populated by the indices of the maximum in this dimension -- the class label.\n",
    "            total += labels.size(0)\n",
    "            correct += (\n",
    "                predicted == labels\n",
    "            ).sum()  # produces a boolean tensor which when summed evaluates True to 1 and False to 0.\n",
    "\n",
    "        return torch.mean(torch.tensor(batch_losses)), float((correct / total) * 100)\n",
    "\n",
    "    def validation(\n",
    "        self, val_loader: torch.utils.data.DataLoader\n",
    "    ) -> Tuple[float, float]:\n",
    "        \"\"\"\n",
    "        The function used to validate the classifier model.\n",
    "\n",
    "        Parameters\n",
    "        ----------\n",
    "        val_loader : torch.utils.data.DataLoader\n",
    "            The data to validate the model on wrapped up in a `PyTorch\n",
    "            DataLoader\n",
    "            <https://pytorch.org/docs/stable/data.html#torch.utils.data.DataLoader>`_.\n",
    "\n",
    "        Returns\n",
    "        -------\n",
    "         : float\n",
    "            The average of the batch losses for one training epoch.\n",
    "         : float\n",
    "            The percentage correct on the validation data.\n",
    "        \"\"\"\n",
    "        self.model.eval()\n",
    "\n",
    "        total, correct = 0.0, 0.0\n",
    "        with torch.no_grad():\n",
    "            batch_losses = []\n",
    "            for images, labels in val_loader:\n",
    "                images, labels = images.float().to(self.device), labels.long().to(\n",
    "                    self.device\n",
    "                )\n",
    "                output = self.model(images)\n",
    "                _, predicted = torch.max(output.data, 1)\n",
    "                total += labels.size(0)\n",
    "                correct += (predicted == labels).sum()\n",
    "\n",
    "                loss = self.loss_fn(output, labels)\n",
    "                batch_losses.append(loss.item())\n",
    "\n",
    "        return torch.mean(torch.tensor(batch_losses)), float((correct / total) * 100)\n",
    "\n",
    "\n",
    "class RegressorTrainer(Trainer):\n",
    "    \"\"\"\n",
    "    A trainer for training a neural network for regression.\n",
    "\n",
    "\n",
    "    Parameters\n",
    "    ----------\n",
    "    model : torch.nn.Module\n",
    "        The neural network model to train.\n",
    "    optimiser : torch.optim.Optimizer\n",
    "        The optimiser to use during training.\n",
    "    loss_fn : Callable\n",
    "        The loss function to use during training.\n",
    "    no_of_epochs : int\n",
    "        The number of epochs to train for.\n",
    "    batch_size : int\n",
    "        The batch size to use.\n",
    "    data_pth : str\n",
    "        The path to the training/validation data.\n",
    "    save_dir : str, optional\n",
    "        The directory to save the trained models to. Default is ``\"./\"`` -- the\n",
    "        :abbr:`CWD (current working directory)`.\n",
    "    scheduler : torch.optim.lr_scheduler._LRScheduler, optional\n",
    "        The way to adaptively change the learning rate while training. Default\n",
    "        is None. For examples on how to adaptively change the learning rate\n",
    "        please see\n",
    "        `here <https://pytorch.org/docs/stable/optim.html#how-to-adjust-learning-rate>`_.\n",
    "    device_id : int or str, optional\n",
    "        Which device to perform training on. Providing an integer will point to\n",
    "        the GPU with that specific ID whereas the string option can be used to\n",
    "        also specify training on the CPU. When using ``nn.DataParallel`` for the\n",
    "        model, setting ``device_id = \"cuda\"`` uses all GPUs. Default is 0 -- use\n",
    "        the GPU corresponding to ID ``\"cuda:0\"``.\n",
    "    data_parallel : bool, optional\n",
    "        Whether or not to use multiple GPUs for training. Default is ``False``.\n",
    "    \"\"\"\n",
    "\n",
    "    def train(self, train_loader: torch.utils.data.DataLoader) -> float:\n",
    "        \"\"\"\n",
    "        The function used to train the regression model.\n",
    "\n",
    "        Parameters\n",
    "        ----------\n",
    "        train_loader: torch.utils.data.DataLoader\n",
    "            The data to train the model on wrapped up in a `PyTorch DataLoader\n",
    "            <https://pytorch.org/docs/stable/data.html#torch.utils.data.DataLoader>`_.\n",
    "\n",
    "        Returns\n",
    "        -------\n",
    "         : float\n",
    "            The average of the batch losses for one training epoch.\n",
    "        \"\"\"\n",
    "        self.model.train()\n",
    "\n",
    "        batch_losses = []\n",
    "        for j, (inputs, outputs) in enumerate(tqdm(train_loader)):\n",
    "            inputs, outputs = inputs.float().to(self.device), outputs.float().to(\n",
    "                self.device\n",
    "            )\n",
    "\n",
    "            self.optimiser.zero_grad()\n",
    "            model_outputs = self.model(inputs)\n",
    "            loss = self.loss_fn(model_outputs, outputs)\n",
    "            loss.backward()\n",
    "            self.optimiser.step()\n",
    "\n",
    "            batch_losses.append(loss.item())\n",
    "\n",
    "        return torch.mean(torch.tensor(batch_losses))\n",
    "\n",
    "    def validation(self, val_loader: torch.utils.data.DataLoader) -> float:\n",
    "        \"\"\"\n",
    "        The function used to validate the regression model.\n",
    "\n",
    "        Parameters\n",
    "        ----------\n",
    "        val_loader : torch.utils.data.DataLoader\n",
    "            The data to validate the model on wrapped up in a `PyTorch\n",
    "            DataLoader\n",
    "            <https://pytorch.org/docs/stable/data.html#torch.utils.data.DataLoader>`_.\n",
    "\n",
    "        Returns\n",
    "        -------\n",
    "         : float\n",
    "            The average of the batch losses for one training epoch.\n",
    "        \"\"\"\n",
    "        self.model.eval()\n",
    "\n",
    "        batch_losses = []\n",
    "        with torch.no_grad():\n",
    "            for inputs, outputs in val_loader:\n",
    "                inputs, outputs = inputs.float().to(self.device), outputs.float().to(\n",
    "                    self.device\n",
    "                )\n",
    "                model_outputs = self.model(inputs)\n",
    "                loss = self.loss_fn(model_outputs, outputs)\n",
    "\n",
    "                batch_losses.append(loss.item())\n",
    "\n",
    "        return torch.mean(torch.tensor(batch_losses))\n"
   ]
  },
  {
   "cell_type": "markdown",
   "id": "4af185c6",
   "metadata": {
    "id": "4af185c6"
   },
   "source": [
    "# Training a PyTorch Classifier\n",
    "\n",
    "The following notebook aims to show how to train a classification deep neural network from one of the \"off the shelf\" models that come as part of the ``torchvision`` module &mdash; specifically the model is known as the ``ResNet18`` model which means it is a residual neural network with 18 layers (details of this are unimportant but it is an adept network for image classification).\n",
    "\n",
    "This will also be trained on the MNIST dataset &mdash; this is just a database of handwritten digits that is used in a lot of deep learning papers, it essentially classifies handwritten digits into 0-9. I'll show some examples below.\n",
    "\n",
    "The first thing we need to do below is import the relevant libraries:\n",
    "\n",
    "- PyTorch is import simply as ``torch``\n",
    "- ``torch.nn`` is the submodule consisting of the loss functions and some building blocks needed to modify the network\n",
    "- ``torch.optim`` is where we get the optimiser from\n",
    "- ``torchvision`` is a sister package to PyTorch which contains the off the shelf models amongst other things\n",
    "- ``TensorDataset`` and ``DataLoader`` being imported from ``torch.utils.data`` is how we put together a dataset in the form PyTorch likes to train the network\n",
    "- ``battle_factory`` is a script I have made and is [available on GitHub](https://github.com/bionictoucan/multi_pow). &mdash; if you're curious the name is a reference to Pokémon.\n",
    "- ``tqdm`` is a nice package that gives a loading bar when wrapped around for loops &mdash; no I don't know why it's called tqdm."
   ]
  },
  {
   "cell_type": "code",
   "execution_count": null,
   "id": "349d6828",
   "metadata": {
    "id": "349d6828"
   },
   "outputs": [],
   "source": [
    "%matplotlib notebook\n",
    "import torch\n",
    "import torch.nn as nn\n",
    "import torch.optim as optim\n",
    "from torchvision.models import resnet18\n",
    "from torch.utils.data import TensorDataset, DataLoader\n",
    "import numpy as np\n",
    "import matplotlib.pyplot as plt\n",
    "# from battle_factory import ClassifierTrainer\n",
    "from tqdm import tqdm\n",
    "import os\n",
    "import imghdr\n",
    "import cv2\n",
    "from os import listdir\n",
    "import glob\n",
    "\n",
    "%matplotlib inline"
   ]
  },
  {
   "cell_type": "markdown",
   "id": "a0dfb765",
   "metadata": {
    "id": "a0dfb765"
   },
   "source": [
    "## Set up the Model\n",
    "\n",
    "The first thing to do is set up the model. We have imported the ResNet18 setup function already above and so the model can be created using this function."
   ]
  },
  {
   "cell_type": "code",
   "execution_count": null,
   "id": "ab191f1b",
   "metadata": {
    "colab": {
     "base_uri": "https://localhost:8080/",
     "height": 66,
     "referenced_widgets": [
      "5d46d7cd2ea549999851064af8f3b86d",
      "e5ff511702b7466ab71cab796e21834c",
      "d8b3789fbeb244969d700bd0dcad1136",
      "0645441c47dc4abb80b07abb575b247a",
      "e56d4a6a9e9d4d1fb5499a419a6577fc",
      "38901222eda447cf9ac70a3f95476256",
      "62fe01cac3eb40abaf7e0adc468fcd22",
      "4ffc77ce727e45f89c374224ee4f12e9",
      "72542b32984d4486a9924b2f2dafd4b6",
      "b476d7ba96d24be89128a7e914aeb72d",
      "e5b820f5b835444c95ce8f2a7944ff4a"
     ]
    },
    "id": "ab191f1b",
    "outputId": "5abbb18d-e61e-4a84-9285-84766f3973b3"
   },
   "outputs": [
    {
     "name": "stderr",
     "output_type": "stream",
     "text": [
      "Downloading: \"https://download.pytorch.org/models/resnet18-f37072fd.pth\" to /root/.cache/torch/hub/checkpoints/resnet18-f37072fd.pth\n"
     ]
    },
    {
     "data": {
      "application/vnd.jupyter.widget-view+json": {
       "model_id": "5d46d7cd2ea549999851064af8f3b86d",
       "version_major": 2,
       "version_minor": 0
      },
      "text/plain": [
       "  0%|          | 0.00/44.7M [00:00<?, ?B/s]"
      ]
     },
     "metadata": {},
     "output_type": "display_data"
    }
   ],
   "source": [
    "resnet = resnet18(pretrained=True)"
   ]
  },
  {
   "cell_type": "markdown",
   "id": "4a523824",
   "metadata": {
    "id": "4a523824"
   },
   "source": [
    "``pretrained=True`` will download a starting set of parameters for the network that has learned to classify objects like cats and dogs into a bunch of classes. I've found that starting from here gives a better result than starting randomly despite the images not being related (I doubt there's Morphologi G3 images in the dataset these parameters come from).\n",
    "\n",
    "Despite having the model built-in we still have to make a few minor adjustments, this is because\n",
    "\n",
    "- The original network is set up to have RGB images whereas the images we have are grayscale. In terms of the computer this means that rather than having three colour channels our images only have one so we need to changed this in the model or it won't run.\n",
    "- The original network classifies the images into 1000 classes, in the example here we will do 10 classes for the digits but for the particle images it will only be two. Again, this needs to be changed.\n",
    "\n",
    "The changes are shown below."
   ]
  },
  {
   "cell_type": "code",
   "execution_count": null,
   "id": "03e79221",
   "metadata": {
    "id": "03e79221"
   },
   "outputs": [],
   "source": [
    "resnet.conv1 = nn.Conv2d(1, 64, kernel_size=7, stride=2, padding=3)\n",
    "resnet.fc = nn.Linear(512, 2)"
   ]
  },
  {
   "cell_type": "markdown",
   "id": "3f174d01",
   "metadata": {
    "id": "3f174d01"
   },
   "source": [
    "``conv1`` here is what the first layer is called in the network, the change here is where the 1 is in the ``nn.Conv2d`` object. In the original network, it has all of the same parameters but 3 rather than 1 (since the images it is trained on are RGB rather than grayscale). ``nn.Conv2d`` defines a convolutional operation on the data with 64 sets of learnable parameters. The other arguments here should not be changed but make sure ``kernel_size`` is set to 7, ``stride`` to 2 and ``padding`` to 3.\n",
    "\n",
    "``fc`` is the final layer, and it is only the second number that is important (this is the number of classes) &mdash; keep the first number as 512.\n",
    "\n",
    "The model is now all set up, no further work needed here."
   ]
  },
  {
   "cell_type": "markdown",
   "id": "d1f99480",
   "metadata": {
    "id": "d1f99480"
   },
   "source": [
    "## Downloading and Visualising the Data (this step is only for this example)\n",
    "\n",
    "The following is just the steps needed to download the MNIST data, it will not be used in the Morphologi case since you already have the data."
   ]
  },
  {
   "cell_type": "code",
   "execution_count": null,
   "id": "c8a52833",
   "metadata": {
    "id": "c8a52833"
   },
   "outputs": [],
   "source": [
    "import torchvision.datasets as datasets"
   ]
  },
  {
   "cell_type": "code",
   "execution_count": null,
   "id": "9add8dd2",
   "metadata": {
    "colab": {
     "base_uri": "https://localhost:8080/",
     "height": 423,
     "referenced_widgets": [
      "d9741a7b48894606be0a9d807f87138b",
      "9796509147e641dcbc8288ca041ac0ce",
      "dd77ff2c85554a20a9edceb083ae7f73",
      "f463376886c94186b5f9c67e1c6c022e",
      "79c819f94a574064b93b3bf3fbdb4785",
      "c7520d202b974d4b8c8193e03e83a366",
      "68539494834045e9a548fd90496c32ca",
      "9f1e4ab8f4924f848a4240c442594778",
      "f50d99dffd8a4979b0fb34d2cdfbc9d4",
      "81c3b33fd4d34a4da2ba536a6bd7ba96",
      "8ad328bbdcb04af0a87666ee0df91937",
      "8d3bb5a4cf0f44a59cdc98d52b9c9c82",
      "b313d4c9c4054f729630c0d970ad4665",
      "bbb3659f4c3244fcac24ca1f06b36986",
      "d28506426c5846ac9b324a8fb0b00330",
      "fb3c0a830ee04a699b5160d3b3f12f64",
      "600438f114014c68aaeb5951841a3351",
      "c6d6cdae9eb14d45b67492ebfe0c7754",
      "945778cbed9f40968fa9ca81f5cdd8b5",
      "d3f5b19e363849b4a6136c4af02e7323",
      "58cf05a99d9e49c498b5adb2a65acdfd",
      "4f730c1c7f314c29a9ada9004399db3d",
      "3262385a143b408faae1056005c279fc",
      "b22e3e0d991143b69aa034e5d1e9da36",
      "039b89f8036b4c2d9e4a884032f4dda2",
      "fb38d639adf647d0a8d8978757b5512a",
      "91bd3a4f75044493a3330c9956d4abca",
      "1133d27b6a3f41b5830a4ef89bc07c59",
      "b059082a3bf54df6bf6e3b7f2a38ff39",
      "96c102aa116f45f8a27ec46485ddb829",
      "c64f2748f46440b7b3d6a2231fbf40a9",
      "c01d9d065470471dbcdf275b7ab28969",
      "689d5d63c39749b98ff367a83cbb254f",
      "4fb568b1a5b84a6e8d328b5717499508",
      "7acb1aa85f844acd841e0fffa59e9fbf",
      "ddd53488b30142b4a70460b50e8e8096",
      "94555c2be2904e44b7ec680fe1a69276",
      "b5f1d3ad158040ce9af80c5bec58c498",
      "04ba2fdac886416fa80414662a1bba9a",
      "039cf90dfcc14205ada242f2a03e2851",
      "4452ee78ff594f26897b278bd151f94a",
      "0eddd9cc16d6493cb0084537b50b9983",
      "89e4b2008e114d95bcf3c320bd4d6f4d",
      "7f4fc931c2a5447d8067fc3819d03ec3"
     ]
    },
    "id": "9add8dd2",
    "outputId": "6db78e6e-e028-4732-9166-3834a0254368"
   },
   "outputs": [
    {
     "name": "stdout",
     "output_type": "stream",
     "text": [
      "Downloading http://yann.lecun.com/exdb/mnist/train-images-idx3-ubyte.gz\n",
      "Downloading http://yann.lecun.com/exdb/mnist/train-images-idx3-ubyte.gz to C:\\Users\\paul-\\Downloads/MNIST/raw/train-images-idx3-ubyte.gz\n"
     ]
    },
    {
     "data": {
      "application/vnd.jupyter.widget-view+json": {
       "model_id": "d9741a7b48894606be0a9d807f87138b",
       "version_major": 2,
       "version_minor": 0
      },
      "text/plain": [
       "  0%|          | 0/9912422 [00:00<?, ?it/s]"
      ]
     },
     "metadata": {},
     "output_type": "display_data"
    },
    {
     "name": "stdout",
     "output_type": "stream",
     "text": [
      "Extracting C:\\Users\\paul-\\Downloads/MNIST/raw/train-images-idx3-ubyte.gz to C:\\Users\\paul-\\Downloads/MNIST/raw\n",
      "\n",
      "Downloading http://yann.lecun.com/exdb/mnist/train-labels-idx1-ubyte.gz\n",
      "Downloading http://yann.lecun.com/exdb/mnist/train-labels-idx1-ubyte.gz to C:\\Users\\paul-\\Downloads/MNIST/raw/train-labels-idx1-ubyte.gz\n"
     ]
    },
    {
     "data": {
      "application/vnd.jupyter.widget-view+json": {
       "model_id": "8d3bb5a4cf0f44a59cdc98d52b9c9c82",
       "version_major": 2,
       "version_minor": 0
      },
      "text/plain": [
       "  0%|          | 0/28881 [00:00<?, ?it/s]"
      ]
     },
     "metadata": {},
     "output_type": "display_data"
    },
    {
     "name": "stdout",
     "output_type": "stream",
     "text": [
      "Extracting C:\\Users\\paul-\\Downloads/MNIST/raw/train-labels-idx1-ubyte.gz to C:\\Users\\paul-\\Downloads/MNIST/raw\n",
      "\n",
      "Downloading http://yann.lecun.com/exdb/mnist/t10k-images-idx3-ubyte.gz\n",
      "Downloading http://yann.lecun.com/exdb/mnist/t10k-images-idx3-ubyte.gz to C:\\Users\\paul-\\Downloads/MNIST/raw/t10k-images-idx3-ubyte.gz\n"
     ]
    },
    {
     "data": {
      "application/vnd.jupyter.widget-view+json": {
       "model_id": "3262385a143b408faae1056005c279fc",
       "version_major": 2,
       "version_minor": 0
      },
      "text/plain": [
       "  0%|          | 0/1648877 [00:00<?, ?it/s]"
      ]
     },
     "metadata": {},
     "output_type": "display_data"
    },
    {
     "name": "stdout",
     "output_type": "stream",
     "text": [
      "Extracting C:\\Users\\paul-\\Downloads/MNIST/raw/t10k-images-idx3-ubyte.gz to C:\\Users\\paul-\\Downloads/MNIST/raw\n",
      "\n",
      "Downloading http://yann.lecun.com/exdb/mnist/t10k-labels-idx1-ubyte.gz\n",
      "Downloading http://yann.lecun.com/exdb/mnist/t10k-labels-idx1-ubyte.gz to C:\\Users\\paul-\\Downloads/MNIST/raw/t10k-labels-idx1-ubyte.gz\n"
     ]
    },
    {
     "data": {
      "application/vnd.jupyter.widget-view+json": {
       "model_id": "4fb568b1a5b84a6e8d328b5717499508",
       "version_major": 2,
       "version_minor": 0
      },
      "text/plain": [
       "  0%|          | 0/4542 [00:00<?, ?it/s]"
      ]
     },
     "metadata": {},
     "output_type": "display_data"
    },
    {
     "name": "stdout",
     "output_type": "stream",
     "text": [
      "Extracting C:\\Users\\paul-\\Downloads/MNIST/raw/t10k-labels-idx1-ubyte.gz to C:\\Users\\paul-\\Downloads/MNIST/raw\n",
      "\n"
     ]
    }
   ],
   "source": [
    "mnist = datasets.MNIST(root=r\"C:\\Users\\paul-\\Downloads\", train=True, download=True)"
   ]
  },
  {
   "cell_type": "markdown",
   "id": "bf2f32c2",
   "metadata": {
    "id": "bf2f32c2"
   },
   "source": [
    "While downloading this data, the ``mnist`` variable we have defined will also be populated with the dataset so we can extract the images and the labels."
   ]
  },
  {
   "cell_type": "code",
   "execution_count": null,
   "id": "f4a94e8e",
   "metadata": {
    "id": "f4a94e8e"
   },
   "outputs": [],
   "source": [
    "images = mnist.data\n",
    "labels = mnist.targets"
   ]
  },
  {
   "cell_type": "markdown",
   "id": "1a813973",
   "metadata": {
    "id": "1a813973"
   },
   "source": [
    "Now let's plot one of the images to see what it looks like."
   ]
  },
  {
   "cell_type": "code",
   "execution_count": null,
   "id": "dcf6fb88",
   "metadata": {
    "colab": {
     "base_uri": "https://localhost:8080/",
     "height": 298
    },
    "id": "dcf6fb88",
    "outputId": "4d9e8102-49d4-4bb0-8a3f-fe4896d9723a"
   },
   "outputs": [
    {
     "data": {
      "text/plain": [
       "Text(0.5, 1.0, '5')"
      ]
     },
     "execution_count": 14,
     "metadata": {},
     "output_type": "execute_result"
    },
    {
     "data": {
      "image/png": "[encoded data removed]",
      "text/plain": [
       "<Figure size 432x288 with 1 Axes>"
      ]
     },
     "metadata": {
      "needs_background": "light"
     },
     "output_type": "display_data"
    }
   ],
   "source": [
    "plt.figure()\n",
    "plt.imshow(images[0], cmap=\"Greys_r\")\n",
    "plt.title(labels[0].item())"
   ]
  },
  {
   "cell_type": "markdown",
   "id": "0db0ca85",
   "metadata": {
    "id": "0db0ca85"
   },
   "source": [
    "The above image is a handwritten number 5 with the title plotted its corresponding label."
   ]
  },
  {
   "cell_type": "markdown",
   "id": "0c57a587",
   "metadata": {
    "id": "0c57a587"
   },
   "source": [
    "## Constructing the Optimiser and Loss Function\n",
    "\n",
    "Now that we have the model and the data, the two other things we need are the loss function (a measure of how well the network does) and the optimiser (this tells the network how to improve based on the value of the loss function). These are built-in to PyTorch so do not need to be implemented from scratch.\n",
    "\n",
    "We will use the [cross entropy loss function](https://machinelearningmastery.com/cross-entropy-for-machine-learning/) and [stochastic gradient descent](https://medium.com/@divakar_239/stochastic-vs-batch-gradient-descent-8820568eada1) (SGD) with momentum for the optimiser:\n",
    "\n",
    "- Cross entropy loss (CEL) measures the similarity between two probability distributions. What the network really outputs is how confident it is that the image is a part of each class. This can be interpreted as a discrete probability distribution for the classes. The true target for an image can be thought of in terms of this same probability distribution but the probability will be 1 when it is the correct class and 0 otherwise. Therefore comparing the network's output probability distribution and this probability distribution will give a good measure of performance.\n",
    "\n",
    "- SGD is a method for function optimisation and works using the gradient of the loss function to guide the parameters in the neural network &mdash; if the gradient is steeper there will be a bigger update to the parameter to look for a better solution. Momentum in this case adds a kind of \"acceleration\" term to the gradient meaning if the gradient is larger then the optimiser will move the network away from that set of parameters faster but when the gradient is lower, the optimiser will make even smaller changes than regular SGD. This has been found to be really useful since we are optimising in a \"gazillion-billion\" dimensional space meaning there are plenty of unwelcome holes we can fall down and regular SGD may get stuck here leading to a bad model."
   ]
  },
  {
   "cell_type": "code",
   "execution_count": null,
   "id": "29d08bf0",
   "metadata": {
    "id": "29d08bf0"
   },
   "outputs": [],
   "source": [
    "loss = nn.CrossEntropyLoss()\n",
    "optimi = optim.SGD(resnet.parameters(), lr=5e-4, momentum=0.9)"
   ]
  },
  {
   "cell_type": "markdown",
   "id": "28923a0d",
   "metadata": {
    "id": "28923a0d"
   },
   "source": [
    "Momentum is usually given a value of 0.9 as it has found to be optimal when including momentum in the optimiser, however experimenting with values between 0.85-0.95 can be beneficial.\n",
    "\n",
    "The ``lr`` keyword argument specified here is known as the *learning rate* of the optmiser. This is a number that multiplies the gradient of the loss function and determines the amplitude of the change applied to the parameters. It is typically a small number, here we have chosen 5e-4."
   ]
  },
  {
   "cell_type": "markdown",
   "id": "a919f6c7",
   "metadata": {
    "id": "a919f6c7"
   },
   "source": [
    "## Load Data and scale"
   ]
  },
  {
   "cell_type": "code",
   "execution_count": null,
   "id": "08eec42a",
   "metadata": {
    "id": "08eec42a"
   },
   "outputs": [],
   "source": [
    "unfocused_imgs = [cv2.imread(file) for file in glob.glob('/content/drive/MyDrive/Paul sandu/Requirement/Thesis stuff/data/unfocused/*.bmp')]\n",
    "focused_imgs= [cv2.imread(file) for file in glob.glob('/content/drive/MyDrive/Paul sandu/Requirement/Thesis stuff/data/focused and partially focused/*.bmp')]"
   ]
  },
  {
   "cell_type": "code",
   "execution_count": null,
   "id": "ee6e5633",
   "metadata": {
    "id": "ee6e5633"
   },
   "outputs": [],
   "source": [
    "unfocused_imgs_resized=[cv2.resize(image,(512,512)) for image in unfocused_imgs]\n",
    "focused_imgs_resized=[cv2.resize(image,(512,512)) for image in focused_imgs]\n",
    "\n",
    "unfocused_imgs_filenames = [file.split(\"\\\\\")[-1] for file in glob.glob('/content/drive/My Drive/Paul sandu/Requirement/Thesis stuff/data/unfocused/*.bmp')]\n",
    "focused_imgs_filenames= [file.split(\"\\\\\")[-1] for file in glob.glob('/content/drive/My Drive/Paul sandu/Requirement/Thesis stuff/data/focused and partially focused/*.bmp')]"
   ]
  },
  {
   "cell_type": "code",
   "execution_count": null,
   "id": "6e43d427",
   "metadata": {
    "colab": {
     "base_uri": "https://localhost:8080/"
    },
    "id": "6e43d427",
    "outputId": "c0266d58-e0ba-4761-d890-4902b05ed580"
   },
   "outputs": [
    {
     "name": "stdout",
     "output_type": "stream",
     "text": [
      "['/content/drive/My Drive/Paul sandu/Requirement/Thesis stuff/data/unfocused/JoMg_AB6833_Final_Product_C1_18240.bmp', '/content/drive/My Drive/Paul sandu/Requirement/Thesis stuff/data/unfocused/JoMg_AB6833_Final_Product_C1_18257.bmp', '/content/drive/My Drive/Paul sandu/Requirement/Thesis stuff/data/unfocused/JoMg_AB6833_Final_Product_C1_18244.bmp', '/content/drive/My Drive/Paul sandu/Requirement/Thesis stuff/data/unfocused/JoMg_AB6833_Final_Product_C1_18270.bmp', '/content/drive/My Drive/Paul sandu/Requirement/Thesis stuff/data/unfocused/JoMg_AB6833_Final_Product_C1_18232.bmp', '/content/drive/My Drive/Paul sandu/Requirement/Thesis stuff/data/unfocused/JoMg_AB6833_Final_Product_C1_18268.bmp', '/content/drive/My Drive/Paul sandu/Requirement/Thesis stuff/data/unfocused/JoMg_AB6833_Final_Product_C1_18292.bmp', '/content/drive/My Drive/Paul sandu/Requirement/Thesis stuff/data/unfocused/JoMg_AB6833_Final_Product_C1_18233.bmp', '/content/drive/My Drive/Paul sandu/Requirement/Thesis stuff/data/unfocused/JoMg_AB6833_Final_Product_C1_18311.bmp', '/content/drive/My Drive/Paul sandu/Requirement/Thesis stuff/data/unfocused/JoMg_AB6833_Final_Product_C1_18277.bmp', '/content/drive/My Drive/Paul sandu/Requirement/Thesis stuff/data/unfocused/JoMg_AB6833_Final_Product_C1_18307.bmp', '/content/drive/My Drive/Paul sandu/Requirement/Thesis stuff/data/unfocused/JoMg_AB6833_Final_Product_C1_1826.bmp', '/content/drive/My Drive/Paul sandu/Requirement/Thesis stuff/data/unfocused/JoMg_AB6833_Final_Product_C1_18252.bmp', '/content/drive/My Drive/Paul sandu/Requirement/Thesis stuff/data/unfocused/JoMg_AB6833_Final_Product_C1_18258.bmp', '/content/drive/My Drive/Paul sandu/Requirement/Thesis stuff/data/unfocused/JoMg_AB6833_Final_Product_C1_18261.bmp', '/content/drive/My Drive/Paul sandu/Requirement/Thesis stuff/data/unfocused/JoMg_AB6833_Final_Product_C1_18293.bmp', '/content/drive/My Drive/Paul sandu/Requirement/Thesis stuff/data/unfocused/JoMg_AB6833_Final_Product_C1_18282.bmp', '/content/drive/My Drive/Paul sandu/Requirement/Thesis stuff/data/unfocused/JoMg_AB6833_Final_Product_C1_18275.bmp', '/content/drive/My Drive/Paul sandu/Requirement/Thesis stuff/data/unfocused/JoMg_AB6833_Final_Product_C1_18249.bmp', '/content/drive/My Drive/Paul sandu/Requirement/Thesis stuff/data/unfocused/JoMg_AB6833_Final_Product_C1_18295.bmp', '/content/drive/My Drive/Paul sandu/Requirement/Thesis stuff/data/unfocused/JoMg_AB6833_Final_Product_C1_18274.bmp', '/content/drive/My Drive/Paul sandu/Requirement/Thesis stuff/data/unfocused/JoMg_AB6833_Final_Product_C1_18304.bmp', '/content/drive/My Drive/Paul sandu/Requirement/Thesis stuff/data/unfocused/JoMg_AB6833_Final_Product_C1_18306.bmp', '/content/drive/My Drive/Paul sandu/Requirement/Thesis stuff/data/unfocused/JoMg_AB6833_Final_Product_C1_18313.bmp', '/content/drive/My Drive/Paul sandu/Requirement/Thesis stuff/data/unfocused/JoMg_AB6833_Final_Product_C1_18312.bmp', '/content/drive/My Drive/Paul sandu/Requirement/Thesis stuff/data/unfocused/JoMg_AB6833_Final_Product_C1_18299.bmp', '/content/drive/My Drive/Paul sandu/Requirement/Thesis stuff/data/unfocused/JoMg_AB6833_Final_Product_C1_18309.bmp', '/content/drive/My Drive/Paul sandu/Requirement/Thesis stuff/data/unfocused/JoMg_AB6833_Final_Product_C1_18267.bmp', '/content/drive/My Drive/Paul sandu/Requirement/Thesis stuff/data/unfocused/JoMg_AB6833_Final_Product_C1_18303.bmp', '/content/drive/My Drive/Paul sandu/Requirement/Thesis stuff/data/unfocused/JoMg_AB6833_Final_Product_C1_18265.bmp', '/content/drive/My Drive/Paul sandu/Requirement/Thesis stuff/data/unfocused/JoMg_AB6833_Final_Product_C1_18256.bmp', '/content/drive/My Drive/Paul sandu/Requirement/Thesis stuff/data/unfocused/JoMg_AB6833_Final_Product_C1_18280.bmp', '/content/drive/My Drive/Paul sandu/Requirement/Thesis stuff/data/unfocused/JoMg_AB6833_Final_Product_C1_18308.bmp', '/content/drive/My Drive/Paul sandu/Requirement/Thesis stuff/data/unfocused/JoMg_AB6833_Final_Product_C1_198.bmp', '/content/drive/My Drive/Paul sandu/Requirement/Thesis stuff/data/unfocused/JoMg_AB6833_Final_Product_C1_18324.bmp', '/content/drive/My Drive/Paul sandu/Requirement/Thesis stuff/data/unfocused/JoMg_AB6833_Final_Product_C1_18325.bmp', '/content/drive/My Drive/Paul sandu/Requirement/Thesis stuff/data/unfocused/JoMg_AB6833_Final_Product_C1_1988.bmp', '/content/drive/My Drive/Paul sandu/Requirement/Thesis stuff/data/unfocused/JoMg_AB6833_Final_Product_C1_1974.bmp', '/content/drive/My Drive/Paul sandu/Requirement/Thesis stuff/data/unfocused/JoMg_AB6833_Final_Product_C1_193.bmp', '/content/drive/My Drive/Paul sandu/Requirement/Thesis stuff/data/unfocused/JoMg_AB6833_Final_Product_C1_2009.bmp', '/content/drive/My Drive/Paul sandu/Requirement/Thesis stuff/data/unfocused/JoMg_AB6833_Final_Product_C1_1897.bmp', '/content/drive/My Drive/Paul sandu/Requirement/Thesis stuff/data/unfocused/JoMg_AB6833_Final_Product_C1_1842.bmp', '/content/drive/My Drive/Paul sandu/Requirement/Thesis stuff/data/unfocused/JoMg_AB6833_Final_Product_C1_18328.bmp', '/content/drive/My Drive/Paul sandu/Requirement/Thesis stuff/data/unfocused/JoMg_AB6833_Final_Product_C1_1895.bmp', '/content/drive/My Drive/Paul sandu/Requirement/Thesis stuff/data/unfocused/JoMg_AB6833_Final_Product_C1_1951.bmp', '/content/drive/My Drive/Paul sandu/Requirement/Thesis stuff/data/unfocused/JoMg_AB6833_Final_Product_C1_1979.bmp', '/content/drive/My Drive/Paul sandu/Requirement/Thesis stuff/data/unfocused/JoMg_AB6833_Final_Product_C1_1867.bmp', '/content/drive/My Drive/Paul sandu/Requirement/Thesis stuff/data/unfocused/JoMg_AB6833_Final_Product_C1_18334.bmp', '/content/drive/My Drive/Paul sandu/Requirement/Thesis stuff/data/unfocused/JoMg_AB6833_Final_Product_C1_1948.bmp', '/content/drive/My Drive/Paul sandu/Requirement/Thesis stuff/data/unfocused/JoMg_AB6833_Final_Product_C1_2058.bmp', '/content/drive/My Drive/Paul sandu/Requirement/Thesis stuff/data/unfocused/JoMg_AB6833_Final_Product_C1_1952.bmp', '/content/drive/My Drive/Paul sandu/Requirement/Thesis stuff/data/unfocused/JoMg_AB6833_Final_Product_C1_18365.bmp', '/content/drive/My Drive/Paul sandu/Requirement/Thesis stuff/data/unfocused/JoMg_AB6833_Final_Product_C1_2055.bmp', '/content/drive/My Drive/Paul sandu/Requirement/Thesis stuff/data/unfocused/JoMg_AB6833_Final_Product_C1_1922.bmp', '/content/drive/My Drive/Paul sandu/Requirement/Thesis stuff/data/unfocused/JoMg_AB6833_Final_Product_C1_18339.bmp', '/content/drive/My Drive/Paul sandu/Requirement/Thesis stuff/data/unfocused/JoMg_AB6833_Final_Product_C1_18359.bmp', '/content/drive/My Drive/Paul sandu/Requirement/Thesis stuff/data/unfocused/JoMg_AB6833_Final_Product_C1_1906.bmp', '/content/drive/My Drive/Paul sandu/Requirement/Thesis stuff/data/unfocused/JoMg_AB6833_Final_Product_C1_18315.bmp', '/content/drive/My Drive/Paul sandu/Requirement/Thesis stuff/data/unfocused/JoMg_AB6833_Final_Product_C1_1973.bmp', '/content/drive/My Drive/Paul sandu/Requirement/Thesis stuff/data/unfocused/JoMg_AB6833_Final_Product_C1_18340.bmp', '/content/drive/My Drive/Paul sandu/Requirement/Thesis stuff/data/unfocused/JoMg_AB6833_Final_Product_C1_18369.bmp', '/content/drive/My Drive/Paul sandu/Requirement/Thesis stuff/data/unfocused/JoMg_AB6833_Final_Product_C1_18337.bmp', '/content/drive/My Drive/Paul sandu/Requirement/Thesis stuff/data/unfocused/JoMg_AB6833_Final_Product_C1_1950.bmp', '/content/drive/My Drive/Paul sandu/Requirement/Thesis stuff/data/unfocused/JoMg_AB6833_Final_Product_C1_2019.bmp', '/content/drive/My Drive/Paul sandu/Requirement/Thesis stuff/data/unfocused/JoMg_AB6833_Final_Product_C1_18314.bmp', '/content/drive/My Drive/Paul sandu/Requirement/Thesis stuff/data/unfocused/JoMg_AB6833_Final_Product_C1_1880.bmp', '/content/drive/My Drive/Paul sandu/Requirement/Thesis stuff/data/unfocused/JoMg_AB6833_Final_Product_C1_2092.bmp', '/content/drive/My Drive/Paul sandu/Requirement/Thesis stuff/data/unfocused/JoMg_AB6833_Final_Product_C1_2273.bmp', '/content/drive/My Drive/Paul sandu/Requirement/Thesis stuff/data/unfocused/JoMg_AB6833_Final_Product_C1_228.bmp', '/content/drive/My Drive/Paul sandu/Requirement/Thesis stuff/data/unfocused/JoMg_AB6833_Final_Product_C1_2097.bmp', '/content/drive/My Drive/Paul sandu/Requirement/Thesis stuff/data/unfocused/JoMg_AB6833_Final_Product_C1_2063.bmp', '/content/drive/My Drive/Paul sandu/Requirement/Thesis stuff/data/unfocused/JoMg_AB6833_Final_Product_C1_209.bmp', '/content/drive/My Drive/Paul sandu/Requirement/Thesis stuff/data/unfocused/JoMg_AB6833_Final_Product_C1_2280.bmp', '/content/drive/My Drive/Paul sandu/Requirement/Thesis stuff/data/unfocused/JoMg_AB6833_Final_Product_C1_2216.bmp', '/content/drive/My Drive/Paul sandu/Requirement/Thesis stuff/data/unfocused/JoMg_AB6833_Final_Product_C1_2256.bmp', '/content/drive/My Drive/Paul sandu/Requirement/Thesis stuff/data/unfocused/JoMg_AB6833_Final_Product_C1_2282.bmp', '/content/drive/My Drive/Paul sandu/Requirement/Thesis stuff/data/unfocused/JoMg_AB6833_Final_Product_C1_2306.bmp', '/content/drive/My Drive/Paul sandu/Requirement/Thesis stuff/data/unfocused/JoMg_AB6833_Final_Product_C1_2139.bmp', '/content/drive/My Drive/Paul sandu/Requirement/Thesis stuff/data/unfocused/JoMg_AB6833_Final_Product_C1_2074.bmp', '/content/drive/My Drive/Paul sandu/Requirement/Thesis stuff/data/unfocused/JoMg_AB6833_Final_Product_C1_2300.bmp', '/content/drive/My Drive/Paul sandu/Requirement/Thesis stuff/data/unfocused/JoMg_AB6833_Final_Product_C1_2202.bmp', '/content/drive/My Drive/Paul sandu/Requirement/Thesis stuff/data/unfocused/JoMg_AB6833_Final_Product_C1_2199.bmp', '/content/drive/My Drive/Paul sandu/Requirement/Thesis stuff/data/unfocused/JoMg_AB6833_Final_Product_C1_2131.bmp', '/content/drive/My Drive/Paul sandu/Requirement/Thesis stuff/data/unfocused/JoMg_AB6833_Final_Product_C1_2064.bmp', '/content/drive/My Drive/Paul sandu/Requirement/Thesis stuff/data/unfocused/JoMg_AB6833_Final_Product_C1_2250.bmp', '/content/drive/My Drive/Paul sandu/Requirement/Thesis stuff/data/unfocused/JoMg_AB6833_Final_Product_C1_2088.bmp', '/content/drive/My Drive/Paul sandu/Requirement/Thesis stuff/data/unfocused/JoMg_AB6833_Final_Product_C1_215.bmp', '/content/drive/My Drive/Paul sandu/Requirement/Thesis stuff/data/unfocused/JoMg_AB6833_Final_Product_C1_2110.bmp', '/content/drive/My Drive/Paul sandu/Requirement/Thesis stuff/data/unfocused/JoMg_AB6833_Final_Product_C1_2319.bmp', '/content/drive/My Drive/Paul sandu/Requirement/Thesis stuff/data/unfocused/JoMg_AB6833_Final_Product_C1_2176.bmp', '/content/drive/My Drive/Paul sandu/Requirement/Thesis stuff/data/unfocused/JoMg_AB6833_Final_Product_C1_2272.bmp', '/content/drive/My Drive/Paul sandu/Requirement/Thesis stuff/data/unfocused/JoMg_AB6833_Final_Product_C1_2187.bmp', '/content/drive/My Drive/Paul sandu/Requirement/Thesis stuff/data/unfocused/JoMg_AB6833_Final_Product_C1_2188.bmp', '/content/drive/My Drive/Paul sandu/Requirement/Thesis stuff/data/unfocused/JoMg_AB6833_Final_Product_C1_2226.bmp', '/content/drive/My Drive/Paul sandu/Requirement/Thesis stuff/data/unfocused/JoMg_AB6833_Final_Product_C1_2238.bmp', '/content/drive/My Drive/Paul sandu/Requirement/Thesis stuff/data/unfocused/JoMg_AB6833_Final_Product_C1_2189.bmp', '/content/drive/My Drive/Paul sandu/Requirement/Thesis stuff/data/unfocused/JoMg_AB6833_Final_Product_C1_2076.bmp', '/content/drive/My Drive/Paul sandu/Requirement/Thesis stuff/data/unfocused/JoMg_AB6833_Final_Product_C1_2125.bmp', '/content/drive/My Drive/Paul sandu/Requirement/Thesis stuff/data/unfocused/JoMg_AB6833_Final_Product_C1_2239.bmp', '/content/drive/My Drive/Paul sandu/Requirement/Thesis stuff/data/unfocused/JoMg_AB6833_Final_Product_C1_2149.bmp', '/content/drive/My Drive/Paul sandu/Requirement/Thesis stuff/data/unfocused/JoMg_AB6833_Final_Product_C1_2128.bmp', '/content/drive/My Drive/Paul sandu/Requirement/Thesis stuff/data/unfocused/JoMg_AB6833_Final_Product_C1_225.bmp', '/content/drive/My Drive/Paul sandu/Requirement/Thesis stuff/data/unfocused/JoMg_AB6833_Final_Product_C1_2613.bmp', '/content/drive/My Drive/Paul sandu/Requirement/Thesis stuff/data/unfocused/JoMg_AB6833_Final_Product_C1_235.bmp', '/content/drive/My Drive/Paul sandu/Requirement/Thesis stuff/data/unfocused/JoMg_AB6833_Final_Product_C1_248.bmp', '/content/drive/My Drive/Paul sandu/Requirement/Thesis stuff/data/unfocused/JoMg_AB6833_Final_Product_C1_2433.bmp', '/content/drive/My Drive/Paul sandu/Requirement/Thesis stuff/data/unfocused/JoMg_AB6833_Final_Product_C1_2402.bmp', '/content/drive/My Drive/Paul sandu/Requirement/Thesis stuff/data/unfocused/JoMg_AB6833_Final_Product_C1_2426.bmp', '/content/drive/My Drive/Paul sandu/Requirement/Thesis stuff/data/unfocused/JoMg_AB6833_Final_Product_C1_2552.bmp', '/content/drive/My Drive/Paul sandu/Requirement/Thesis stuff/data/unfocused/JoMg_AB6833_Final_Product_C1_2476.bmp', '/content/drive/My Drive/Paul sandu/Requirement/Thesis stuff/data/unfocused/JoMg_AB6833_Final_Product_C1_241.bmp', '/content/drive/My Drive/Paul sandu/Requirement/Thesis stuff/data/unfocused/JoMg_AB6833_Final_Product_C1_236.bmp', '/content/drive/My Drive/Paul sandu/Requirement/Thesis stuff/data/unfocused/JoMg_AB6833_Final_Product_C1_2606.bmp', '/content/drive/My Drive/Paul sandu/Requirement/Thesis stuff/data/unfocused/JoMg_AB6833_Final_Product_C1_2341.bmp', '/content/drive/My Drive/Paul sandu/Requirement/Thesis stuff/data/unfocused/JoMg_AB6833_Final_Product_C1_2560.bmp', '/content/drive/My Drive/Paul sandu/Requirement/Thesis stuff/data/unfocused/JoMg_AB6833_Final_Product_C1_2414.bmp', '/content/drive/My Drive/Paul sandu/Requirement/Thesis stuff/data/unfocused/JoMg_AB6833_Final_Product_C1_2322.bmp', '/content/drive/My Drive/Paul sandu/Requirement/Thesis stuff/data/unfocused/JoMg_AB6833_Final_Product_C1_233.bmp', '/content/drive/My Drive/Paul sandu/Requirement/Thesis stuff/data/unfocused/JoMg_AB6833_Final_Product_C1_2349.bmp', '/content/drive/My Drive/Paul sandu/Requirement/Thesis stuff/data/unfocused/JoMg_AB6833_Final_Product_C1_2342.bmp', '/content/drive/My Drive/Paul sandu/Requirement/Thesis stuff/data/unfocused/JoMg_AB6833_Final_Product_C1_2446.bmp', '/content/drive/My Drive/Paul sandu/Requirement/Thesis stuff/data/unfocused/JoMg_AB6833_Final_Product_C1_2405.bmp', '/content/drive/My Drive/Paul sandu/Requirement/Thesis stuff/data/unfocused/JoMg_AB6833_Final_Product_C1_2340.bmp', '/content/drive/My Drive/Paul sandu/Requirement/Thesis stuff/data/unfocused/JoMg_AB6833_Final_Product_C1_2425.bmp', '/content/drive/My Drive/Paul sandu/Requirement/Thesis stuff/data/unfocused/JoMg_AB6833_Final_Product_C1_2614.bmp', '/content/drive/My Drive/Paul sandu/Requirement/Thesis stuff/data/unfocused/JoMg_AB6833_Final_Product_C1_2568.bmp', '/content/drive/My Drive/Paul sandu/Requirement/Thesis stuff/data/unfocused/JoMg_AB6833_Final_Product_C1_234.bmp', '/content/drive/My Drive/Paul sandu/Requirement/Thesis stuff/data/unfocused/JoMg_AB6833_Final_Product_C1_2330.bmp', '/content/drive/My Drive/Paul sandu/Requirement/Thesis stuff/data/unfocused/JoMg_AB6833_Final_Product_C1_2353.bmp', '/content/drive/My Drive/Paul sandu/Requirement/Thesis stuff/data/unfocused/JoMg_AB6833_Final_Product_C1_2539.bmp', '/content/drive/My Drive/Paul sandu/Requirement/Thesis stuff/data/unfocused/JoMg_AB6833_Final_Product_C1_258.bmp', '/content/drive/My Drive/Paul sandu/Requirement/Thesis stuff/data/unfocused/JoMg_AB6833_Final_Product_C1_2453.bmp', '/content/drive/My Drive/Paul sandu/Requirement/Thesis stuff/data/unfocused/JoMg_AB6833_Final_Product_C1_2437.bmp', '/content/drive/My Drive/Paul sandu/Requirement/Thesis stuff/data/unfocused/JoMg_AB6833_Final_Product_C1_2321.bmp', '/content/drive/My Drive/Paul sandu/Requirement/Thesis stuff/data/unfocused/JoMg_AB6833_Final_Product_C1_2509.bmp', '/content/drive/My Drive/Paul sandu/Requirement/Thesis stuff/data/unfocused/JoMg_AB6833_Final_Product_C1_2865.bmp', '/content/drive/My Drive/Paul sandu/Requirement/Thesis stuff/data/unfocused/JoMg_AB6833_Final_Product_C1_2726.bmp', '/content/drive/My Drive/Paul sandu/Requirement/Thesis stuff/data/unfocused/JoMg_AB6833_Final_Product_C1_2662.bmp', '/content/drive/My Drive/Paul sandu/Requirement/Thesis stuff/data/unfocused/JoMg_AB6833_Final_Product_C1_2677.bmp', '/content/drive/My Drive/Paul sandu/Requirement/Thesis stuff/data/unfocused/JoMg_AB6833_Final_Product_C1_2778.bmp', '/content/drive/My Drive/Paul sandu/Requirement/Thesis stuff/data/unfocused/JoMg_AB6833_Final_Product_C1_2649.bmp', '/content/drive/My Drive/Paul sandu/Requirement/Thesis stuff/data/unfocused/JoMg_AB6833_Final_Product_C1_2734.bmp', '/content/drive/My Drive/Paul sandu/Requirement/Thesis stuff/data/unfocused/JoMg_AB6833_Final_Product_C1_2728.bmp', '/content/drive/My Drive/Paul sandu/Requirement/Thesis stuff/data/unfocused/JoMg_AB6833_Final_Product_C1_2801.bmp', '/content/drive/My Drive/Paul sandu/Requirement/Thesis stuff/data/unfocused/JoMg_AB6833_Final_Product_C1_2879.bmp', '/content/drive/My Drive/Paul sandu/Requirement/Thesis stuff/data/unfocused/JoMg_AB6833_Final_Product_C1_275.bmp', '/content/drive/My Drive/Paul sandu/Requirement/Thesis stuff/data/unfocused/JoMg_AB6833_Final_Product_C1_2826.bmp', '/content/drive/My Drive/Paul sandu/Requirement/Thesis stuff/data/unfocused/JoMg_AB6833_Final_Product_C1_2785.bmp', '/content/drive/My Drive/Paul sandu/Requirement/Thesis stuff/data/unfocused/JoMg_AB6833_Final_Product_C1_269.bmp', '/content/drive/My Drive/Paul sandu/Requirement/Thesis stuff/data/unfocused/JoMg_AB6833_Final_Product_C1_2775.bmp', '/content/drive/My Drive/Paul sandu/Requirement/Thesis stuff/data/unfocused/JoMg_AB6833_Final_Product_C1_2817.bmp', '/content/drive/My Drive/Paul sandu/Requirement/Thesis stuff/data/unfocused/JoMg_AB6833_Final_Product_C1_2747.bmp', '/content/drive/My Drive/Paul sandu/Requirement/Thesis stuff/data/unfocused/JoMg_AB6833_Final_Product_C1_2825.bmp', '/content/drive/My Drive/Paul sandu/Requirement/Thesis stuff/data/unfocused/JoMg_AB6833_Final_Product_C1_2736.bmp', '/content/drive/My Drive/Paul sandu/Requirement/Thesis stuff/data/unfocused/JoMg_AB6833_Final_Product_C1_2882.bmp', '/content/drive/My Drive/Paul sandu/Requirement/Thesis stuff/data/unfocused/JoMg_AB6833_Final_Product_C1_2804.bmp', '/content/drive/My Drive/Paul sandu/Requirement/Thesis stuff/data/unfocused/JoMg_AB6833_Final_Product_C1_2869.bmp', '/content/drive/My Drive/Paul sandu/Requirement/Thesis stuff/data/unfocused/JoMg_AB6833_Final_Product_C1_2733.bmp', '/content/drive/My Drive/Paul sandu/Requirement/Thesis stuff/data/unfocused/JoMg_AB6833_Final_Product_C1_2615.bmp', '/content/drive/My Drive/Paul sandu/Requirement/Thesis stuff/data/unfocused/JoMg_AB6833_Final_Product_C1_2863.bmp', '/content/drive/My Drive/Paul sandu/Requirement/Thesis stuff/data/unfocused/JoMg_AB6833_Final_Product_C1_280.bmp', '/content/drive/My Drive/Paul sandu/Requirement/Thesis stuff/data/unfocused/JoMg_AB6833_Final_Product_C1_2867.bmp', '/content/drive/My Drive/Paul sandu/Requirement/Thesis stuff/data/unfocused/JoMg_AB6833_Final_Product_C1_2781.bmp', '/content/drive/My Drive/Paul sandu/Requirement/Thesis stuff/data/unfocused/JoMg_AB6833_Final_Product_C1_2710.bmp', '/content/drive/My Drive/Paul sandu/Requirement/Thesis stuff/data/unfocused/JoMg_AB6833_Final_Product_C1_2630.bmp', '/content/drive/My Drive/Paul sandu/Requirement/Thesis stuff/data/unfocused/JoMg_AB6833_Final_Product_C1_3129.bmp', '/content/drive/My Drive/Paul sandu/Requirement/Thesis stuff/data/unfocused/JoMg_AB6833_Final_Product_C1_2978.bmp', '/content/drive/My Drive/Paul sandu/Requirement/Thesis stuff/data/unfocused/JoMg_AB6833_Final_Product_C1_3057.bmp', '/content/drive/My Drive/Paul sandu/Requirement/Thesis stuff/data/unfocused/JoMg_AB6833_Final_Product_C1_3017.bmp', '/content/drive/My Drive/Paul sandu/Requirement/Thesis stuff/data/unfocused/JoMg_AB6833_Final_Product_C1_3195.bmp', '/content/drive/My Drive/Paul sandu/Requirement/Thesis stuff/data/unfocused/JoMg_AB6833_Final_Product_C1_311.bmp', '/content/drive/My Drive/Paul sandu/Requirement/Thesis stuff/data/unfocused/JoMg_AB6833_Final_Product_C1_295.bmp', '/content/drive/My Drive/Paul sandu/Requirement/Thesis stuff/data/unfocused/JoMg_AB6833_Final_Product_C1_2912.bmp', '/content/drive/My Drive/Paul sandu/Requirement/Thesis stuff/data/unfocused/JoMg_AB6833_Final_Product_C1_2951.bmp', '/content/drive/My Drive/Paul sandu/Requirement/Thesis stuff/data/unfocused/JoMg_AB6833_Final_Product_C1_3051.bmp', '/content/drive/My Drive/Paul sandu/Requirement/Thesis stuff/data/unfocused/JoMg_AB6833_Final_Product_C1_3093.bmp', '/content/drive/My Drive/Paul sandu/Requirement/Thesis stuff/data/unfocused/JoMg_AB6833_Final_Product_C1_3064.bmp', '/content/drive/My Drive/Paul sandu/Requirement/Thesis stuff/data/unfocused/JoMg_AB6833_Final_Product_C1_3213.bmp', '/content/drive/My Drive/Paul sandu/Requirement/Thesis stuff/data/unfocused/JoMg_AB6833_Final_Product_C1_2969.bmp', '/content/drive/My Drive/Paul sandu/Requirement/Thesis stuff/data/unfocused/JoMg_AB6833_Final_Product_C1_3030.bmp', '/content/drive/My Drive/Paul sandu/Requirement/Thesis stuff/data/unfocused/JoMg_AB6833_Final_Product_C1_3070.bmp', '/content/drive/My Drive/Paul sandu/Requirement/Thesis stuff/data/unfocused/JoMg_AB6833_Final_Product_C1_3058.bmp', '/content/drive/My Drive/Paul sandu/Requirement/Thesis stuff/data/unfocused/JoMg_AB6833_Final_Product_C1_2920.bmp', '/content/drive/My Drive/Paul sandu/Requirement/Thesis stuff/data/unfocused/JoMg_AB6833_Final_Product_C1_3199.bmp', '/content/drive/My Drive/Paul sandu/Requirement/Thesis stuff/data/unfocused/JoMg_AB6833_Final_Product_C1_3113.bmp', '/content/drive/My Drive/Paul sandu/Requirement/Thesis stuff/data/unfocused/JoMg_AB6833_Final_Product_C1_2945.bmp', '/content/drive/My Drive/Paul sandu/Requirement/Thesis stuff/data/unfocused/JoMg_AB6833_Final_Product_C1_3179.bmp', '/content/drive/My Drive/Paul sandu/Requirement/Thesis stuff/data/unfocused/JoMg_AB6833_Final_Product_C1_3065.bmp', '/content/drive/My Drive/Paul sandu/Requirement/Thesis stuff/data/unfocused/JoMg_AB6833_Final_Product_C1_3090.bmp', '/content/drive/My Drive/Paul sandu/Requirement/Thesis stuff/data/unfocused/JoMg_AB6833_Final_Product_C1_3174.bmp', '/content/drive/My Drive/Paul sandu/Requirement/Thesis stuff/data/unfocused/JoMg_AB6833_Final_Product_C1_293.bmp', '/content/drive/My Drive/Paul sandu/Requirement/Thesis stuff/data/unfocused/JoMg_AB6833_Final_Product_C1_2977.bmp', '/content/drive/My Drive/Paul sandu/Requirement/Thesis stuff/data/unfocused/JoMg_AB6833_Final_Product_C1_3149.bmp', '/content/drive/My Drive/Paul sandu/Requirement/Thesis stuff/data/unfocused/JoMg_AB6833_Final_Product_C1_3165.bmp', '/content/drive/My Drive/Paul sandu/Requirement/Thesis stuff/data/unfocused/JoMg_AB6833_Final_Product_C1_3000.bmp', '/content/drive/My Drive/Paul sandu/Requirement/Thesis stuff/data/unfocused/JoMg_AB6833_Final_Product_C1_2939.bmp', '/content/drive/My Drive/Paul sandu/Requirement/Thesis stuff/data/unfocused/JoMg_AB6833_Final_Product_C1_2899.bmp', '/content/drive/My Drive/Paul sandu/Requirement/Thesis stuff/data/unfocused/JoMg_AB6833_Final_Product_C1_3146.bmp', '/content/drive/My Drive/Paul sandu/Requirement/Thesis stuff/data/unfocused/JoMg_AB6833_Final_Product_C1_3083.bmp', '/content/drive/My Drive/Paul sandu/Requirement/Thesis stuff/data/unfocused/JoMg_AB6833_Final_Product_C1_319.bmp', '/content/drive/My Drive/Paul sandu/Requirement/Thesis stuff/data/unfocused/JoMg_AB6833_Final_Product_C1_3297.bmp', '/content/drive/My Drive/Paul sandu/Requirement/Thesis stuff/data/unfocused/JoMg_AB6833_Final_Product_C1_3513.bmp', '/content/drive/My Drive/Paul sandu/Requirement/Thesis stuff/data/unfocused/JoMg_AB6833_Final_Product_C1_348.bmp', '/content/drive/My Drive/Paul sandu/Requirement/Thesis stuff/data/unfocused/JoMg_AB6833_Final_Product_C1_3384.bmp', '/content/drive/My Drive/Paul sandu/Requirement/Thesis stuff/data/unfocused/JoMg_AB6833_Final_Product_C1_3490.bmp', '/content/drive/My Drive/Paul sandu/Requirement/Thesis stuff/data/unfocused/JoMg_AB6833_Final_Product_C1_3362.bmp', '/content/drive/My Drive/Paul sandu/Requirement/Thesis stuff/data/unfocused/JoMg_AB6833_Final_Product_C1_3368.bmp', '/content/drive/My Drive/Paul sandu/Requirement/Thesis stuff/data/unfocused/JoMg_AB6833_Final_Product_C1_3503.bmp', '/content/drive/My Drive/Paul sandu/Requirement/Thesis stuff/data/unfocused/JoMg_AB6833_Final_Product_C1_3411.bmp', '/content/drive/My Drive/Paul sandu/Requirement/Thesis stuff/data/unfocused/JoMg_AB6833_Final_Product_C1_3270.bmp', '/content/drive/My Drive/Paul sandu/Requirement/Thesis stuff/data/unfocused/JoMg_AB6833_Final_Product_C1_3279.bmp', '/content/drive/My Drive/Paul sandu/Requirement/Thesis stuff/data/unfocused/JoMg_AB6833_Final_Product_C1_3373.bmp', '/content/drive/My Drive/Paul sandu/Requirement/Thesis stuff/data/unfocused/JoMg_AB6833_Final_Product_C1_3504.bmp', '/content/drive/My Drive/Paul sandu/Requirement/Thesis stuff/data/unfocused/JoMg_AB6833_Final_Product_C1_3420.bmp', '/content/drive/My Drive/Paul sandu/Requirement/Thesis stuff/data/unfocused/JoMg_AB6833_Final_Product_C1_3286.bmp', '/content/drive/My Drive/Paul sandu/Requirement/Thesis stuff/data/unfocused/JoMg_AB6833_Final_Product_C1_3447.bmp', '/content/drive/My Drive/Paul sandu/Requirement/Thesis stuff/data/unfocused/JoMg_AB6833_Final_Product_C1_3216.bmp', '/content/drive/My Drive/Paul sandu/Requirement/Thesis stuff/data/unfocused/JoMg_AB6833_Final_Product_C1_3424.bmp', '/content/drive/My Drive/Paul sandu/Requirement/Thesis stuff/data/unfocused/JoMg_AB6833_Final_Product_C1_3364.bmp', '/content/drive/My Drive/Paul sandu/Requirement/Thesis stuff/data/unfocused/JoMg_AB6833_Final_Product_C1_3314.bmp', '/content/drive/My Drive/Paul sandu/Requirement/Thesis stuff/data/unfocused/JoMg_AB6833_Final_Product_C1_3380.bmp', '/content/drive/My Drive/Paul sandu/Requirement/Thesis stuff/data/unfocused/JoMg_AB6833_Final_Product_C1_3405.bmp', '/content/drive/My Drive/Paul sandu/Requirement/Thesis stuff/data/unfocused/JoMg_AB6833_Final_Product_C1_3471.bmp', '/content/drive/My Drive/Paul sandu/Requirement/Thesis stuff/data/unfocused/JoMg_AB6833_Final_Product_C1_3356.bmp', '/content/drive/My Drive/Paul sandu/Requirement/Thesis stuff/data/unfocused/JoMg_AB6833_Final_Product_C1_3283.bmp', '/content/drive/My Drive/Paul sandu/Requirement/Thesis stuff/data/unfocused/JoMg_AB6833_Final_Product_C1_3374.bmp', '/content/drive/My Drive/Paul sandu/Requirement/Thesis stuff/data/unfocused/JoMg_AB6833_Final_Product_C1_3333.bmp', '/content/drive/My Drive/Paul sandu/Requirement/Thesis stuff/data/unfocused/JoMg_AB6833_Final_Product_C1_3484.bmp', '/content/drive/My Drive/Paul sandu/Requirement/Thesis stuff/data/unfocused/JoMg_AB6833_Final_Product_C1_3337.bmp', '/content/drive/My Drive/Paul sandu/Requirement/Thesis stuff/data/unfocused/JoMg_AB6833_Final_Product_C1_3266.bmp', '/content/drive/My Drive/Paul sandu/Requirement/Thesis stuff/data/unfocused/JoMg_AB6833_Final_Product_C1_3351.bmp', '/content/drive/My Drive/Paul sandu/Requirement/Thesis stuff/data/unfocused/JoMg_AB6833_Final_Product_C1_3341.bmp', '/content/drive/My Drive/Paul sandu/Requirement/Thesis stuff/data/unfocused/JoMg_AB6833_Final_Product_C1_3253.bmp', '/content/drive/My Drive/Paul sandu/Requirement/Thesis stuff/data/unfocused/JoMg_AB6833_Final_Product_C1_3739.bmp', '/content/drive/My Drive/Paul sandu/Requirement/Thesis stuff/data/unfocused/JoMg_AB6833_Final_Product_C1_3801.bmp', '/content/drive/My Drive/Paul sandu/Requirement/Thesis stuff/data/unfocused/JoMg_AB6833_Final_Product_C1_3752.bmp', '/content/drive/My Drive/Paul sandu/Requirement/Thesis stuff/data/unfocused/JoMg_AB6833_Final_Product_C1_3663.bmp', '/content/drive/My Drive/Paul sandu/Requirement/Thesis stuff/data/unfocused/JoMg_AB6833_Final_Product_C1_3757.bmp', '/content/drive/My Drive/Paul sandu/Requirement/Thesis stuff/data/unfocused/JoMg_AB6833_Final_Product_C1_3737.bmp', '/content/drive/My Drive/Paul sandu/Requirement/Thesis stuff/data/unfocused/JoMg_AB6833_Final_Product_C1_3789.bmp', '/content/drive/My Drive/Paul sandu/Requirement/Thesis stuff/data/unfocused/JoMg_AB6833_Final_Product_C1_3603.bmp', '/content/drive/My Drive/Paul sandu/Requirement/Thesis stuff/data/unfocused/JoMg_AB6833_Final_Product_C1_3787.bmp', '/content/drive/My Drive/Paul sandu/Requirement/Thesis stuff/data/unfocused/JoMg_AB6833_Final_Product_C1_3553.bmp', '/content/drive/My Drive/Paul sandu/Requirement/Thesis stuff/data/unfocused/JoMg_AB6833_Final_Product_C1_3515.bmp', '/content/drive/My Drive/Paul sandu/Requirement/Thesis stuff/data/unfocused/JoMg_AB6833_Final_Product_C1_3827.bmp', '/content/drive/My Drive/Paul sandu/Requirement/Thesis stuff/data/unfocused/JoMg_AB6833_Final_Product_C1_3539.bmp', '/content/drive/My Drive/Paul sandu/Requirement/Thesis stuff/data/unfocused/JoMg_AB6833_Final_Product_C1_3570.bmp', '/content/drive/My Drive/Paul sandu/Requirement/Thesis stuff/data/unfocused/JoMg_AB6833_Final_Product_C1_3557.bmp', '/content/drive/My Drive/Paul sandu/Requirement/Thesis stuff/data/unfocused/JoMg_AB6833_Final_Product_C1_3579.bmp', '/content/drive/My Drive/Paul sandu/Requirement/Thesis stuff/data/unfocused/JoMg_AB6833_Final_Product_C1_3730.bmp', '/content/drive/My Drive/Paul sandu/Requirement/Thesis stuff/data/unfocused/JoMg_AB6833_Final_Product_C1_3606.bmp', '/content/drive/My Drive/Paul sandu/Requirement/Thesis stuff/data/unfocused/JoMg_AB6833_Final_Product_C1_3668.bmp', '/content/drive/My Drive/Paul sandu/Requirement/Thesis stuff/data/unfocused/JoMg_AB6833_Final_Product_C1_3788.bmp', '/content/drive/My Drive/Paul sandu/Requirement/Thesis stuff/data/unfocused/JoMg_AB6833_Final_Product_C1_3700.bmp', '/content/drive/My Drive/Paul sandu/Requirement/Thesis stuff/data/unfocused/JoMg_AB6833_Final_Product_C1_3655.bmp', '/content/drive/My Drive/Paul sandu/Requirement/Thesis stuff/data/unfocused/JoMg_AB6833_Final_Product_C1_3618.bmp', '/content/drive/My Drive/Paul sandu/Requirement/Thesis stuff/data/unfocused/JoMg_AB6833_Final_Product_C1_3629.bmp', '/content/drive/My Drive/Paul sandu/Requirement/Thesis stuff/data/unfocused/JoMg_AB6833_Final_Product_C1_359.bmp', '/content/drive/My Drive/Paul sandu/Requirement/Thesis stuff/data/unfocused/JoMg_AB6833_Final_Product_C1_3753.bmp', '/content/drive/My Drive/Paul sandu/Requirement/Thesis stuff/data/unfocused/JoMg_AB6833_Final_Product_C1_3678.bmp', '/content/drive/My Drive/Paul sandu/Requirement/Thesis stuff/data/unfocused/JoMg_AB6833_Final_Product_C1_3708.bmp', '/content/drive/My Drive/Paul sandu/Requirement/Thesis stuff/data/unfocused/JoMg_AB6833_Final_Product_C1_3564.bmp', '/content/drive/My Drive/Paul sandu/Requirement/Thesis stuff/data/unfocused/JoMg_AB6833_Final_Product_C1_4132.bmp', '/content/drive/My Drive/Paul sandu/Requirement/Thesis stuff/data/unfocused/JoMg_AB6833_Final_Product_C1_3885.bmp', '/content/drive/My Drive/Paul sandu/Requirement/Thesis stuff/data/unfocused/JoMg_AB6833_Final_Product_C1_3997.bmp', '/content/drive/My Drive/Paul sandu/Requirement/Thesis stuff/data/unfocused/JoMg_AB6833_Final_Product_C1_4128.bmp', '/content/drive/My Drive/Paul sandu/Requirement/Thesis stuff/data/unfocused/JoMg_AB6833_Final_Product_C1_3926.bmp', '/content/drive/My Drive/Paul sandu/Requirement/Thesis stuff/data/unfocused/JoMg_AB6833_Final_Product_C1_4157.bmp', '/content/drive/My Drive/Paul sandu/Requirement/Thesis stuff/data/unfocused/JoMg_AB6833_Final_Product_C1_3898.bmp', '/content/drive/My Drive/Paul sandu/Requirement/Thesis stuff/data/unfocused/JoMg_AB6833_Final_Product_C1_387.bmp', '/content/drive/My Drive/Paul sandu/Requirement/Thesis stuff/data/unfocused/JoMg_AB6833_Final_Product_C1_3959.bmp', '/content/drive/My Drive/Paul sandu/Requirement/Thesis stuff/data/unfocused/JoMg_AB6833_Final_Product_C1_3851.bmp', '/content/drive/My Drive/Paul sandu/Requirement/Thesis stuff/data/unfocused/JoMg_AB6833_Final_Product_C1_3964.bmp', '/content/drive/My Drive/Paul sandu/Requirement/Thesis stuff/data/unfocused/JoMg_AB6833_Final_Product_C1_4108.bmp', '/content/drive/My Drive/Paul sandu/Requirement/Thesis stuff/data/unfocused/JoMg_AB6833_Final_Product_C1_4036.bmp', '/content/drive/My Drive/Paul sandu/Requirement/Thesis stuff/data/unfocused/JoMg_AB6833_Final_Product_C1_4170.bmp', '/content/drive/My Drive/Paul sandu/Requirement/Thesis stuff/data/unfocused/JoMg_AB6833_Final_Product_C1_409.bmp', '/content/drive/My Drive/Paul sandu/Requirement/Thesis stuff/data/unfocused/JoMg_AB6833_Final_Product_C1_399.bmp', '/content/drive/My Drive/Paul sandu/Requirement/Thesis stuff/data/unfocused/JoMg_AB6833_Final_Product_C1_3967.bmp', '/content/drive/My Drive/Paul sandu/Requirement/Thesis stuff/data/unfocused/JoMg_AB6833_Final_Product_C1_4171.bmp', '/content/drive/My Drive/Paul sandu/Requirement/Thesis stuff/data/unfocused/JoMg_AB6833_Final_Product_C1_4074.bmp', '/content/drive/My Drive/Paul sandu/Requirement/Thesis stuff/data/unfocused/JoMg_AB6833_Final_Product_C1_4162.bmp', '/content/drive/My Drive/Paul sandu/Requirement/Thesis stuff/data/unfocused/JoMg_AB6833_Final_Product_C1_4027.bmp', '/content/drive/My Drive/Paul sandu/Requirement/Thesis stuff/data/unfocused/JoMg_AB6833_Final_Product_C1_4071.bmp', '/content/drive/My Drive/Paul sandu/Requirement/Thesis stuff/data/unfocused/JoMg_AB6833_Final_Product_C1_3837.bmp', '/content/drive/My Drive/Paul sandu/Requirement/Thesis stuff/data/unfocused/JoMg_AB6833_Final_Product_C1_3841.bmp', '/content/drive/My Drive/Paul sandu/Requirement/Thesis stuff/data/unfocused/JoMg_AB6833_Final_Product_C1_4007.bmp', '/content/drive/My Drive/Paul sandu/Requirement/Thesis stuff/data/unfocused/JoMg_AB6833_Final_Product_C1_3895.bmp', '/content/drive/My Drive/Paul sandu/Requirement/Thesis stuff/data/unfocused/JoMg_AB6833_Final_Product_C1_4115.bmp', '/content/drive/My Drive/Paul sandu/Requirement/Thesis stuff/data/unfocused/JoMg_AB6833_Final_Product_C1_4150.bmp', '/content/drive/My Drive/Paul sandu/Requirement/Thesis stuff/data/unfocused/JoMg_AB6833_Final_Product_C1_3978.bmp', '/content/drive/My Drive/Paul sandu/Requirement/Thesis stuff/data/unfocused/JoMg_AB6833_Final_Product_C1_3865.bmp', '/content/drive/My Drive/Paul sandu/Requirement/Thesis stuff/data/unfocused/JoMg_AB6833_Final_Product_C1_4058.bmp', '/content/drive/My Drive/Paul sandu/Requirement/Thesis stuff/data/unfocused/JoMg_AB6833_Final_Product_C1_401.bmp', '/content/drive/My Drive/Paul sandu/Requirement/Thesis stuff/data/unfocused/JoMg_AB6833_Final_Product_C1_3999.bmp', '/content/drive/My Drive/Paul sandu/Requirement/Thesis stuff/data/unfocused/JoMg_AB6833_Final_Product_C1_4331.bmp', '/content/drive/My Drive/Paul sandu/Requirement/Thesis stuff/data/unfocused/JoMg_AB6833_Final_Product_C1_4371.bmp', '/content/drive/My Drive/Paul sandu/Requirement/Thesis stuff/data/unfocused/JoMg_AB6833_Final_Product_C1_4347.bmp', '/content/drive/My Drive/Paul sandu/Requirement/Thesis stuff/data/unfocused/JoMg_AB6833_Final_Product_C1_4459.bmp', '/content/drive/My Drive/Paul sandu/Requirement/Thesis stuff/data/unfocused/JoMg_AB6833_Final_Product_C1_4197.bmp', '/content/drive/My Drive/Paul sandu/Requirement/Thesis stuff/data/unfocused/JoMg_AB6833_Final_Product_C1_4330.bmp', '/content/drive/My Drive/Paul sandu/Requirement/Thesis stuff/data/unfocused/JoMg_AB6833_Final_Product_C1_4424.bmp', '/content/drive/My Drive/Paul sandu/Requirement/Thesis stuff/data/unfocused/JoMg_AB6833_Final_Product_C1_4291.bmp', '/content/drive/My Drive/Paul sandu/Requirement/Thesis stuff/data/unfocused/JoMg_AB6833_Final_Product_C1_4296.bmp', '/content/drive/My Drive/Paul sandu/Requirement/Thesis stuff/data/unfocused/JoMg_AB6833_Final_Product_C1_4227.bmp', '/content/drive/My Drive/Paul sandu/Requirement/Thesis stuff/data/unfocused/JoMg_AB6833_Final_Product_C1_419.bmp', '/content/drive/My Drive/Paul sandu/Requirement/Thesis stuff/data/unfocused/JoMg_AB6833_Final_Product_C1_4232.bmp', '/content/drive/My Drive/Paul sandu/Requirement/Thesis stuff/data/unfocused/JoMg_AB6833_Final_Product_C1_4380.bmp', '/content/drive/My Drive/Paul sandu/Requirement/Thesis stuff/data/unfocused/JoMg_AB6833_Final_Product_C1_4195.bmp', '/content/drive/My Drive/Paul sandu/Requirement/Thesis stuff/data/unfocused/JoMg_AB6833_Final_Product_C1_4363.bmp', '/content/drive/My Drive/Paul sandu/Requirement/Thesis stuff/data/unfocused/JoMg_AB6833_Final_Product_C1_4348.bmp', '/content/drive/My Drive/Paul sandu/Requirement/Thesis stuff/data/unfocused/JoMg_AB6833_Final_Product_C1_4389.bmp', '/content/drive/My Drive/Paul sandu/Requirement/Thesis stuff/data/unfocused/JoMg_AB6833_Final_Product_C1_4245.bmp', '/content/drive/My Drive/Paul sandu/Requirement/Thesis stuff/data/unfocused/JoMg_AB6833_Final_Product_C1_4349.bmp', '/content/drive/My Drive/Paul sandu/Requirement/Thesis stuff/data/unfocused/JoMg_AB6833_Final_Product_C1_4261.bmp', '/content/drive/My Drive/Paul sandu/Requirement/Thesis stuff/data/unfocused/JoMg_AB6833_Final_Product_C1_4209.bmp', '/content/drive/My Drive/Paul sandu/Requirement/Thesis stuff/data/unfocused/JoMg_AB6833_Final_Product_C1_4419.bmp', '/content/drive/My Drive/Paul sandu/Requirement/Thesis stuff/data/unfocused/JoMg_AB6833_Final_Product_C1_4329.bmp', '/content/drive/My Drive/Paul sandu/Requirement/Thesis stuff/data/unfocused/JoMg_AB6833_Final_Product_C1_418.bmp', '/content/drive/My Drive/Paul sandu/Requirement/Thesis stuff/data/unfocused/JoMg_AB6833_Final_Product_C1_4470.bmp', '/content/drive/My Drive/Paul sandu/Requirement/Thesis stuff/data/unfocused/JoMg_AB6833_Final_Product_C1_4317.bmp', '/content/drive/My Drive/Paul sandu/Requirement/Thesis stuff/data/unfocused/JoMg_AB6833_Final_Product_C1_4463.bmp', '/content/drive/My Drive/Paul sandu/Requirement/Thesis stuff/data/unfocused/JoMg_AB6833_Final_Product_C1_4201.bmp', '/content/drive/My Drive/Paul sandu/Requirement/Thesis stuff/data/unfocused/JoMg_AB6833_Final_Product_C1_446.bmp', '/content/drive/My Drive/Paul sandu/Requirement/Thesis stuff/data/unfocused/JoMg_AB6833_Final_Product_C1_4234.bmp', '/content/drive/My Drive/Paul sandu/Requirement/Thesis stuff/data/unfocused/JoMg_AB6833_Final_Product_C1_4272.bmp', '/content/drive/My Drive/Paul sandu/Requirement/Thesis stuff/data/unfocused/JoMg_AB6833_Final_Product_C1_4206.bmp', '/content/drive/My Drive/Paul sandu/Requirement/Thesis stuff/data/unfocused/JoMg_AB6833_Final_Product_C1_4268.bmp', '/content/drive/My Drive/Paul sandu/Requirement/Thesis stuff/data/unfocused/JoMg_AB6833_Final_Product_C1_4450.bmp', '/content/drive/My Drive/Paul sandu/Requirement/Thesis stuff/data/unfocused/JoMg_AB6833_Final_Product_C1_454.bmp', '/content/drive/My Drive/Paul sandu/Requirement/Thesis stuff/data/unfocused/JoMg_AB6833_Final_Product_C1_4664.bmp', '/content/drive/My Drive/Paul sandu/Requirement/Thesis stuff/data/unfocused/JoMg_AB6833_Final_Product_C1_4562.bmp', '/content/drive/My Drive/Paul sandu/Requirement/Thesis stuff/data/unfocused/JoMg_AB6833_Final_Product_C1_4641.bmp', '/content/drive/My Drive/Paul sandu/Requirement/Thesis stuff/data/unfocused/JoMg_AB6833_Final_Product_C1_4737.bmp', '/content/drive/My Drive/Paul sandu/Requirement/Thesis stuff/data/unfocused/JoMg_AB6833_Final_Product_C1_4504.bmp', '/content/drive/My Drive/Paul sandu/Requirement/Thesis stuff/data/unfocused/JoMg_AB6833_Final_Product_C1_4608.bmp', '/content/drive/My Drive/Paul sandu/Requirement/Thesis stuff/data/unfocused/JoMg_AB6833_Final_Product_C1_4792.bmp', '/content/drive/My Drive/Paul sandu/Requirement/Thesis stuff/data/unfocused/JoMg_AB6833_Final_Product_C1_4507.bmp', '/content/drive/My Drive/Paul sandu/Requirement/Thesis stuff/data/unfocused/JoMg_AB6833_Final_Product_C1_4638.bmp', '/content/drive/My Drive/Paul sandu/Requirement/Thesis stuff/data/unfocused/JoMg_AB6833_Final_Product_C1_4796.bmp', '/content/drive/My Drive/Paul sandu/Requirement/Thesis stuff/data/unfocused/JoMg_AB6833_Final_Product_C1_4684.bmp', '/content/drive/My Drive/Paul sandu/Requirement/Thesis stuff/data/unfocused/JoMg_AB6833_Final_Product_C1_4747.bmp', '/content/drive/My Drive/Paul sandu/Requirement/Thesis stuff/data/unfocused/JoMg_AB6833_Final_Product_C1_4581.bmp', '/content/drive/My Drive/Paul sandu/Requirement/Thesis stuff/data/unfocused/JoMg_AB6833_Final_Product_C1_4826.bmp', '/content/drive/My Drive/Paul sandu/Requirement/Thesis stuff/data/unfocused/JoMg_AB6833_Final_Product_C1_4502.bmp', '/content/drive/My Drive/Paul sandu/Requirement/Thesis stuff/data/unfocused/JoMg_AB6833_Final_Product_C1_4595.bmp', '/content/drive/My Drive/Paul sandu/Requirement/Thesis stuff/data/unfocused/JoMg_AB6833_Final_Product_C1_4771.bmp', '/content/drive/My Drive/Paul sandu/Requirement/Thesis stuff/data/unfocused/JoMg_AB6833_Final_Product_C1_4586.bmp', '/content/drive/My Drive/Paul sandu/Requirement/Thesis stuff/data/unfocused/JoMg_AB6833_Final_Product_C1_4558.bmp', '/content/drive/My Drive/Paul sandu/Requirement/Thesis stuff/data/unfocused/JoMg_AB6833_Final_Product_C1_4788.bmp', '/content/drive/My Drive/Paul sandu/Requirement/Thesis stuff/data/unfocused/JoMg_AB6833_Final_Product_C1_4551.bmp', '/content/drive/My Drive/Paul sandu/Requirement/Thesis stuff/data/unfocused/JoMg_AB6833_Final_Product_C1_4823.bmp', '/content/drive/My Drive/Paul sandu/Requirement/Thesis stuff/data/unfocused/JoMg_AB6833_Final_Product_C1_4496.bmp', '/content/drive/My Drive/Paul sandu/Requirement/Thesis stuff/data/unfocused/JoMg_AB6833_Final_Product_C1_4480.bmp', '/content/drive/My Drive/Paul sandu/Requirement/Thesis stuff/data/unfocused/JoMg_AB6833_Final_Product_C1_459.bmp', '/content/drive/My Drive/Paul sandu/Requirement/Thesis stuff/data/unfocused/JoMg_AB6833_Final_Product_C1_4726.bmp', '/content/drive/My Drive/Paul sandu/Requirement/Thesis stuff/data/unfocused/JoMg_AB6833_Final_Product_C1_4609.bmp', '/content/drive/My Drive/Paul sandu/Requirement/Thesis stuff/data/unfocused/JoMg_AB6833_Final_Product_C1_4649.bmp', '/content/drive/My Drive/Paul sandu/Requirement/Thesis stuff/data/unfocused/JoMg_AB6833_Final_Product_C1_4605.bmp', '/content/drive/My Drive/Paul sandu/Requirement/Thesis stuff/data/unfocused/JoMg_AB6833_Final_Product_C1_4732.bmp', '/content/drive/My Drive/Paul sandu/Requirement/Thesis stuff/data/unfocused/JoMg_AB6833_Final_Product_C1_4478.bmp', '/content/drive/My Drive/Paul sandu/Requirement/Thesis stuff/data/unfocused/JoMg_AB6833_Final_Product_C1_4515.bmp', '/content/drive/My Drive/Paul sandu/Requirement/Thesis stuff/data/unfocused/JoMg_AB6833_Final_Product_C1_4659.bmp', '/content/drive/My Drive/Paul sandu/Requirement/Thesis stuff/data/unfocused/JoMg_AB6833_Final_Product_C1_4830.bmp', '/content/drive/My Drive/Paul sandu/Requirement/Thesis stuff/data/unfocused/JoMg_AB6833_Final_Product_C1_5154.bmp', '/content/drive/My Drive/Paul sandu/Requirement/Thesis stuff/data/unfocused/JoMg_AB6833_Final_Product_C1_5110.bmp', '/content/drive/My Drive/Paul sandu/Requirement/Thesis stuff/data/unfocused/JoMg_AB6833_Final_Product_C1_4899.bmp', '/content/drive/My Drive/Paul sandu/Requirement/Thesis stuff/data/unfocused/JoMg_AB6833_Final_Product_C1_4828.bmp', '/content/drive/My Drive/Paul sandu/Requirement/Thesis stuff/data/unfocused/JoMg_AB6833_Final_Product_C1_4917.bmp', '/content/drive/My Drive/Paul sandu/Requirement/Thesis stuff/data/unfocused/JoMg_AB6833_Final_Product_C1_4885.bmp', '/content/drive/My Drive/Paul sandu/Requirement/Thesis stuff/data/unfocused/JoMg_AB6833_Final_Product_C1_4891.bmp', '/content/drive/My Drive/Paul sandu/Requirement/Thesis stuff/data/unfocused/JoMg_AB6833_Final_Product_C1_493.bmp', '/content/drive/My Drive/Paul sandu/Requirement/Thesis stuff/data/unfocused/JoMg_AB6833_Final_Product_C1_5078.bmp', '/content/drive/My Drive/Paul sandu/Requirement/Thesis stuff/data/unfocused/JoMg_AB6833_Final_Product_C1_4849.bmp', '/content/drive/My Drive/Paul sandu/Requirement/Thesis stuff/data/unfocused/JoMg_AB6833_Final_Product_C1_4900.bmp', '/content/drive/My Drive/Paul sandu/Requirement/Thesis stuff/data/unfocused/JoMg_AB6833_Final_Product_C1_4834.bmp', '/content/drive/My Drive/Paul sandu/Requirement/Thesis stuff/data/unfocused/JoMg_AB6833_Final_Product_C1_5103.bmp', '/content/drive/My Drive/Paul sandu/Requirement/Thesis stuff/data/unfocused/JoMg_AB6833_Final_Product_C1_5005.bmp', '/content/drive/My Drive/Paul sandu/Requirement/Thesis stuff/data/unfocused/JoMg_AB6833_Final_Product_C1_5076.bmp', '/content/drive/My Drive/Paul sandu/Requirement/Thesis stuff/data/unfocused/JoMg_AB6833_Final_Product_C1_497.bmp', '/content/drive/My Drive/Paul sandu/Requirement/Thesis stuff/data/unfocused/JoMg_AB6833_Final_Product_C1_5101.bmp', '/content/drive/My Drive/Paul sandu/Requirement/Thesis stuff/data/unfocused/JoMg_AB6833_Final_Product_C1_5007.bmp', '/content/drive/My Drive/Paul sandu/Requirement/Thesis stuff/data/unfocused/JoMg_AB6833_Final_Product_C1_5177.bmp', '/content/drive/My Drive/Paul sandu/Requirement/Thesis stuff/data/unfocused/JoMg_AB6833_Final_Product_C1_5019.bmp', '/content/drive/My Drive/Paul sandu/Requirement/Thesis stuff/data/unfocused/JoMg_AB6833_Final_Product_C1_5041.bmp', '/content/drive/My Drive/Paul sandu/Requirement/Thesis stuff/data/unfocused/JoMg_AB6833_Final_Product_C1_5048.bmp', '/content/drive/My Drive/Paul sandu/Requirement/Thesis stuff/data/unfocused/JoMg_AB6833_Final_Product_C1_5113.bmp', '/content/drive/My Drive/Paul sandu/Requirement/Thesis stuff/data/unfocused/JoMg_AB6833_Final_Product_C1_5075.bmp', '/content/drive/My Drive/Paul sandu/Requirement/Thesis stuff/data/unfocused/JoMg_AB6833_Final_Product_C1_506.bmp', '/content/drive/My Drive/Paul sandu/Requirement/Thesis stuff/data/unfocused/JoMg_AB6833_Final_Product_C1_5112.bmp', '/content/drive/My Drive/Paul sandu/Requirement/Thesis stuff/data/unfocused/JoMg_AB6833_Final_Product_C1_5170.bmp', '/content/drive/My Drive/Paul sandu/Requirement/Thesis stuff/data/unfocused/JoMg_AB6833_Final_Product_C1_5162.bmp', '/content/drive/My Drive/Paul sandu/Requirement/Thesis stuff/data/unfocused/JoMg_AB6833_Final_Product_C1_4890.bmp', '/content/drive/My Drive/Paul sandu/Requirement/Thesis stuff/data/unfocused/JoMg_AB6833_Final_Product_C1_51.bmp', '/content/drive/My Drive/Paul sandu/Requirement/Thesis stuff/data/unfocused/JoMg_AB6833_Final_Product_C1_5161.bmp', '/content/drive/My Drive/Paul sandu/Requirement/Thesis stuff/data/unfocused/JoMg_AB6833_Final_Product_C1_4879.bmp', '/content/drive/My Drive/Paul sandu/Requirement/Thesis stuff/data/unfocused/JoMg_AB6833_Final_Product_C1_483.bmp', '/content/drive/My Drive/Paul sandu/Requirement/Thesis stuff/data/unfocused/JoMg_AB6833_Final_Product_C1_5151.bmp', '/content/drive/My Drive/Paul sandu/Requirement/Thesis stuff/data/unfocused/JoMg_AB6833_Final_Product_C1_5209.bmp', '/content/drive/My Drive/Paul sandu/Requirement/Thesis stuff/data/unfocused/JoMg_AB6833_Final_Product_C1_5440.bmp', '/content/drive/My Drive/Paul sandu/Requirement/Thesis stuff/data/unfocused/JoMg_AB6833_Final_Product_C1_5198.bmp', '/content/drive/My Drive/Paul sandu/Requirement/Thesis stuff/data/unfocused/JoMg_AB6833_Final_Product_C1_5271.bmp', '/content/drive/My Drive/Paul sandu/Requirement/Thesis stuff/data/unfocused/JoMg_AB6833_Final_Product_C1_5360.bmp', '/content/drive/My Drive/Paul sandu/Requirement/Thesis stuff/data/unfocused/JoMg_AB6833_Final_Product_C1_5266.bmp', '/content/drive/My Drive/Paul sandu/Requirement/Thesis stuff/data/unfocused/JoMg_AB6833_Final_Product_C1_529.bmp', '/content/drive/My Drive/Paul sandu/Requirement/Thesis stuff/data/unfocused/JoMg_AB6833_Final_Product_C1_5345.bmp', '/content/drive/My Drive/Paul sandu/Requirement/Thesis stuff/data/unfocused/JoMg_AB6833_Final_Product_C1_5384.bmp', '/content/drive/My Drive/Paul sandu/Requirement/Thesis stuff/data/unfocused/JoMg_AB6833_Final_Product_C1_5332.bmp', '/content/drive/My Drive/Paul sandu/Requirement/Thesis stuff/data/unfocused/JoMg_AB6833_Final_Product_C1_5248.bmp', '/content/drive/My Drive/Paul sandu/Requirement/Thesis stuff/data/unfocused/JoMg_AB6833_Final_Product_C1_539.bmp', '/content/drive/My Drive/Paul sandu/Requirement/Thesis stuff/data/unfocused/JoMg_AB6833_Final_Product_C1_5325.bmp', '/content/drive/My Drive/Paul sandu/Requirement/Thesis stuff/data/unfocused/JoMg_AB6833_Final_Product_C1_5439.bmp', '/content/drive/My Drive/Paul sandu/Requirement/Thesis stuff/data/unfocused/JoMg_AB6833_Final_Product_C1_5437.bmp', '/content/drive/My Drive/Paul sandu/Requirement/Thesis stuff/data/unfocused/JoMg_AB6833_Final_Product_C1_5414.bmp', '/content/drive/My Drive/Paul sandu/Requirement/Thesis stuff/data/unfocused/JoMg_AB6833_Final_Product_C1_5245.bmp', '/content/drive/My Drive/Paul sandu/Requirement/Thesis stuff/data/unfocused/JoMg_AB6833_Final_Product_C1_5193.bmp', '/content/drive/My Drive/Paul sandu/Requirement/Thesis stuff/data/unfocused/JoMg_AB6833_Final_Product_C1_5324.bmp', '/content/drive/My Drive/Paul sandu/Requirement/Thesis stuff/data/unfocused/JoMg_AB6833_Final_Product_C1_5436.bmp', '/content/drive/My Drive/Paul sandu/Requirement/Thesis stuff/data/unfocused/JoMg_AB6833_Final_Product_C1_5361.bmp', '/content/drive/My Drive/Paul sandu/Requirement/Thesis stuff/data/unfocused/JoMg_AB6833_Final_Product_C1_5277.bmp', '/content/drive/My Drive/Paul sandu/Requirement/Thesis stuff/data/unfocused/JoMg_AB6833_Final_Product_C1_5262.bmp', '/content/drive/My Drive/Paul sandu/Requirement/Thesis stuff/data/unfocused/JoMg_AB6833_Final_Product_C1_5376.bmp', '/content/drive/My Drive/Paul sandu/Requirement/Thesis stuff/data/unfocused/JoMg_AB6833_Final_Product_C1_5293.bmp', '/content/drive/My Drive/Paul sandu/Requirement/Thesis stuff/data/unfocused/JoMg_AB6833_Final_Product_C1_5327.bmp', '/content/drive/My Drive/Paul sandu/Requirement/Thesis stuff/data/unfocused/JoMg_AB6833_Final_Product_C1_5267.bmp', '/content/drive/My Drive/Paul sandu/Requirement/Thesis stuff/data/unfocused/JoMg_AB6833_Final_Product_C1_5276.bmp', '/content/drive/My Drive/Paul sandu/Requirement/Thesis stuff/data/unfocused/JoMg_AB6833_Final_Product_C1_5568.bmp', '/content/drive/My Drive/Paul sandu/Requirement/Thesis stuff/data/unfocused/JoMg_AB6833_Final_Product_C1_5574.bmp', '/content/drive/My Drive/Paul sandu/Requirement/Thesis stuff/data/unfocused/JoMg_AB6833_Final_Product_C1_546.bmp', '/content/drive/My Drive/Paul sandu/Requirement/Thesis stuff/data/unfocused/JoMg_AB6833_Final_Product_C1_5495.bmp', '/content/drive/My Drive/Paul sandu/Requirement/Thesis stuff/data/unfocused/JoMg_AB6833_Final_Product_C1_5681.bmp', '/content/drive/My Drive/Paul sandu/Requirement/Thesis stuff/data/unfocused/JoMg_AB6833_Final_Product_C1_5459.bmp', '/content/drive/My Drive/Paul sandu/Requirement/Thesis stuff/data/unfocused/JoMg_AB6833_Final_Product_C1_5553.bmp', '/content/drive/My Drive/Paul sandu/Requirement/Thesis stuff/data/unfocused/JoMg_AB6833_Final_Product_C1_5542.bmp', '/content/drive/My Drive/Paul sandu/Requirement/Thesis stuff/data/unfocused/JoMg_AB6833_Final_Product_C1_5668.bmp', '/content/drive/My Drive/Paul sandu/Requirement/Thesis stuff/data/unfocused/JoMg_AB6833_Final_Product_C1_5499.bmp', '/content/drive/My Drive/Paul sandu/Requirement/Thesis stuff/data/unfocused/JoMg_AB6833_Final_Product_C1_5470.bmp', '/content/drive/My Drive/Paul sandu/Requirement/Thesis stuff/data/unfocused/JoMg_AB6833_Final_Product_C1_5510.bmp', '/content/drive/My Drive/Paul sandu/Requirement/Thesis stuff/data/unfocused/JoMg_AB6833_Final_Product_C1_5663.bmp', '/content/drive/My Drive/Paul sandu/Requirement/Thesis stuff/data/unfocused/JoMg_AB6833_Final_Product_C1_5580.bmp', '/content/drive/My Drive/Paul sandu/Requirement/Thesis stuff/data/unfocused/JoMg_AB6833_Final_Product_C1_5457.bmp', '/content/drive/My Drive/Paul sandu/Requirement/Thesis stuff/data/unfocused/JoMg_AB6833_Final_Product_C1_5555.bmp', '/content/drive/My Drive/Paul sandu/Requirement/Thesis stuff/data/unfocused/JoMg_AB6833_Final_Product_C1_5615.bmp', '/content/drive/My Drive/Paul sandu/Requirement/Thesis stuff/data/unfocused/JoMg_AB6833_Final_Product_C1_5596.bmp', '/content/drive/My Drive/Paul sandu/Requirement/Thesis stuff/data/unfocused/JoMg_AB6833_Final_Product_C1_5484.bmp', '/content/drive/My Drive/Paul sandu/Requirement/Thesis stuff/data/unfocused/JoMg_AB6833_Final_Product_C1_5669.bmp', '/content/drive/My Drive/Paul sandu/Requirement/Thesis stuff/data/unfocused/JoMg_AB6833_Final_Product_C1_5548.bmp', '/content/drive/My Drive/Paul sandu/Requirement/Thesis stuff/data/unfocused/JoMg_AB6833_Final_Product_C1_5660.bmp', '/content/drive/My Drive/Paul sandu/Requirement/Thesis stuff/data/unfocused/JoMg_AB6833_Final_Product_C1_5641.bmp', '/content/drive/My Drive/Paul sandu/Requirement/Thesis stuff/data/unfocused/JoMg_AB6833_Final_Product_C1_5605.bmp', '/content/drive/My Drive/Paul sandu/Requirement/Thesis stuff/data/unfocused/JoMg_AB6833_Final_Product_C1_5676.bmp', '/content/drive/My Drive/Paul sandu/Requirement/Thesis stuff/data/unfocused/JoMg_AB6833_Final_Product_C1_5662.bmp', '/content/drive/My Drive/Paul sandu/Requirement/Thesis stuff/data/unfocused/JoMg_AB6833_Final_Product_C1_5590.bmp', '/content/drive/My Drive/Paul sandu/Requirement/Thesis stuff/data/unfocused/JoMg_AB6833_Final_Product_C1_5530.bmp', '/content/drive/My Drive/Paul sandu/Requirement/Thesis stuff/data/unfocused/JoMg_AB6833_Final_Product_C1_5639.bmp', '/content/drive/My Drive/Paul sandu/Requirement/Thesis stuff/data/unfocused/JoMg_AB6833_Final_Product_C1_5671.bmp', '/content/drive/My Drive/Paul sandu/Requirement/Thesis stuff/data/unfocused/JoMg_AB6833_Final_Product_C1_5476.bmp', '/content/drive/My Drive/Paul sandu/Requirement/Thesis stuff/data/unfocused/JoMg_AB6833_Final_Product_C1_5613.bmp', '/content/drive/My Drive/Paul sandu/Requirement/Thesis stuff/data/unfocused/JoMg_AB6833_Final_Product_C1_5936.bmp', '/content/drive/My Drive/Paul sandu/Requirement/Thesis stuff/data/unfocused/JoMg_AB6833_Final_Product_C1_5938.bmp', '/content/drive/My Drive/Paul sandu/Requirement/Thesis stuff/data/unfocused/JoMg_AB6833_Final_Product_C1_5897.bmp', '/content/drive/My Drive/Paul sandu/Requirement/Thesis stuff/data/unfocused/JoMg_AB6833_Final_Product_C1_5887.bmp', '/content/drive/My Drive/Paul sandu/Requirement/Thesis stuff/data/unfocused/JoMg_AB6833_Final_Product_C1_5831.bmp', '/content/drive/My Drive/Paul sandu/Requirement/Thesis stuff/data/unfocused/JoMg_AB6833_Final_Product_C1_5697.bmp', '/content/drive/My Drive/Paul sandu/Requirement/Thesis stuff/data/unfocused/JoMg_AB6833_Final_Product_C1_5743.bmp', '/content/drive/My Drive/Paul sandu/Requirement/Thesis stuff/data/unfocused/JoMg_AB6833_Final_Product_C1_5820.bmp', '/content/drive/My Drive/Paul sandu/Requirement/Thesis stuff/data/unfocused/JoMg_AB6833_Final_Product_C1_5747.bmp', '/content/drive/My Drive/Paul sandu/Requirement/Thesis stuff/data/unfocused/JoMg_AB6833_Final_Product_C1_5869.bmp', '/content/drive/My Drive/Paul sandu/Requirement/Thesis stuff/data/unfocused/JoMg_AB6833_Final_Product_C1_5717.bmp', '/content/drive/My Drive/Paul sandu/Requirement/Thesis stuff/data/unfocused/JoMg_AB6833_Final_Product_C1_58.bmp', '/content/drive/My Drive/Paul sandu/Requirement/Thesis stuff/data/unfocused/JoMg_AB6833_Final_Product_C1_5914.bmp', '/content/drive/My Drive/Paul sandu/Requirement/Thesis stuff/data/unfocused/JoMg_AB6833_Final_Product_C1_5935.bmp', '/content/drive/My Drive/Paul sandu/Requirement/Thesis stuff/data/unfocused/JoMg_AB6833_Final_Product_C1_5726.bmp', '/content/drive/My Drive/Paul sandu/Requirement/Thesis stuff/data/unfocused/JoMg_AB6833_Final_Product_C1_5783.bmp', '/content/drive/My Drive/Paul sandu/Requirement/Thesis stuff/data/unfocused/JoMg_AB6833_Final_Product_C1_577.bmp', '/content/drive/My Drive/Paul sandu/Requirement/Thesis stuff/data/unfocused/JoMg_AB6833_Final_Product_C1_5821.bmp', '/content/drive/My Drive/Paul sandu/Requirement/Thesis stuff/data/unfocused/JoMg_AB6833_Final_Product_C1_5929.bmp', '/content/drive/My Drive/Paul sandu/Requirement/Thesis stuff/data/unfocused/JoMg_AB6833_Final_Product_C1_5933.bmp', '/content/drive/My Drive/Paul sandu/Requirement/Thesis stuff/data/unfocused/JoMg_AB6833_Final_Product_C1_5850.bmp', '/content/drive/My Drive/Paul sandu/Requirement/Thesis stuff/data/unfocused/JoMg_AB6833_Final_Product_C1_5753.bmp', '/content/drive/My Drive/Paul sandu/Requirement/Thesis stuff/data/unfocused/JoMg_AB6833_Final_Product_C1_5759.bmp', '/content/drive/My Drive/Paul sandu/Requirement/Thesis stuff/data/unfocused/JoMg_AB6833_Final_Product_C1_5840.bmp', '/content/drive/My Drive/Paul sandu/Requirement/Thesis stuff/data/unfocused/JoMg_AB6833_Final_Product_C1_5836.bmp', '/content/drive/My Drive/Paul sandu/Requirement/Thesis stuff/data/unfocused/JoMg_AB6833_Final_Product_C1_5934.bmp', '/content/drive/My Drive/Paul sandu/Requirement/Thesis stuff/data/unfocused/JoMg_AB6833_Final_Product_C1_5770.bmp', '/content/drive/My Drive/Paul sandu/Requirement/Thesis stuff/data/unfocused/JoMg_AB6833_Final_Product_C1_5937.bmp', '/content/drive/My Drive/Paul sandu/Requirement/Thesis stuff/data/unfocused/JoMg_AB6833_Final_Product_C1_5729.bmp', '/content/drive/My Drive/Paul sandu/Requirement/Thesis stuff/data/unfocused/JoMg_AB6833_Final_Product_C1_57.bmp', '/content/drive/My Drive/Paul sandu/Requirement/Thesis stuff/data/unfocused/JoMg_AB6833_Final_Product_C1_6090.bmp', '/content/drive/My Drive/Paul sandu/Requirement/Thesis stuff/data/unfocused/JoMg_AB6833_Final_Product_C1_6107.bmp', '/content/drive/My Drive/Paul sandu/Requirement/Thesis stuff/data/unfocused/JoMg_AB6833_Final_Product_C1_6057.bmp', '/content/drive/My Drive/Paul sandu/Requirement/Thesis stuff/data/unfocused/JoMg_AB6833_Final_Product_C1_6010.bmp', '/content/drive/My Drive/Paul sandu/Requirement/Thesis stuff/data/unfocused/JoMg_AB6833_Final_Product_C1_6141.bmp', '/content/drive/My Drive/Paul sandu/Requirement/Thesis stuff/data/unfocused/JoMg_AB6833_Final_Product_C1_6063.bmp', '/content/drive/My Drive/Paul sandu/Requirement/Thesis stuff/data/unfocused/JoMg_AB6833_Final_Product_C1_6119.bmp', '/content/drive/My Drive/Paul sandu/Requirement/Thesis stuff/data/unfocused/JoMg_AB6833_Final_Product_C1_6005.bmp', '/content/drive/My Drive/Paul sandu/Requirement/Thesis stuff/data/unfocused/JoMg_AB6833_Final_Product_C1_6080.bmp', '/content/drive/My Drive/Paul sandu/Requirement/Thesis stuff/data/unfocused/JoMg_AB6833_Final_Product_C1_6083.bmp', '/content/drive/My Drive/Paul sandu/Requirement/Thesis stuff/data/unfocused/JoMg_AB6833_Final_Product_C1_5991.bmp', '/content/drive/My Drive/Paul sandu/Requirement/Thesis stuff/data/unfocused/JoMg_AB6833_Final_Product_C1_6127.bmp', '/content/drive/My Drive/Paul sandu/Requirement/Thesis stuff/data/unfocused/JoMg_AB6833_Final_Product_C1_6156.bmp', '/content/drive/My Drive/Paul sandu/Requirement/Thesis stuff/data/unfocused/JoMg_AB6833_Final_Product_C1_6067.bmp', '/content/drive/My Drive/Paul sandu/Requirement/Thesis stuff/data/unfocused/JoMg_AB6833_Final_Product_C1_5944.bmp', '/content/drive/My Drive/Paul sandu/Requirement/Thesis stuff/data/unfocused/JoMg_AB6833_Final_Product_C1_601.bmp', '/content/drive/My Drive/Paul sandu/Requirement/Thesis stuff/data/unfocused/JoMg_AB6833_Final_Product_C1_5940.bmp', '/content/drive/My Drive/Paul sandu/Requirement/Thesis stuff/data/unfocused/JoMg_AB6833_Final_Product_C1_5965.bmp', '/content/drive/My Drive/Paul sandu/Requirement/Thesis stuff/data/unfocused/JoMg_AB6833_Final_Product_C1_6176.bmp', '/content/drive/My Drive/Paul sandu/Requirement/Thesis stuff/data/unfocused/JoMg_AB6833_Final_Product_C1_5943.bmp', '/content/drive/My Drive/Paul sandu/Requirement/Thesis stuff/data/unfocused/JoMg_AB6833_Final_Product_C1_5966.bmp', '/content/drive/My Drive/Paul sandu/Requirement/Thesis stuff/data/unfocused/JoMg_AB6833_Final_Product_C1_6.bmp', '/content/drive/My Drive/Paul sandu/Requirement/Thesis stuff/data/unfocused/JoMg_AB6833_Final_Product_C1_6029.bmp', '/content/drive/My Drive/Paul sandu/Requirement/Thesis stuff/data/unfocused/JoMg_AB6833_Final_Product_C1_6116.bmp', '/content/drive/My Drive/Paul sandu/Requirement/Thesis stuff/data/unfocused/JoMg_AB6833_Final_Product_C1_613.bmp', '/content/drive/My Drive/Paul sandu/Requirement/Thesis stuff/data/unfocused/JoMg_AB6833_Final_Product_C1_5941.bmp', '/content/drive/My Drive/Paul sandu/Requirement/Thesis stuff/data/unfocused/JoMg_AB6833_Final_Product_C1_6061.bmp', '/content/drive/My Drive/Paul sandu/Requirement/Thesis stuff/data/unfocused/JoMg_AB6833_Final_Product_C1_6164.bmp', '/content/drive/My Drive/Paul sandu/Requirement/Thesis stuff/data/unfocused/JoMg_AB6833_Final_Product_C1_606.bmp', '/content/drive/My Drive/Paul sandu/Requirement/Thesis stuff/data/unfocused/JoMg_AB6833_Final_Product_C1_595.bmp', '/content/drive/My Drive/Paul sandu/Requirement/Thesis stuff/data/unfocused/JoMg_AB6833_Final_Product_C1_6380.bmp', '/content/drive/My Drive/Paul sandu/Requirement/Thesis stuff/data/unfocused/JoMg_AB6833_Final_Product_C1_6231.bmp', '/content/drive/My Drive/Paul sandu/Requirement/Thesis stuff/data/unfocused/JoMg_AB6833_Final_Product_C1_645.bmp', '/content/drive/My Drive/Paul sandu/Requirement/Thesis stuff/data/unfocused/JoMg_AB6833_Final_Product_C1_6401.bmp', '/content/drive/My Drive/Paul sandu/Requirement/Thesis stuff/data/unfocused/JoMg_AB6833_Final_Product_C1_6313.bmp', '/content/drive/My Drive/Paul sandu/Requirement/Thesis stuff/data/unfocused/JoMg_AB6833_Final_Product_C1_6479.bmp', '/content/drive/My Drive/Paul sandu/Requirement/Thesis stuff/data/unfocused/JoMg_AB6833_Final_Product_C1_6234.bmp', '/content/drive/My Drive/Paul sandu/Requirement/Thesis stuff/data/unfocused/JoMg_AB6833_Final_Product_C1_6471.bmp', '/content/drive/My Drive/Paul sandu/Requirement/Thesis stuff/data/unfocused/JoMg_AB6833_Final_Product_C1_6497.bmp', '/content/drive/My Drive/Paul sandu/Requirement/Thesis stuff/data/unfocused/JoMg_AB6833_Final_Product_C1_6312.bmp', '/content/drive/My Drive/Paul sandu/Requirement/Thesis stuff/data/unfocused/JoMg_AB6833_Final_Product_C1_6262.bmp', '/content/drive/My Drive/Paul sandu/Requirement/Thesis stuff/data/unfocused/JoMg_AB6833_Final_Product_C1_6222.bmp', '/content/drive/My Drive/Paul sandu/Requirement/Thesis stuff/data/unfocused/JoMg_AB6833_Final_Product_C1_6452.bmp', '/content/drive/My Drive/Paul sandu/Requirement/Thesis stuff/data/unfocused/JoMg_AB6833_Final_Product_C1_6342.bmp', '/content/drive/My Drive/Paul sandu/Requirement/Thesis stuff/data/unfocused/JoMg_AB6833_Final_Product_C1_6281.bmp', '/content/drive/My Drive/Paul sandu/Requirement/Thesis stuff/data/unfocused/JoMg_AB6833_Final_Product_C1_6531.bmp', '/content/drive/My Drive/Paul sandu/Requirement/Thesis stuff/data/unfocused/JoMg_AB6833_Final_Product_C1_6259.bmp', '/content/drive/My Drive/Paul sandu/Requirement/Thesis stuff/data/unfocused/JoMg_AB6833_Final_Product_C1_6398.bmp', '/content/drive/My Drive/Paul sandu/Requirement/Thesis stuff/data/unfocused/JoMg_AB6833_Final_Product_C1_6423.bmp', '/content/drive/My Drive/Paul sandu/Requirement/Thesis stuff/data/unfocused/JoMg_AB6833_Final_Product_C1_6498.bmp', '/content/drive/My Drive/Paul sandu/Requirement/Thesis stuff/data/unfocused/JoMg_AB6833_Final_Product_C1_6203.bmp', '/content/drive/My Drive/Paul sandu/Requirement/Thesis stuff/data/unfocused/JoMg_AB6833_Final_Product_C1_6436.bmp', '/content/drive/My Drive/Paul sandu/Requirement/Thesis stuff/data/unfocused/JoMg_AB6833_Final_Product_C1_6250.bmp', '/content/drive/My Drive/Paul sandu/Requirement/Thesis stuff/data/unfocused/JoMg_AB6833_Final_Product_C1_6394.bmp', '/content/drive/My Drive/Paul sandu/Requirement/Thesis stuff/data/unfocused/JoMg_AB6833_Final_Product_C1_6185.bmp', '/content/drive/My Drive/Paul sandu/Requirement/Thesis stuff/data/unfocused/JoMg_AB6833_Final_Product_C1_6315.bmp', '/content/drive/My Drive/Paul sandu/Requirement/Thesis stuff/data/unfocused/JoMg_AB6833_Final_Product_C1_6450.bmp', '/content/drive/My Drive/Paul sandu/Requirement/Thesis stuff/data/unfocused/JoMg_AB6833_Final_Product_C1_6253.bmp', '/content/drive/My Drive/Paul sandu/Requirement/Thesis stuff/data/unfocused/JoMg_AB6833_Final_Product_C1_6374.bmp', '/content/drive/My Drive/Paul sandu/Requirement/Thesis stuff/data/unfocused/JoMg_AB6833_Final_Product_C1_6419.bmp', '/content/drive/My Drive/Paul sandu/Requirement/Thesis stuff/data/unfocused/JoMg_AB6833_Final_Product_C1_6735.bmp', '/content/drive/My Drive/Paul sandu/Requirement/Thesis stuff/data/unfocused/JoMg_AB6833_Final_Product_C1_6616.bmp', '/content/drive/My Drive/Paul sandu/Requirement/Thesis stuff/data/unfocused/JoMg_AB6833_Final_Product_C1_6662.bmp', '/content/drive/My Drive/Paul sandu/Requirement/Thesis stuff/data/unfocused/JoMg_AB6833_Final_Product_C1_6619.bmp', '/content/drive/My Drive/Paul sandu/Requirement/Thesis stuff/data/unfocused/JoMg_AB6833_Final_Product_C1_6709.bmp', '/content/drive/My Drive/Paul sandu/Requirement/Thesis stuff/data/unfocused/JoMg_AB6833_Final_Product_C1_682.bmp', '/content/drive/My Drive/Paul sandu/Requirement/Thesis stuff/data/unfocused/JoMg_AB6833_Final_Product_C1_6714.bmp', '/content/drive/My Drive/Paul sandu/Requirement/Thesis stuff/data/unfocused/JoMg_AB6833_Final_Product_C1_6647.bmp', '/content/drive/My Drive/Paul sandu/Requirement/Thesis stuff/data/unfocused/JoMg_AB6833_Final_Product_C1_6759.bmp', '/content/drive/My Drive/Paul sandu/Requirement/Thesis stuff/data/unfocused/JoMg_AB6833_Final_Product_C1_6658.bmp', '/content/drive/My Drive/Paul sandu/Requirement/Thesis stuff/data/unfocused/JoMg_AB6833_Final_Product_C1_6751.bmp', '/content/drive/My Drive/Paul sandu/Requirement/Thesis stuff/data/unfocused/JoMg_AB6833_Final_Product_C1_6726.bmp', '/content/drive/My Drive/Paul sandu/Requirement/Thesis stuff/data/unfocused/JoMg_AB6833_Final_Product_C1_6625.bmp', '/content/drive/My Drive/Paul sandu/Requirement/Thesis stuff/data/unfocused/JoMg_AB6833_Final_Product_C1_6736.bmp', '/content/drive/My Drive/Paul sandu/Requirement/Thesis stuff/data/unfocused/JoMg_AB6833_Final_Product_C1_6683.bmp', '/content/drive/My Drive/Paul sandu/Requirement/Thesis stuff/data/unfocused/JoMg_AB6833_Final_Product_C1_6664.bmp', '/content/drive/My Drive/Paul sandu/Requirement/Thesis stuff/data/unfocused/JoMg_AB6833_Final_Product_C1_6599.bmp', '/content/drive/My Drive/Paul sandu/Requirement/Thesis stuff/data/unfocused/JoMg_AB6833_Final_Product_C1_662.bmp', '/content/drive/My Drive/Paul sandu/Requirement/Thesis stuff/data/unfocused/JoMg_AB6833_Final_Product_C1_6548.bmp', '/content/drive/My Drive/Paul sandu/Requirement/Thesis stuff/data/unfocused/JoMg_AB6833_Final_Product_C1_6696.bmp', '/content/drive/My Drive/Paul sandu/Requirement/Thesis stuff/data/unfocused/JoMg_AB6833_Final_Product_C1_6554.bmp', '/content/drive/My Drive/Paul sandu/Requirement/Thesis stuff/data/unfocused/JoMg_AB6833_Final_Product_C1_6725.bmp', '/content/drive/My Drive/Paul sandu/Requirement/Thesis stuff/data/unfocused/JoMg_AB6833_Final_Product_C1_6668.bmp', '/content/drive/My Drive/Paul sandu/Requirement/Thesis stuff/data/unfocused/JoMg_AB6833_Final_Product_C1_6534.bmp', '/content/drive/My Drive/Paul sandu/Requirement/Thesis stuff/data/unfocused/JoMg_AB6833_Final_Product_C1_6747.bmp', '/content/drive/My Drive/Paul sandu/Requirement/Thesis stuff/data/unfocused/JoMg_AB6833_Final_Product_C1_6794.bmp', '/content/drive/My Drive/Paul sandu/Requirement/Thesis stuff/data/unfocused/JoMg_AB6833_Final_Product_C1_6540.bmp', '/content/drive/My Drive/Paul sandu/Requirement/Thesis stuff/data/unfocused/JoMg_AB6833_Final_Product_C1_66.bmp', '/content/drive/My Drive/Paul sandu/Requirement/Thesis stuff/data/unfocused/JoMg_AB6833_Final_Product_C1_6707.bmp', '/content/drive/My Drive/Paul sandu/Requirement/Thesis stuff/data/unfocused/JoMg_AB6833_Final_Product_C1_6777.bmp', '/content/drive/My Drive/Paul sandu/Requirement/Thesis stuff/data/unfocused/JoMg_AB6833_Final_Product_C1_6745.bmp', '/content/drive/My Drive/Paul sandu/Requirement/Thesis stuff/data/unfocused/JoMg_AB6833_Final_Product_C1_6765.bmp', '/content/drive/My Drive/Paul sandu/Requirement/Thesis stuff/data/unfocused/JoMg_AB6833_Final_Product_C1_6791.bmp', '/content/drive/My Drive/Paul sandu/Requirement/Thesis stuff/data/unfocused/JoMg_AB6833_Final_Product_C1_6679.bmp', '/content/drive/My Drive/Paul sandu/Requirement/Thesis stuff/data/unfocused/JoMg_AB6833_Final_Product_C1_6764.bmp', '/content/drive/My Drive/Paul sandu/Requirement/Thesis stuff/data/unfocused/JoMg_AB6833_Final_Product_C1_6797.bmp', '/content/drive/My Drive/Paul sandu/Requirement/Thesis stuff/data/unfocused/JoMg_AB6833_Final_Product_C1_6883.bmp', '/content/drive/My Drive/Paul sandu/Requirement/Thesis stuff/data/unfocused/JoMg_AB6833_Final_Product_C1_6850.bmp', '/content/drive/My Drive/Paul sandu/Requirement/Thesis stuff/data/unfocused/JoMg_AB6833_Final_Product_C1_7022.bmp', '/content/drive/My Drive/Paul sandu/Requirement/Thesis stuff/data/unfocused/JoMg_AB6833_Final_Product_C1_7098.bmp', '/content/drive/My Drive/Paul sandu/Requirement/Thesis stuff/data/unfocused/JoMg_AB6833_Final_Product_C1_6940.bmp', '/content/drive/My Drive/Paul sandu/Requirement/Thesis stuff/data/unfocused/JoMg_AB6833_Final_Product_C1_690.bmp', '/content/drive/My Drive/Paul sandu/Requirement/Thesis stuff/data/unfocused/JoMg_AB6833_Final_Product_C1_7061.bmp', '/content/drive/My Drive/Paul sandu/Requirement/Thesis stuff/data/unfocused/JoMg_AB6833_Final_Product_C1_7142.bmp', '/content/drive/My Drive/Paul sandu/Requirement/Thesis stuff/data/unfocused/JoMg_AB6833_Final_Product_C1_6947.bmp', '/content/drive/My Drive/Paul sandu/Requirement/Thesis stuff/data/unfocused/JoMg_AB6833_Final_Product_C1_7065.bmp', '/content/drive/My Drive/Paul sandu/Requirement/Thesis stuff/data/unfocused/JoMg_AB6833_Final_Product_C1_7115.bmp', '/content/drive/My Drive/Paul sandu/Requirement/Thesis stuff/data/unfocused/JoMg_AB6833_Final_Product_C1_7036.bmp', '/content/drive/My Drive/Paul sandu/Requirement/Thesis stuff/data/unfocused/JoMg_AB6833_Final_Product_C1_6978.bmp', '/content/drive/My Drive/Paul sandu/Requirement/Thesis stuff/data/unfocused/JoMg_AB6833_Final_Product_C1_7079.bmp', '/content/drive/My Drive/Paul sandu/Requirement/Thesis stuff/data/unfocused/JoMg_AB6833_Final_Product_C1_7136.bmp', '/content/drive/My Drive/Paul sandu/Requirement/Thesis stuff/data/unfocused/JoMg_AB6833_Final_Product_C1_7090.bmp', '/content/drive/My Drive/Paul sandu/Requirement/Thesis stuff/data/unfocused/JoMg_AB6833_Final_Product_C1_7011.bmp', '/content/drive/My Drive/Paul sandu/Requirement/Thesis stuff/data/unfocused/JoMg_AB6833_Final_Product_C1_7014.bmp', '/content/drive/My Drive/Paul sandu/Requirement/Thesis stuff/data/unfocused/JoMg_AB6833_Final_Product_C1_7032.bmp', '/content/drive/My Drive/Paul sandu/Requirement/Thesis stuff/data/unfocused/JoMg_AB6833_Final_Product_C1_704.bmp', '/content/drive/My Drive/Paul sandu/Requirement/Thesis stuff/data/unfocused/JoMg_AB6833_Final_Product_C1_6866.bmp', '/content/drive/My Drive/Paul sandu/Requirement/Thesis stuff/data/unfocused/JoMg_AB6833_Final_Product_C1_7126.bmp', '/content/drive/My Drive/Paul sandu/Requirement/Thesis stuff/data/unfocused/JoMg_AB6833_Final_Product_C1_6869.bmp', '/content/drive/My Drive/Paul sandu/Requirement/Thesis stuff/data/unfocused/JoMg_AB6833_Final_Product_C1_6840.bmp', '/content/drive/My Drive/Paul sandu/Requirement/Thesis stuff/data/unfocused/JoMg_AB6833_Final_Product_C1_7103.bmp', '/content/drive/My Drive/Paul sandu/Requirement/Thesis stuff/data/unfocused/JoMg_AB6833_Final_Product_C1_7038.bmp', '/content/drive/My Drive/Paul sandu/Requirement/Thesis stuff/data/unfocused/JoMg_AB6833_Final_Product_C1_6962.bmp', '/content/drive/My Drive/Paul sandu/Requirement/Thesis stuff/data/unfocused/JoMg_AB6833_Final_Product_C1_689.bmp', '/content/drive/My Drive/Paul sandu/Requirement/Thesis stuff/data/unfocused/JoMg_AB6833_Final_Product_C1_6847.bmp', '/content/drive/My Drive/Paul sandu/Requirement/Thesis stuff/data/unfocused/JoMg_AB6833_Final_Product_C1_709.bmp', '/content/drive/My Drive/Paul sandu/Requirement/Thesis stuff/data/unfocused/JoMg_AB6833_Final_Product_C1_6948.bmp', '/content/drive/My Drive/Paul sandu/Requirement/Thesis stuff/data/unfocused/JoMg_AB6833_Final_Product_C1_6874.bmp', '/content/drive/My Drive/Paul sandu/Requirement/Thesis stuff/data/unfocused/JoMg_AB6833_Final_Product_C1_6957.bmp', '/content/drive/My Drive/Paul sandu/Requirement/Thesis stuff/data/unfocused/JoMg_AB6833_Final_Product_C1_7081.bmp', '/content/drive/My Drive/Paul sandu/Requirement/Thesis stuff/data/unfocused/JoMg_AB6833_Final_Product_C1_7044.bmp', '/content/drive/My Drive/Paul sandu/Requirement/Thesis stuff/data/unfocused/JoMg_AB6833_Final_Product_C1_7191.bmp', '/content/drive/My Drive/Paul sandu/Requirement/Thesis stuff/data/unfocused/JoMg_AB6833_Final_Product_C1_7143.bmp', '/content/drive/My Drive/Paul sandu/Requirement/Thesis stuff/data/unfocused/JoMg_AB6833_Final_Product_C1_7332.bmp', '/content/drive/My Drive/Paul sandu/Requirement/Thesis stuff/data/unfocused/JoMg_AB6833_Final_Product_C1_7369.bmp', '/content/drive/My Drive/Paul sandu/Requirement/Thesis stuff/data/unfocused/JoMg_AB6833_Final_Product_C1_7241.bmp', '/content/drive/My Drive/Paul sandu/Requirement/Thesis stuff/data/unfocused/JoMg_AB6833_Final_Product_C1_7368.bmp', '/content/drive/My Drive/Paul sandu/Requirement/Thesis stuff/data/unfocused/JoMg_AB6833_Final_Product_C1_7323.bmp', '/content/drive/My Drive/Paul sandu/Requirement/Thesis stuff/data/unfocused/JoMg_AB6833_Final_Product_C1_7281.bmp', '/content/drive/My Drive/Paul sandu/Requirement/Thesis stuff/data/unfocused/JoMg_AB6833_Final_Product_C1_7399.bmp', '/content/drive/My Drive/Paul sandu/Requirement/Thesis stuff/data/unfocused/JoMg_AB6833_Final_Product_C1_725.bmp', '/content/drive/My Drive/Paul sandu/Requirement/Thesis stuff/data/unfocused/JoMg_AB6833_Final_Product_C1_7305.bmp', '/content/drive/My Drive/Paul sandu/Requirement/Thesis stuff/data/unfocused/JoMg_AB6833_Final_Product_C1_7336.bmp', '/content/drive/My Drive/Paul sandu/Requirement/Thesis stuff/data/unfocused/JoMg_AB6833_Final_Product_C1_7301.bmp', '/content/drive/My Drive/Paul sandu/Requirement/Thesis stuff/data/unfocused/JoMg_AB6833_Final_Product_C1_7419.bmp', '/content/drive/My Drive/Paul sandu/Requirement/Thesis stuff/data/unfocused/JoMg_AB6833_Final_Product_C1_7421.bmp', '/content/drive/My Drive/Paul sandu/Requirement/Thesis stuff/data/unfocused/JoMg_AB6833_Final_Product_C1_7322.bmp', '/content/drive/My Drive/Paul sandu/Requirement/Thesis stuff/data/unfocused/JoMg_AB6833_Final_Product_C1_7343.bmp', '/content/drive/My Drive/Paul sandu/Requirement/Thesis stuff/data/unfocused/JoMg_AB6833_Final_Product_C1_7182.bmp', '/content/drive/My Drive/Paul sandu/Requirement/Thesis stuff/data/unfocused/JoMg_AB6833_Final_Product_C1_718.bmp', '/content/drive/My Drive/Paul sandu/Requirement/Thesis stuff/data/unfocused/JoMg_AB6833_Final_Product_C1_7265.bmp', '/content/drive/My Drive/Paul sandu/Requirement/Thesis stuff/data/unfocused/JoMg_AB6833_Final_Product_C1_7406.bmp', '/content/drive/My Drive/Paul sandu/Requirement/Thesis stuff/data/unfocused/JoMg_AB6833_Final_Product_C1_7148.bmp', '/content/drive/My Drive/Paul sandu/Requirement/Thesis stuff/data/unfocused/JoMg_AB6833_Final_Product_C1_7204.bmp', '/content/drive/My Drive/Paul sandu/Requirement/Thesis stuff/data/unfocused/JoMg_AB6833_Final_Product_C1_736.bmp', '/content/drive/My Drive/Paul sandu/Requirement/Thesis stuff/data/unfocused/JoMg_AB6833_Final_Product_C1_7190.bmp', '/content/drive/My Drive/Paul sandu/Requirement/Thesis stuff/data/unfocused/JoMg_AB6833_Final_Product_C1_7544.bmp', '/content/drive/My Drive/Paul sandu/Requirement/Thesis stuff/data/unfocused/JoMg_AB6833_Final_Product_C1_749.bmp', '/content/drive/My Drive/Paul sandu/Requirement/Thesis stuff/data/unfocused/JoMg_AB6833_Final_Product_C1_7577.bmp', '/content/drive/My Drive/Paul sandu/Requirement/Thesis stuff/data/unfocused/JoMg_AB6833_Final_Product_C1_7424.bmp', '/content/drive/My Drive/Paul sandu/Requirement/Thesis stuff/data/unfocused/JoMg_AB6833_Final_Product_C1_7477.bmp', '/content/drive/My Drive/Paul sandu/Requirement/Thesis stuff/data/unfocused/JoMg_AB6833_Final_Product_C1_7737.bmp', '/content/drive/My Drive/Paul sandu/Requirement/Thesis stuff/data/unfocused/JoMg_AB6833_Final_Product_C1_7727.bmp', '/content/drive/My Drive/Paul sandu/Requirement/Thesis stuff/data/unfocused/JoMg_AB6833_Final_Product_C1_7695.bmp', '/content/drive/My Drive/Paul sandu/Requirement/Thesis stuff/data/unfocused/JoMg_AB6833_Final_Product_C1_7433.bmp', '/content/drive/My Drive/Paul sandu/Requirement/Thesis stuff/data/unfocused/JoMg_AB6833_Final_Product_C1_7485.bmp', '/content/drive/My Drive/Paul sandu/Requirement/Thesis stuff/data/unfocused/JoMg_AB6833_Final_Product_C1_7500.bmp', '/content/drive/My Drive/Paul sandu/Requirement/Thesis stuff/data/unfocused/JoMg_AB6833_Final_Product_C1_7596.bmp', '/content/drive/My Drive/Paul sandu/Requirement/Thesis stuff/data/unfocused/JoMg_AB6833_Final_Product_C1_7545.bmp', '/content/drive/My Drive/Paul sandu/Requirement/Thesis stuff/data/unfocused/JoMg_AB6833_Final_Product_C1_7683.bmp', '/content/drive/My Drive/Paul sandu/Requirement/Thesis stuff/data/unfocused/JoMg_AB6833_Final_Product_C1_7671.bmp', '/content/drive/My Drive/Paul sandu/Requirement/Thesis stuff/data/unfocused/JoMg_AB6833_Final_Product_C1_7680.bmp', '/content/drive/My Drive/Paul sandu/Requirement/Thesis stuff/data/unfocused/JoMg_AB6833_Final_Product_C1_7576.bmp', '/content/drive/My Drive/Paul sandu/Requirement/Thesis stuff/data/unfocused/JoMg_AB6833_Final_Product_C1_7604.bmp', '/content/drive/My Drive/Paul sandu/Requirement/Thesis stuff/data/unfocused/JoMg_AB6833_Final_Product_C1_7554.bmp', '/content/drive/My Drive/Paul sandu/Requirement/Thesis stuff/data/unfocused/JoMg_AB6833_Final_Product_C1_7662.bmp', '/content/drive/My Drive/Paul sandu/Requirement/Thesis stuff/data/unfocused/JoMg_AB6833_Final_Product_C1_7722.bmp', '/content/drive/My Drive/Paul sandu/Requirement/Thesis stuff/data/unfocused/JoMg_AB6833_Final_Product_C1_7458.bmp', '/content/drive/My Drive/Paul sandu/Requirement/Thesis stuff/data/unfocused/JoMg_AB6833_Final_Product_C1_759.bmp', '/content/drive/My Drive/Paul sandu/Requirement/Thesis stuff/data/unfocused/JoMg_AB6833_Final_Product_C1_7490.bmp', '/content/drive/My Drive/Paul sandu/Requirement/Thesis stuff/data/unfocused/JoMg_AB6833_Final_Product_C1_7606.bmp', '/content/drive/My Drive/Paul sandu/Requirement/Thesis stuff/data/unfocused/JoMg_AB6833_Final_Product_C1_7697.bmp', '/content/drive/My Drive/Paul sandu/Requirement/Thesis stuff/data/unfocused/JoMg_AB6833_Final_Product_C1_7510.bmp', '/content/drive/My Drive/Paul sandu/Requirement/Thesis stuff/data/unfocused/JoMg_AB6833_Final_Product_C1_7526.bmp', '/content/drive/My Drive/Paul sandu/Requirement/Thesis stuff/data/unfocused/JoMg_AB6833_Final_Product_C1_7585.bmp', '/content/drive/My Drive/Paul sandu/Requirement/Thesis stuff/data/unfocused/JoMg_AB6833_Final_Product_C1_7600.bmp', '/content/drive/My Drive/Paul sandu/Requirement/Thesis stuff/data/unfocused/JoMg_AB6833_Final_Product_C1_7525.bmp', '/content/drive/My Drive/Paul sandu/Requirement/Thesis stuff/data/unfocused/JoMg_AB6833_Final_Product_C1_7837.bmp', '/content/drive/My Drive/Paul sandu/Requirement/Thesis stuff/data/unfocused/JoMg_AB6833_Final_Product_C1_7857.bmp', '/content/drive/My Drive/Paul sandu/Requirement/Thesis stuff/data/unfocused/JoMg_AB6833_Final_Product_C1_7943.bmp', '/content/drive/My Drive/Paul sandu/Requirement/Thesis stuff/data/unfocused/JoMg_AB6833_Final_Product_C1_7923.bmp', '/content/drive/My Drive/Paul sandu/Requirement/Thesis stuff/data/unfocused/JoMg_AB6833_Final_Product_C1_7831.bmp', '/content/drive/My Drive/Paul sandu/Requirement/Thesis stuff/data/unfocused/JoMg_AB6833_Final_Product_C1_7817.bmp', '/content/drive/My Drive/Paul sandu/Requirement/Thesis stuff/data/unfocused/JoMg_AB6833_Final_Product_C1_792.bmp', '/content/drive/My Drive/Paul sandu/Requirement/Thesis stuff/data/unfocused/JoMg_AB6833_Final_Product_C1_7808.bmp', '/content/drive/My Drive/Paul sandu/Requirement/Thesis stuff/data/unfocused/JoMg_AB6833_Final_Product_C1_7866.bmp', '/content/drive/My Drive/Paul sandu/Requirement/Thesis stuff/data/unfocused/JoMg_AB6833_Final_Product_C1_7756.bmp', '/content/drive/My Drive/Paul sandu/Requirement/Thesis stuff/data/unfocused/JoMg_AB6833_Final_Product_C1_7776.bmp', '/content/drive/My Drive/Paul sandu/Requirement/Thesis stuff/data/unfocused/JoMg_AB6833_Final_Product_C1_7783.bmp', '/content/drive/My Drive/Paul sandu/Requirement/Thesis stuff/data/unfocused/JoMg_AB6833_Final_Product_C1_7879.bmp', '/content/drive/My Drive/Paul sandu/Requirement/Thesis stuff/data/unfocused/JoMg_AB6833_Final_Product_C1_79.bmp', '/content/drive/My Drive/Paul sandu/Requirement/Thesis stuff/data/unfocused/JoMg_AB6833_Final_Product_C1_7997.bmp', '/content/drive/My Drive/Paul sandu/Requirement/Thesis stuff/data/unfocused/JoMg_AB6833_Final_Product_C1_7809.bmp', '/content/drive/My Drive/Paul sandu/Requirement/Thesis stuff/data/unfocused/JoMg_AB6833_Final_Product_C1_7810.bmp', '/content/drive/My Drive/Paul sandu/Requirement/Thesis stuff/data/unfocused/JoMg_AB6833_Final_Product_C1_7962.bmp', '/content/drive/My Drive/Paul sandu/Requirement/Thesis stuff/data/unfocused/JoMg_AB6833_Final_Product_C1_7842.bmp', '/content/drive/My Drive/Paul sandu/Requirement/Thesis stuff/data/unfocused/JoMg_AB6833_Final_Product_C1_7777.bmp', '/content/drive/My Drive/Paul sandu/Requirement/Thesis stuff/data/unfocused/JoMg_AB6833_Final_Product_C1_7839.bmp', '/content/drive/My Drive/Paul sandu/Requirement/Thesis stuff/data/unfocused/JoMg_AB6833_Final_Product_C1_780.bmp', '/content/drive/My Drive/Paul sandu/Requirement/Thesis stuff/data/unfocused/JoMg_AB6833_Final_Product_C1_7854.bmp', '/content/drive/My Drive/Paul sandu/Requirement/Thesis stuff/data/unfocused/JoMg_AB6833_Final_Product_C1_7823.bmp', '/content/drive/My Drive/Paul sandu/Requirement/Thesis stuff/data/unfocused/JoMg_AB6833_Final_Product_C1_7906.bmp', '/content/drive/My Drive/Paul sandu/Requirement/Thesis stuff/data/unfocused/JoMg_AB6833_Final_Product_C1_7802.bmp', '/content/drive/My Drive/Paul sandu/Requirement/Thesis stuff/data/unfocused/JoMg_AB6833_Final_Product_C1_8348.bmp', '/content/drive/My Drive/Paul sandu/Requirement/Thesis stuff/data/unfocused/JoMg_AB6833_Final_Product_C1_8312.bmp', '/content/drive/My Drive/Paul sandu/Requirement/Thesis stuff/data/unfocused/JoMg_AB6833_Final_Product_C1_8076.bmp', '/content/drive/My Drive/Paul sandu/Requirement/Thesis stuff/data/unfocused/JoMg_AB6833_Final_Product_C1_817.bmp', '/content/drive/My Drive/Paul sandu/Requirement/Thesis stuff/data/unfocused/JoMg_AB6833_Final_Product_C1_8032.bmp', '/content/drive/My Drive/Paul sandu/Requirement/Thesis stuff/data/unfocused/JoMg_AB6833_Final_Product_C1_84.bmp', '/content/drive/My Drive/Paul sandu/Requirement/Thesis stuff/data/unfocused/JoMg_AB6833_Final_Product_C1_8446.bmp', '/content/drive/My Drive/Paul sandu/Requirement/Thesis stuff/data/unfocused/JoMg_AB6833_Final_Product_C1_8280.bmp', '/content/drive/My Drive/Paul sandu/Requirement/Thesis stuff/data/unfocused/JoMg_AB6833_Final_Product_C1_8155.bmp', '/content/drive/My Drive/Paul sandu/Requirement/Thesis stuff/data/unfocused/JoMg_AB6833_Final_Product_C1_8194.bmp', '/content/drive/My Drive/Paul sandu/Requirement/Thesis stuff/data/unfocused/JoMg_AB6833_Final_Product_C1_8229.bmp', '/content/drive/My Drive/Paul sandu/Requirement/Thesis stuff/data/unfocused/JoMg_AB6833_Final_Product_C1_8223.bmp', '/content/drive/My Drive/Paul sandu/Requirement/Thesis stuff/data/unfocused/JoMg_AB6833_Final_Product_C1_8117.bmp', '/content/drive/My Drive/Paul sandu/Requirement/Thesis stuff/data/unfocused/JoMg_AB6833_Final_Product_C1_8336.bmp', '/content/drive/My Drive/Paul sandu/Requirement/Thesis stuff/data/unfocused/JoMg_AB6833_Final_Product_C1_8338.bmp', '/content/drive/My Drive/Paul sandu/Requirement/Thesis stuff/data/unfocused/JoMg_AB6833_Final_Product_C1_8247.bmp', '/content/drive/My Drive/Paul sandu/Requirement/Thesis stuff/data/unfocused/JoMg_AB6833_Final_Product_C1_8149.bmp', '/content/drive/My Drive/Paul sandu/Requirement/Thesis stuff/data/unfocused/JoMg_AB6833_Final_Product_C1_8290.bmp', '/content/drive/My Drive/Paul sandu/Requirement/Thesis stuff/data/unfocused/JoMg_AB6833_Final_Product_C1_8115.bmp', '/content/drive/My Drive/Paul sandu/Requirement/Thesis stuff/data/unfocused/JoMg_AB6833_Final_Product_C1_8385.bmp', '/content/drive/My Drive/Paul sandu/Requirement/Thesis stuff/data/unfocused/JoMg_AB6833_Final_Product_C1_8080.bmp', '/content/drive/My Drive/Paul sandu/Requirement/Thesis stuff/data/unfocused/JoMg_AB6833_Final_Product_C1_8205.bmp', '/content/drive/My Drive/Paul sandu/Requirement/Thesis stuff/data/unfocused/JoMg_AB6833_Final_Product_C1_8289.bmp', '/content/drive/My Drive/Paul sandu/Requirement/Thesis stuff/data/unfocused/JoMg_AB6833_Final_Product_C1_8055.bmp', '/content/drive/My Drive/Paul sandu/Requirement/Thesis stuff/data/unfocused/JoMg_AB6833_Final_Product_C1_8170.bmp', '/content/drive/My Drive/Paul sandu/Requirement/Thesis stuff/data/unfocused/JoMg_AB6833_Final_Product_C1_8295.bmp', '/content/drive/My Drive/Paul sandu/Requirement/Thesis stuff/data/unfocused/JoMg_AB6833_Final_Product_C1_8221.bmp', '/content/drive/My Drive/Paul sandu/Requirement/Thesis stuff/data/unfocused/JoMg_AB6833_Final_Product_C1_8345.bmp', '/content/drive/My Drive/Paul sandu/Requirement/Thesis stuff/data/unfocused/JoMg_AB6833_Final_Product_C1_8014.bmp', '/content/drive/My Drive/Paul sandu/Requirement/Thesis stuff/data/unfocused/JoMg_AB6833_Final_Product_C1_806.bmp', '/content/drive/My Drive/Paul sandu/Requirement/Thesis stuff/data/unfocused/JoMg_AB6833_Final_Product_C1_8415.bmp', '/content/drive/My Drive/Paul sandu/Requirement/Thesis stuff/data/unfocused/JoMg_AB6833_Final_Product_C1_842.bmp', '/content/drive/My Drive/Paul sandu/Requirement/Thesis stuff/data/unfocused/JoMg_AB6833_Final_Product_C1_8103.bmp', '/content/drive/My Drive/Paul sandu/Requirement/Thesis stuff/data/unfocused/JoMg_AB6833_Final_Product_C1_8124.bmp', '/content/drive/My Drive/Paul sandu/Requirement/Thesis stuff/data/unfocused/JoMg_AB6833_Final_Product_C1_8577.bmp', '/content/drive/My Drive/Paul sandu/Requirement/Thesis stuff/data/unfocused/JoMg_AB6833_Final_Product_C1_8471.bmp', '/content/drive/My Drive/Paul sandu/Requirement/Thesis stuff/data/unfocused/JoMg_AB6833_Final_Product_C1_8668.bmp', '/content/drive/My Drive/Paul sandu/Requirement/Thesis stuff/data/unfocused/JoMg_AB6833_Final_Product_C1_8825.bmp', '/content/drive/My Drive/Paul sandu/Requirement/Thesis stuff/data/unfocused/JoMg_AB6833_Final_Product_C1_8584.bmp', '/content/drive/My Drive/Paul sandu/Requirement/Thesis stuff/data/unfocused/JoMg_AB6833_Final_Product_C1_8829.bmp', '/content/drive/My Drive/Paul sandu/Requirement/Thesis stuff/data/unfocused/JoMg_AB6833_Final_Product_C1_8542.bmp', '/content/drive/My Drive/Paul sandu/Requirement/Thesis stuff/data/unfocused/JoMg_AB6833_Final_Product_C1_8697.bmp', '/content/drive/My Drive/Paul sandu/Requirement/Thesis stuff/data/unfocused/JoMg_AB6833_Final_Product_C1_8765.bmp', '/content/drive/My Drive/Paul sandu/Requirement/Thesis stuff/data/unfocused/JoMg_AB6833_Final_Product_C1_8479.bmp', '/content/drive/My Drive/Paul sandu/Requirement/Thesis stuff/data/unfocused/JoMg_AB6833_Final_Product_C1_8658.bmp', '/content/drive/My Drive/Paul sandu/Requirement/Thesis stuff/data/unfocused/JoMg_AB6833_Final_Product_C1_8694.bmp', '/content/drive/My Drive/Paul sandu/Requirement/Thesis stuff/data/unfocused/JoMg_AB6833_Final_Product_C1_867.bmp', '/content/drive/My Drive/Paul sandu/Requirement/Thesis stuff/data/unfocused/JoMg_AB6833_Final_Product_C1_8526.bmp', '/content/drive/My Drive/Paul sandu/Requirement/Thesis stuff/data/unfocused/JoMg_AB6833_Final_Product_C1_8755.bmp', '/content/drive/My Drive/Paul sandu/Requirement/Thesis stuff/data/unfocused/JoMg_AB6833_Final_Product_C1_883.bmp', '/content/drive/My Drive/Paul sandu/Requirement/Thesis stuff/data/unfocused/JoMg_AB6833_Final_Product_C1_8649.bmp', '/content/drive/My Drive/Paul sandu/Requirement/Thesis stuff/data/unfocused/JoMg_AB6833_Final_Product_C1_8476.bmp', '/content/drive/My Drive/Paul sandu/Requirement/Thesis stuff/data/unfocused/JoMg_AB6833_Final_Product_C1_8711.bmp', '/content/drive/My Drive/Paul sandu/Requirement/Thesis stuff/data/unfocused/JoMg_AB6833_Final_Product_C1_8576.bmp', '/content/drive/My Drive/Paul sandu/Requirement/Thesis stuff/data/unfocused/JoMg_AB6833_Final_Product_C1_8667.bmp', '/content/drive/My Drive/Paul sandu/Requirement/Thesis stuff/data/unfocused/JoMg_AB6833_Final_Product_C1_8760.bmp', '/content/drive/My Drive/Paul sandu/Requirement/Thesis stuff/data/unfocused/JoMg_AB6833_Final_Product_C1_8579.bmp', '/content/drive/My Drive/Paul sandu/Requirement/Thesis stuff/data/unfocused/JoMg_AB6833_Final_Product_C1_8467.bmp', '/content/drive/My Drive/Paul sandu/Requirement/Thesis stuff/data/unfocused/JoMg_AB6833_Final_Product_C1_8751.bmp', '/content/drive/My Drive/Paul sandu/Requirement/Thesis stuff/data/unfocused/JoMg_AB6833_Final_Product_C1_8621.bmp', '/content/drive/My Drive/Paul sandu/Requirement/Thesis stuff/data/unfocused/JoMg_AB6833_Final_Product_C1_8538.bmp', '/content/drive/My Drive/Paul sandu/Requirement/Thesis stuff/data/unfocused/JoMg_AB6833_Final_Product_C1_8634.bmp', '/content/drive/My Drive/Paul sandu/Requirement/Thesis stuff/data/unfocused/JoMg_AB6833_Final_Product_C1_8591.bmp', '/content/drive/My Drive/Paul sandu/Requirement/Thesis stuff/data/unfocused/JoMg_AB6833_Final_Product_C1_8539.bmp', '/content/drive/My Drive/Paul sandu/Requirement/Thesis stuff/data/unfocused/JoMg_AB6833_Final_Product_C1_8772.bmp', '/content/drive/My Drive/Paul sandu/Requirement/Thesis stuff/data/unfocused/JoMg_AB6833_Final_Product_C1_8604.bmp', '/content/drive/My Drive/Paul sandu/Requirement/Thesis stuff/data/unfocused/JoMg_AB6833_Final_Product_C1_8519.bmp', '/content/drive/My Drive/Paul sandu/Requirement/Thesis stuff/data/unfocused/JoMg_AB6833_Final_Product_C1_8777.bmp', '/content/drive/My Drive/Paul sandu/Requirement/Thesis stuff/data/unfocused/JoMg_AB6833_Final_Product_C1_8848.bmp', '/content/drive/My Drive/Paul sandu/Requirement/Thesis stuff/data/unfocused/JoMg_AB6833_Final_Product_C1_895.bmp', '/content/drive/My Drive/Paul sandu/Requirement/Thesis stuff/data/unfocused/JoMg_AB6833_Final_Product_C1_8832.bmp', '/content/drive/My Drive/Paul sandu/Requirement/Thesis stuff/data/unfocused/JoMg_AB6833_Final_Product_C1_9036.bmp', '/content/drive/My Drive/Paul sandu/Requirement/Thesis stuff/data/unfocused/JoMg_AB6833_Final_Product_C1_8833.bmp', '/content/drive/My Drive/Paul sandu/Requirement/Thesis stuff/data/unfocused/JoMg_AB6833_Final_Product_C1_9098.bmp', '/content/drive/My Drive/Paul sandu/Requirement/Thesis stuff/data/unfocused/JoMg_AB6833_Final_Product_C1_8874.bmp', '/content/drive/My Drive/Paul sandu/Requirement/Thesis stuff/data/unfocused/JoMg_AB6833_Final_Product_C1_8932.bmp', '/content/drive/My Drive/Paul sandu/Requirement/Thesis stuff/data/unfocused/JoMg_AB6833_Final_Product_C1_8896.bmp', '/content/drive/My Drive/Paul sandu/Requirement/Thesis stuff/data/unfocused/JoMg_AB6833_Final_Product_C1_8921.bmp', '/content/drive/My Drive/Paul sandu/Requirement/Thesis stuff/data/unfocused/JoMg_AB6833_Final_Product_C1_9017.bmp', '/content/drive/My Drive/Paul sandu/Requirement/Thesis stuff/data/unfocused/JoMg_AB6833_Final_Product_C1_9002.bmp', '/content/drive/My Drive/Paul sandu/Requirement/Thesis stuff/data/unfocused/JoMg_AB6833_Final_Product_C1_8999.bmp', '/content/drive/My Drive/Paul sandu/Requirement/Thesis stuff/data/unfocused/JoMg_AB6833_Final_Product_C1_8955.bmp', '/content/drive/My Drive/Paul sandu/Requirement/Thesis stuff/data/unfocused/JoMg_AB6833_Final_Product_C1_9097.bmp', '/content/drive/My Drive/Paul sandu/Requirement/Thesis stuff/data/unfocused/JoMg_AB6833_Final_Product_C1_922.bmp', '/content/drive/My Drive/Paul sandu/Requirement/Thesis stuff/data/unfocused/JoMg_AB6833_Final_Product_C1_9046.bmp', '/content/drive/My Drive/Paul sandu/Requirement/Thesis stuff/data/unfocused/JoMg_AB6833_Final_Product_C1_9023.bmp', '/content/drive/My Drive/Paul sandu/Requirement/Thesis stuff/data/unfocused/JoMg_AB6833_Final_Product_C1_9159.bmp', '/content/drive/My Drive/Paul sandu/Requirement/Thesis stuff/data/unfocused/JoMg_AB6833_Final_Product_C1_9025.bmp', '/content/drive/My Drive/Paul sandu/Requirement/Thesis stuff/data/unfocused/JoMg_AB6833_Final_Product_C1_887.bmp', '/content/drive/My Drive/Paul sandu/Requirement/Thesis stuff/data/unfocused/JoMg_AB6833_Final_Product_C1_9022.bmp', '/content/drive/My Drive/Paul sandu/Requirement/Thesis stuff/data/unfocused/JoMg_AB6833_Final_Product_C1_9075.bmp', '/content/drive/My Drive/Paul sandu/Requirement/Thesis stuff/data/unfocused/JoMg_AB6833_Final_Product_C1_9062.bmp', '/content/drive/My Drive/Paul sandu/Requirement/Thesis stuff/data/unfocused/JoMg_AB6833_Final_Product_C1_8938.bmp', '/content/drive/My Drive/Paul sandu/Requirement/Thesis stuff/data/unfocused/JoMg_AB6833_Final_Product_C1_9152.bmp', '/content/drive/My Drive/Paul sandu/Requirement/Thesis stuff/data/unfocused/JoMg_AB6833_Final_Product_C1_9245.bmp', '/content/drive/My Drive/Paul sandu/Requirement/Thesis stuff/data/unfocused/JoMg_AB6833_Final_Product_C1_9082.bmp', '/content/drive/My Drive/Paul sandu/Requirement/Thesis stuff/data/unfocused/JoMg_AB6833_Final_Product_C1_890.bmp', '/content/drive/My Drive/Paul sandu/Requirement/Thesis stuff/data/unfocused/JoMg_AB6833_Final_Product_C1_8882.bmp', '/content/drive/My Drive/Paul sandu/Requirement/Thesis stuff/data/unfocused/JoMg_AB6833_Final_Product_C1_8835.bmp', '/content/drive/My Drive/Paul sandu/Requirement/Thesis stuff/data/unfocused/JoMg_AB6833_Final_Product_C1_8973.bmp', '/content/drive/My Drive/Paul sandu/Requirement/Thesis stuff/data/unfocused/JoMg_AB6833_Final_Product_C1_9091.bmp', '/content/drive/My Drive/Paul sandu/Requirement/Thesis stuff/data/unfocused/JoMg_AB6833_Final_Product_C1_8897.bmp', '/content/drive/My Drive/Paul sandu/Requirement/Thesis stuff/data/unfocused/JoMg_AB6833_Final_Product_C1_9184.bmp', '/content/drive/My Drive/Paul sandu/Requirement/Thesis stuff/data/unfocused/JoMg_AB6833_Final_Product_C1_9176.bmp', '/content/drive/My Drive/Paul sandu/Requirement/Thesis stuff/data/unfocused/JoMg_AB6833_Final_Product_C1_9475.bmp', '/content/drive/My Drive/Paul sandu/Requirement/Thesis stuff/data/unfocused/JoMg_AB6833_Final_Product_C1_9354.bmp', '/content/drive/My Drive/Paul sandu/Requirement/Thesis stuff/data/unfocused/JoMg_AB6833_Final_Product_C1_9520.bmp', '/content/drive/My Drive/Paul sandu/Requirement/Thesis stuff/data/unfocused/JoMg_AB6833_Final_Product_C1_9347.bmp', '/content/drive/My Drive/Paul sandu/Requirement/Thesis stuff/data/unfocused/JoMg_AB6833_Final_Product_C1_942.bmp', '/content/drive/My Drive/Paul sandu/Requirement/Thesis stuff/data/unfocused/JoMg_AB6833_Final_Product_C1_9290.bmp', '/content/drive/My Drive/Paul sandu/Requirement/Thesis stuff/data/unfocused/JoMg_AB6833_Final_Product_C1_9265.bmp', '/content/drive/My Drive/Paul sandu/Requirement/Thesis stuff/data/unfocused/JoMg_AB6833_Final_Product_C1_9387.bmp', '/content/drive/My Drive/Paul sandu/Requirement/Thesis stuff/data/unfocused/JoMg_AB6833_Final_Product_C1_9385.bmp', '/content/drive/My Drive/Paul sandu/Requirement/Thesis stuff/data/unfocused/JoMg_AB6833_Final_Product_C1_9306.bmp', '/content/drive/My Drive/Paul sandu/Requirement/Thesis stuff/data/unfocused/JoMg_AB6833_Final_Product_C1_928.bmp', '/content/drive/My Drive/Paul sandu/Requirement/Thesis stuff/data/unfocused/JoMg_AB6833_Final_Product_C1_9441.bmp', '/content/drive/My Drive/Paul sandu/Requirement/Thesis stuff/data/unfocused/JoMg_AB6833_Final_Product_C1_9577.bmp', '/content/drive/My Drive/Paul sandu/Requirement/Thesis stuff/data/unfocused/JoMg_AB6833_Final_Product_C1_9366.bmp', '/content/drive/My Drive/Paul sandu/Requirement/Thesis stuff/data/unfocused/JoMg_AB6833_Final_Product_C1_9309.bmp', '/content/drive/My Drive/Paul sandu/Requirement/Thesis stuff/data/unfocused/JoMg_AB6833_Final_Product_C1_9502.bmp', '/content/drive/My Drive/Paul sandu/Requirement/Thesis stuff/data/unfocused/JoMg_AB6833_Final_Product_C1_9322.bmp', '/content/drive/My Drive/Paul sandu/Requirement/Thesis stuff/data/unfocused/JoMg_AB6833_Final_Product_C1_9488.bmp', '/content/drive/My Drive/Paul sandu/Requirement/Thesis stuff/data/unfocused/JoMg_AB6833_Final_Product_C1_930.bmp', '/content/drive/My Drive/Paul sandu/Requirement/Thesis stuff/data/unfocused/JoMg_AB6833_Final_Product_C1_9324.bmp', '/content/drive/My Drive/Paul sandu/Requirement/Thesis stuff/data/unfocused/JoMg_AB6833_Final_Product_C1_9494.bmp', '/content/drive/My Drive/Paul sandu/Requirement/Thesis stuff/data/unfocused/JoMg_AB6833_Final_Product_C1_9532.bmp', '/content/drive/My Drive/Paul sandu/Requirement/Thesis stuff/data/unfocused/JoMg_AB6833_Final_Product_C1_9413.bmp', '/content/drive/My Drive/Paul sandu/Requirement/Thesis stuff/data/unfocused/JoMg_AB6833_Final_Product_C1_9277.bmp', '/content/drive/My Drive/Paul sandu/Requirement/Thesis stuff/data/unfocused/JoMg_AB6833_Final_Product_C1_9436.bmp', '/content/drive/My Drive/Paul sandu/Requirement/Thesis stuff/data/unfocused/JoMg_AB6833_Final_Product_C1_9362.bmp', '/content/drive/My Drive/Paul sandu/Requirement/Thesis stuff/data/unfocused/JoMg_AB6833_Final_Product_C1_9409.bmp', '/content/drive/My Drive/Paul sandu/Requirement/Thesis stuff/data/unfocused/JoMg_AB6833_Final_Product_C1_9568.bmp', '/content/drive/My Drive/Paul sandu/Requirement/Thesis stuff/data/unfocused/JoMg_AB6833_Final_Product_C1_9585.bmp', '/content/drive/My Drive/Paul sandu/Requirement/Thesis stuff/data/unfocused/JoMg_AB6833_Final_Product_C1_9266.bmp', '/content/drive/My Drive/Paul sandu/Requirement/Thesis stuff/data/unfocused/JoMg_AB6833_Final_Product_C1_9573.bmp', '/content/drive/My Drive/Paul sandu/Requirement/Thesis stuff/data/unfocused/JoMg_AB6833_Final_Product_C1_9468.bmp', '/content/drive/My Drive/Paul sandu/Requirement/Thesis stuff/data/unfocused/JoMg_AB6833_Final_Product_C1_9491.bmp', '/content/drive/My Drive/Paul sandu/Requirement/Thesis stuff/data/unfocused/JoMg_AB6833_Final_Product_C1_9486.bmp', '/content/drive/My Drive/Paul sandu/Requirement/Thesis stuff/data/unfocused/JoMg_AB6833_Final_Product_C1_9328.bmp', '/content/drive/My Drive/Paul sandu/Requirement/Thesis stuff/data/unfocused/JoMg_AB6833_Final_Product_C1_9352.bmp', '/content/drive/My Drive/Paul sandu/Requirement/Thesis stuff/data/unfocused/JoMg_AB6833_Final_Product_C1_9684.bmp', '/content/drive/My Drive/Paul sandu/Requirement/Thesis stuff/data/unfocused/JoMg_AB6833_Final_Product_C1_968.bmp', '/content/drive/My Drive/Paul sandu/Requirement/Thesis stuff/data/unfocused/JoMg_AB6833_Final_Product_C1_9669.bmp', '/content/drive/My Drive/Paul sandu/Requirement/Thesis stuff/data/unfocused/JoMg_AB6833_Final_Product_C1_9616.bmp', '/content/drive/My Drive/Paul sandu/Requirement/Thesis stuff/data/unfocused/JoMg_AB6833_Final_Product_C1_9784.bmp', '/content/drive/My Drive/Paul sandu/Requirement/Thesis stuff/data/unfocused/JoMg_AB6833_Final_Product_C1_9837.bmp', '/content/drive/My Drive/Paul sandu/Requirement/Thesis stuff/data/unfocused/JoMg_AB6833_Final_Product_C1_9683.bmp', '/content/drive/My Drive/Paul sandu/Requirement/Thesis stuff/data/unfocused/JoMg_AB6833_Final_Product_C1_9815.bmp', '/content/drive/My Drive/Paul sandu/Requirement/Thesis stuff/data/unfocused/JoMg_AB6833_Final_Product_C1_9653.bmp', '/content/drive/My Drive/Paul sandu/Requirement/Thesis stuff/data/unfocused/JoMg_AB6833_Final_Product_C1_9607.bmp', '/content/drive/My Drive/Paul sandu/Requirement/Thesis stuff/data/unfocused/JoMg_AB6833_Final_Product_C1_9759.bmp', '/content/drive/My Drive/Paul sandu/Requirement/Thesis stuff/data/unfocused/JoMg_AB6833_Final_Product_C1_9802.bmp', '/content/drive/My Drive/Paul sandu/Requirement/Thesis stuff/data/unfocused/JoMg_AB6833_Final_Product_C1_9783.bmp', '/content/drive/My Drive/Paul sandu/Requirement/Thesis stuff/data/unfocused/JoMg_AB6833_Final_Product_C1_9692.bmp', '/content/drive/My Drive/Paul sandu/Requirement/Thesis stuff/data/unfocused/JoMg_AB6833_Final_Product_C1_9592.bmp', '/content/drive/My Drive/Paul sandu/Requirement/Thesis stuff/data/unfocused/JoMg_AB6833_Final_Product_C1_9776.bmp', '/content/drive/My Drive/Paul sandu/Requirement/Thesis stuff/data/unfocused/JoMg_AB6833_Final_Product_C1_9675.bmp', '/content/drive/My Drive/Paul sandu/Requirement/Thesis stuff/data/unfocused/JoMg_AB6833_Final_Product_C1_9774.bmp', '/content/drive/My Drive/Paul sandu/Requirement/Thesis stuff/data/unfocused/JoMg_AB6833_Final_Product_C1_963.bmp', '/content/drive/My Drive/Paul sandu/Requirement/Thesis stuff/data/unfocused/JoMg_AB6833_Final_Product_C1_9801.bmp', '/content/drive/My Drive/Paul sandu/Requirement/Thesis stuff/data/unfocused/JoMg_AB6833_Final_Product_C1_9708.bmp', '/content/drive/My Drive/Paul sandu/Requirement/Thesis stuff/data/unfocused/JoMg_AB6833_Final_Product_C1_9829.bmp', '/content/drive/My Drive/Paul sandu/Requirement/Thesis stuff/data/unfocused/JoMg_AB6833_Final_Product_C1_9824.bmp', '/content/drive/My Drive/Paul sandu/Requirement/Thesis stuff/data/unfocused/JoMg_AB6833_Final_Product_C1_9646.bmp', '/content/drive/My Drive/Paul sandu/Requirement/Thesis stuff/data/unfocused/JoMg_AB6833_Final_Product_C1_9672.bmp', '/content/drive/My Drive/Paul sandu/Requirement/Thesis stuff/data/unfocused/JoMg_AB6833_Final_Product_C1_9731.bmp', '/content/drive/My Drive/Paul sandu/Requirement/Thesis stuff/data/unfocused/JoMg_AB6833_Final_Product_C1_9700.bmp', '/content/drive/My Drive/Paul sandu/Requirement/Thesis stuff/data/unfocused/JoMg_AB6833_Final_Product_C1_9732.bmp', '/content/drive/My Drive/Paul sandu/Requirement/Thesis stuff/data/unfocused/JoMg_AB6833_Final_Product_C1_970.bmp', '/content/drive/My Drive/Paul sandu/Requirement/Thesis stuff/data/unfocused/JoMg_AB6833_Final_Product_C1_9756.bmp', '/content/drive/My Drive/Paul sandu/Requirement/Thesis stuff/data/unfocused/JoMg_AB6833_Final_Product_C1_9686.bmp', '/content/drive/My Drive/Paul sandu/Requirement/Thesis stuff/data/unfocused/JoMg_AB6833_Final_Product_C1_9633.bmp', '/content/drive/My Drive/Paul sandu/Requirement/Thesis stuff/data/unfocused/JoMg_AB6833_Final_Product_C1_9730.bmp', '/content/drive/My Drive/Paul sandu/Requirement/Thesis stuff/data/unfocused/JoMg_AB6833_Final_Product_C1_9845.bmp', '/content/drive/My Drive/Paul sandu/Requirement/Thesis stuff/data/unfocused/Tony_subset_for_MSc_11199.bmp', '/content/drive/My Drive/Paul sandu/Requirement/Thesis stuff/data/unfocused/JoMg_AB6833_Final_Product_C1_9869.bmp', '/content/drive/My Drive/Paul sandu/Requirement/Thesis stuff/data/unfocused/Tony_subset_for_MSc_11715.bmp', '/content/drive/My Drive/Paul sandu/Requirement/Thesis stuff/data/unfocused/Tony_subset_for_MSc_10614.bmp', '/content/drive/My Drive/Paul sandu/Requirement/Thesis stuff/data/unfocused/JoMg_AB6833_Final_Product_C1_9846.bmp', '/content/drive/My Drive/Paul sandu/Requirement/Thesis stuff/data/unfocused/Tony_subset_for_MSc_10582.bmp', '/content/drive/My Drive/Paul sandu/Requirement/Thesis stuff/data/unfocused/JoMg_AB6833_Final_Product_C1_9881.bmp', '/content/drive/My Drive/Paul sandu/Requirement/Thesis stuff/data/unfocused/Tony_subset_for_MSc_11128.bmp', '/content/drive/My Drive/Paul sandu/Requirement/Thesis stuff/data/unfocused/Tony_subset_for_MSc_12261.bmp', '/content/drive/My Drive/Paul sandu/Requirement/Thesis stuff/data/unfocused/Tony_subset_for_MSc_10630.bmp', '/content/drive/My Drive/Paul sandu/Requirement/Thesis stuff/data/unfocused/JoMg_AB6833_Final_Product_C1_9979.bmp', '/content/drive/My Drive/Paul sandu/Requirement/Thesis stuff/data/unfocused/JoMg_AB6833_Final_Product_C1_9959.bmp', '/content/drive/My Drive/Paul sandu/Requirement/Thesis stuff/data/unfocused/JoMg_AB6833_Final_Product_C1_9951.bmp', '/content/drive/My Drive/Paul sandu/Requirement/Thesis stuff/data/unfocused/Tony_subset_for_MSc_12246.bmp', '/content/drive/My Drive/Paul sandu/Requirement/Thesis stuff/data/unfocused/JoMg_AB6833_Final_Product_C1_9963.bmp', '/content/drive/My Drive/Paul sandu/Requirement/Thesis stuff/data/unfocused/JoMg_AB6833_Final_Product_C1_9878.bmp', '/content/drive/My Drive/Paul sandu/Requirement/Thesis stuff/data/unfocused/Tony_subset_for_MSc_10583.bmp', '/content/drive/My Drive/Paul sandu/Requirement/Thesis stuff/data/unfocused/Tony_subset_for_MSc_12070.bmp', '/content/drive/My Drive/Paul sandu/Requirement/Thesis stuff/data/unfocused/JoMg_AB6833_Final_Product_C1_9996.bmp', '/content/drive/My Drive/Paul sandu/Requirement/Thesis stuff/data/unfocused/Tony_subset_for_MSc_11356.bmp', '/content/drive/My Drive/Paul sandu/Requirement/Thesis stuff/data/unfocused/JoMg_AB6833_Final_Product_C1_9987.bmp', '/content/drive/My Drive/Paul sandu/Requirement/Thesis stuff/data/unfocused/JoMg_AB6833_Final_Product_C1_9848.bmp', '/content/drive/My Drive/Paul sandu/Requirement/Thesis stuff/data/unfocused/Tony_subset_for_MSc_1076.bmp', '/content/drive/My Drive/Paul sandu/Requirement/Thesis stuff/data/unfocused/JoMg_AB6833_Final_Product_C1_9988.bmp', '/content/drive/My Drive/Paul sandu/Requirement/Thesis stuff/data/unfocused/JoMg_AB6833_Final_Product_C1_991.bmp', '/content/drive/My Drive/Paul sandu/Requirement/Thesis stuff/data/unfocused/Tony_subset_for_MSc_12251.bmp', '/content/drive/My Drive/Paul sandu/Requirement/Thesis stuff/data/unfocused/Tony_subset_for_MSc_11984.bmp', '/content/drive/My Drive/Paul sandu/Requirement/Thesis stuff/data/unfocused/Tony_subset_for_MSc_12256.bmp', '/content/drive/My Drive/Paul sandu/Requirement/Thesis stuff/data/unfocused/Tony_subset_for_MSc_12240.bmp', '/content/drive/My Drive/Paul sandu/Requirement/Thesis stuff/data/unfocused/Tony_subset_for_MSc_12143.bmp', '/content/drive/My Drive/Paul sandu/Requirement/Thesis stuff/data/unfocused/JoMg_AB6833_Final_Product_C1_9977.bmp', '/content/drive/My Drive/Paul sandu/Requirement/Thesis stuff/data/unfocused/Tony_subset_for_MSc_12728.bmp', '/content/drive/My Drive/Paul sandu/Requirement/Thesis stuff/data/unfocused/Tony_subset_for_MSc_2224.bmp', '/content/drive/My Drive/Paul sandu/Requirement/Thesis stuff/data/unfocused/Tony_subset_for_MSc_12647.bmp', '/content/drive/My Drive/Paul sandu/Requirement/Thesis stuff/data/unfocused/Tony_subset_for_MSc_12423.bmp', '/content/drive/My Drive/Paul sandu/Requirement/Thesis stuff/data/unfocused/Tony_subset_for_MSc_12313.bmp', '/content/drive/My Drive/Paul sandu/Requirement/Thesis stuff/data/unfocused/Tony_subset_for_MSc_2381.bmp', '/content/drive/My Drive/Paul sandu/Requirement/Thesis stuff/data/unfocused/Tony_subset_for_MSc_12532.bmp', '/content/drive/My Drive/Paul sandu/Requirement/Thesis stuff/data/unfocused/Tony_subset_for_MSc_12849.bmp', '/content/drive/My Drive/Paul sandu/Requirement/Thesis stuff/data/unfocused/Tony_subset_for_MSc_1949.bmp', '/content/drive/My Drive/Paul sandu/Requirement/Thesis stuff/data/unfocused/Tony_subset_for_MSc_13612.bmp', '/content/drive/My Drive/Paul sandu/Requirement/Thesis stuff/data/unfocused/Tony_subset_for_MSc_12875.bmp', '/content/drive/My Drive/Paul sandu/Requirement/Thesis stuff/data/unfocused/Tony_subset_for_MSc_12359.bmp', '/content/drive/My Drive/Paul sandu/Requirement/Thesis stuff/data/unfocused/Tony_subset_for_MSc_2074.bmp', '/content/drive/My Drive/Paul sandu/Requirement/Thesis stuff/data/unfocused/Tony_subset_for_MSc_12622.bmp', '/content/drive/My Drive/Paul sandu/Requirement/Thesis stuff/data/unfocused/Tony_subset_for_MSc_2085.bmp', '/content/drive/My Drive/Paul sandu/Requirement/Thesis stuff/data/unfocused/Tony_subset_for_MSc_12619.bmp', '/content/drive/My Drive/Paul sandu/Requirement/Thesis stuff/data/unfocused/Tony_subset_for_MSc_1604.bmp', '/content/drive/My Drive/Paul sandu/Requirement/Thesis stuff/data/unfocused/Tony_subset_for_MSc_14111.bmp', '/content/drive/My Drive/Paul sandu/Requirement/Thesis stuff/data/unfocused/Tony_subset_for_MSc_12624.bmp', '/content/drive/My Drive/Paul sandu/Requirement/Thesis stuff/data/unfocused/Tony_subset_for_MSc_3217.bmp', '/content/drive/My Drive/Paul sandu/Requirement/Thesis stuff/data/unfocused/Tony_subset_for_MSc_12389.bmp', '/content/drive/My Drive/Paul sandu/Requirement/Thesis stuff/data/unfocused/Tony_subset_for_MSc_1617.bmp', '/content/drive/My Drive/Paul sandu/Requirement/Thesis stuff/data/unfocused/Tony_subset_for_MSc_2590.bmp', '/content/drive/My Drive/Paul sandu/Requirement/Thesis stuff/data/unfocused/Tony_subset_for_MSc_1365.bmp', '/content/drive/My Drive/Paul sandu/Requirement/Thesis stuff/data/unfocused/Tony_subset_for_MSc_13216.bmp', '/content/drive/My Drive/Paul sandu/Requirement/Thesis stuff/data/unfocused/Tony_subset_for_MSc_13791.bmp', '/content/drive/My Drive/Paul sandu/Requirement/Thesis stuff/data/unfocused/Tony_subset_for_MSc_12465.bmp', '/content/drive/My Drive/Paul sandu/Requirement/Thesis stuff/data/unfocused/Tony_subset_for_MSc_3514.bmp', '/content/drive/My Drive/Paul sandu/Requirement/Thesis stuff/data/unfocused/Tony_subset_for_MSc_13742.bmp', '/content/drive/My Drive/Paul sandu/Requirement/Thesis stuff/data/unfocused/Tony_subset_for_MSc_1346.bmp', '/content/drive/My Drive/Paul sandu/Requirement/Thesis stuff/data/unfocused/Tony_subset_for_MSc_3611.bmp', '/content/drive/My Drive/Paul sandu/Requirement/Thesis stuff/data/unfocused/Tony_subset_for_MSc_5153.bmp', '/content/drive/My Drive/Paul sandu/Requirement/Thesis stuff/data/unfocused/Tony_subset_for_MSc_5308.bmp', '/content/drive/My Drive/Paul sandu/Requirement/Thesis stuff/data/unfocused/Tony_subset_for_MSc_4447.bmp', '/content/drive/My Drive/Paul sandu/Requirement/Thesis stuff/data/unfocused/Tony_subset_for_MSc_6712.bmp', '/content/drive/My Drive/Paul sandu/Requirement/Thesis stuff/data/unfocused/Tony_subset_for_MSc_4079.bmp', '/content/drive/My Drive/Paul sandu/Requirement/Thesis stuff/data/unfocused/Tony_subset_for_MSc_7365.bmp', '/content/drive/My Drive/Paul sandu/Requirement/Thesis stuff/data/unfocused/Tony_subset_for_MSc_604.bmp', '/content/drive/My Drive/Paul sandu/Requirement/Thesis stuff/data/unfocused/Tony_subset_for_MSc_5012.bmp', '/content/drive/My Drive/Paul sandu/Requirement/Thesis stuff/data/unfocused/Tony_subset_for_MSc_4040.bmp', '/content/drive/My Drive/Paul sandu/Requirement/Thesis stuff/data/unfocused/Tony_subset_for_MSc_5156.bmp', '/content/drive/My Drive/Paul sandu/Requirement/Thesis stuff/data/unfocused/Tony_subset_for_MSc_7476.bmp', '/content/drive/My Drive/Paul sandu/Requirement/Thesis stuff/data/unfocused/Tony_subset_for_MSc_4080.bmp', '/content/drive/My Drive/Paul sandu/Requirement/Thesis stuff/data/unfocused/Tony_subset_for_MSc_6851.bmp', '/content/drive/My Drive/Paul sandu/Requirement/Thesis stuff/data/unfocused/Tony_subset_for_MSc_6033.bmp', '/content/drive/My Drive/Paul sandu/Requirement/Thesis stuff/data/unfocused/Tony_subset_for_MSc_5322.bmp', '/content/drive/My Drive/Paul sandu/Requirement/Thesis stuff/data/unfocused/Tony_subset_for_MSc_4827.bmp', '/content/drive/My Drive/Paul sandu/Requirement/Thesis stuff/data/unfocused/Tony_subset_for_MSc_6095.bmp', '/content/drive/My Drive/Paul sandu/Requirement/Thesis stuff/data/unfocused/Tony_subset_for_MSc_4390.bmp', '/content/drive/My Drive/Paul sandu/Requirement/Thesis stuff/data/unfocused/Tony_subset_for_MSc_5940.bmp', '/content/drive/My Drive/Paul sandu/Requirement/Thesis stuff/data/unfocused/Tony_subset_for_MSc_5616.bmp', '/content/drive/My Drive/Paul sandu/Requirement/Thesis stuff/data/unfocused/Tony_subset_for_MSc_696.bmp', '/content/drive/My Drive/Paul sandu/Requirement/Thesis stuff/data/unfocused/Tony_subset_for_MSc_6800.bmp', '/content/drive/My Drive/Paul sandu/Requirement/Thesis stuff/data/unfocused/Tony_subset_for_MSc_4410.bmp', '/content/drive/My Drive/Paul sandu/Requirement/Thesis stuff/data/unfocused/Tony_subset_for_MSc_5539.bmp', '/content/drive/My Drive/Paul sandu/Requirement/Thesis stuff/data/unfocused/Tony_subset_for_MSc_7371.bmp', '/content/drive/My Drive/Paul sandu/Requirement/Thesis stuff/data/unfocused/Tony_subset_for_MSc_4952.bmp', '/content/drive/My Drive/Paul sandu/Requirement/Thesis stuff/data/unfocused/Tony_subset_for_MSc_5512.bmp', '/content/drive/My Drive/Paul sandu/Requirement/Thesis stuff/data/unfocused/Tony_subset_for_MSc_6361.bmp', '/content/drive/My Drive/Paul sandu/Requirement/Thesis stuff/data/unfocused/Tony_subset_for_MSc_719.bmp', '/content/drive/My Drive/Paul sandu/Requirement/Thesis stuff/data/unfocused/Tony_subset_for_MSc_5470.bmp', '/content/drive/My Drive/Paul sandu/Requirement/Thesis stuff/data/unfocused/Tony_subset_for_MSc_529.bmp', '/content/drive/My Drive/Paul sandu/Requirement/Thesis stuff/data/unfocused/Tony_subset_for_MSc_4462.bmp', '/content/drive/My Drive/Paul sandu/Requirement/Thesis stuff/data/unfocused/Tony_subset_for_MSc_4316.bmp', '/content/drive/My Drive/Paul sandu/Requirement/Thesis stuff/data/unfocused/Tony_subset_for_MSc_8492.bmp', '/content/drive/My Drive/Paul sandu/Requirement/Thesis stuff/data/unfocused/Tony_subset_for_MSc_9213.bmp', '/content/drive/My Drive/Paul sandu/Requirement/Thesis stuff/data/unfocused/Tony_subset_for_MSc_9055.bmp', '/content/drive/My Drive/Paul sandu/Requirement/Thesis stuff/data/unfocused/Tony_subset_for_MSc_8999.bmp', '/content/drive/My Drive/Paul sandu/Requirement/Thesis stuff/data/unfocused/Tony_subset_for_MSc_9556.bmp', '/content/drive/My Drive/Paul sandu/Requirement/Thesis stuff/data/unfocused/Tony_subset_for_MSc_9208.bmp', '/content/drive/My Drive/Paul sandu/Requirement/Thesis stuff/data/unfocused/Tony_subset_for_MSc_8822.bmp', '/content/drive/My Drive/Paul sandu/Requirement/Thesis stuff/data/unfocused/Tony_subset_for_MSc_7518.bmp', '/content/drive/My Drive/Paul sandu/Requirement/Thesis stuff/data/unfocused/Tony_subset_for_MSc_8684.bmp', '/content/drive/My Drive/Paul sandu/Requirement/Thesis stuff/data/unfocused/Tony_subset_for_MSc_8707.bmp', '/content/drive/My Drive/Paul sandu/Requirement/Thesis stuff/data/unfocused/Tony_subset_for_MSc_9617.bmp', '/content/drive/My Drive/Paul sandu/Requirement/Thesis stuff/data/unfocused/Tony_subset_for_MSc_9654.bmp', '/content/drive/My Drive/Paul sandu/Requirement/Thesis stuff/data/unfocused/Tony_subset_for_MSc_8076.bmp', '/content/drive/My Drive/Paul sandu/Requirement/Thesis stuff/data/unfocused/Tony_subset_for_MSc_9110.bmp', '/content/drive/My Drive/Paul sandu/Requirement/Thesis stuff/data/unfocused/Tony_subset_for_MSc_9935.bmp', '/content/drive/My Drive/Paul sandu/Requirement/Thesis stuff/data/unfocused/Tony_subset_for_MSc_8994.bmp', '/content/drive/My Drive/Paul sandu/Requirement/Thesis stuff/data/unfocused/Tony_subset_for_MSc_9753.bmp', '/content/drive/My Drive/Paul sandu/Requirement/Thesis stuff/data/unfocused/Tony_subset_for_MSc_9569.bmp', '/content/drive/My Drive/Paul sandu/Requirement/Thesis stuff/data/unfocused/Tony_subset_for_MSc_9700.bmp', '/content/drive/My Drive/Paul sandu/Requirement/Thesis stuff/data/unfocused/Tony_subset_for_MSc_9191.bmp', '/content/drive/My Drive/Paul sandu/Requirement/Thesis stuff/data/unfocused/Tony_subset_for_MSc_961.bmp', '/content/drive/My Drive/Paul sandu/Requirement/Thesis stuff/data/unfocused/Tony_subset_for_MSc_9215.bmp', '/content/drive/My Drive/Paul sandu/Requirement/Thesis stuff/data/unfocused/Tony_subset_for_MSc_8704.bmp', '/content/drive/My Drive/Paul sandu/Requirement/Thesis stuff/data/unfocused/Tony_subset_for_MSc_9732.bmp', '/content/drive/My Drive/Paul sandu/Requirement/Thesis stuff/data/unfocused/Tony_subset_for_MSc_9293.bmp', '/content/drive/My Drive/Paul sandu/Requirement/Thesis stuff/data/unfocused/Tony_subset_for_MSc_810.bmp', '/content/drive/My Drive/Paul sandu/Requirement/Thesis stuff/data/unfocused/Tony_subset_for_MSc_8016.bmp', '/content/drive/My Drive/Paul sandu/Requirement/Thesis stuff/data/unfocused/Tony_subset_for_MSc_7843.bmp', '/content/drive/My Drive/Paul sandu/Requirement/Thesis stuff/data/unfocused/Tony_subset_for_MSc_8896.bmp', '/content/drive/My Drive/Paul sandu/Requirement/Thesis stuff/data/unfocused/Tony_subset_for_MSc_9051.bmp', '/content/drive/My Drive/Paul sandu/Requirement/Thesis stuff/data/unfocused/aspirin_1170.bmp', '/content/drive/My Drive/Paul sandu/Requirement/Thesis stuff/data/unfocused/aspirin_3674.bmp', '/content/drive/My Drive/Paul sandu/Requirement/Thesis stuff/data/unfocused/aspirin_325.bmp', '/content/drive/My Drive/Paul sandu/Requirement/Thesis stuff/data/unfocused/aspirin_323.bmp', '/content/drive/My Drive/Paul sandu/Requirement/Thesis stuff/data/unfocused/aspirin_2996.bmp', '/content/drive/My Drive/Paul sandu/Requirement/Thesis stuff/data/unfocused/aspirin_3426.bmp', '/content/drive/My Drive/Paul sandu/Requirement/Thesis stuff/data/unfocused/aspirin_2184.bmp', '/content/drive/My Drive/Paul sandu/Requirement/Thesis stuff/data/unfocused/aspirin_2704.bmp', '/content/drive/My Drive/Paul sandu/Requirement/Thesis stuff/data/unfocused/aspirin_3573.bmp', '/content/drive/My Drive/Paul sandu/Requirement/Thesis stuff/data/unfocused/aspirin_3383.bmp', '/content/drive/My Drive/Paul sandu/Requirement/Thesis stuff/data/unfocused/aspirin_3131.bmp', '/content/drive/My Drive/Paul sandu/Requirement/Thesis stuff/data/unfocused/aspirin_1236.bmp', '/content/drive/My Drive/Paul sandu/Requirement/Thesis stuff/data/unfocused/aspirin_2701.bmp', '/content/drive/My Drive/Paul sandu/Requirement/Thesis stuff/data/unfocused/aspirin_3368.bmp', '/content/drive/My Drive/Paul sandu/Requirement/Thesis stuff/data/unfocused/aspirin_3591.bmp', '/content/drive/My Drive/Paul sandu/Requirement/Thesis stuff/data/unfocused/aspirin_3635.bmp', '/content/drive/My Drive/Paul sandu/Requirement/Thesis stuff/data/unfocused/aspirin_1029.bmp', '/content/drive/My Drive/Paul sandu/Requirement/Thesis stuff/data/unfocused/aspirin_3002.bmp', '/content/drive/My Drive/Paul sandu/Requirement/Thesis stuff/data/unfocused/aspirin_1173.bmp', '/content/drive/My Drive/Paul sandu/Requirement/Thesis stuff/data/unfocused/aspirin_1105.bmp', '/content/drive/My Drive/Paul sandu/Requirement/Thesis stuff/data/unfocused/aspirin_1281.bmp', '/content/drive/My Drive/Paul sandu/Requirement/Thesis stuff/data/unfocused/aspirin_3421.bmp', '/content/drive/My Drive/Paul sandu/Requirement/Thesis stuff/data/unfocused/aspirin_1077.bmp', '/content/drive/My Drive/Paul sandu/Requirement/Thesis stuff/data/unfocused/aspirin_1075.bmp', '/content/drive/My Drive/Paul sandu/Requirement/Thesis stuff/data/unfocused/aspirin_306.bmp', '/content/drive/My Drive/Paul sandu/Requirement/Thesis stuff/data/unfocused/aspirin_1463.bmp', '/content/drive/My Drive/Paul sandu/Requirement/Thesis stuff/data/unfocused/aspirin_3007.bmp', '/content/drive/My Drive/Paul sandu/Requirement/Thesis stuff/data/unfocused/aspirin_7118.bmp', '/content/drive/My Drive/Paul sandu/Requirement/Thesis stuff/data/unfocused/aspirin_7084.bmp', '/content/drive/My Drive/Paul sandu/Requirement/Thesis stuff/data/unfocused/aspirin_6137.bmp', '/content/drive/My Drive/Paul sandu/Requirement/Thesis stuff/data/unfocused/aspirin_5988.bmp', '/content/drive/My Drive/Paul sandu/Requirement/Thesis stuff/data/unfocused/aspirin_7160.bmp', '/content/drive/My Drive/Paul sandu/Requirement/Thesis stuff/data/unfocused/aspirin_4629.bmp', '/content/drive/My Drive/Paul sandu/Requirement/Thesis stuff/data/unfocused/aspirin_6133.bmp', '/content/drive/My Drive/Paul sandu/Requirement/Thesis stuff/data/unfocused/aspirin_5909.bmp', '/content/drive/My Drive/Paul sandu/Requirement/Thesis stuff/data/unfocused/aspirin_4632.bmp', '/content/drive/My Drive/Paul sandu/Requirement/Thesis stuff/data/unfocused/aspirin_5707.bmp', '/content/drive/My Drive/Paul sandu/Requirement/Thesis stuff/data/unfocused/aspirin_4597.bmp', '/content/drive/My Drive/Paul sandu/Requirement/Thesis stuff/data/unfocused/aspirin_6718.bmp', '/content/drive/My Drive/Paul sandu/Requirement/Thesis stuff/data/unfocused/aspirin_4110.bmp', '/content/drive/My Drive/Paul sandu/Requirement/Thesis stuff/data/unfocused/aspirin_578.bmp', '/content/drive/My Drive/Paul sandu/Requirement/Thesis stuff/data/unfocused/aspirin_4085.bmp', '/content/drive/My Drive/Paul sandu/Requirement/Thesis stuff/data/unfocused/aspirin_6168.bmp', '/content/drive/My Drive/Paul sandu/Requirement/Thesis stuff/data/unfocused/aspirin_5349.bmp', '/content/drive/My Drive/Paul sandu/Requirement/Thesis stuff/data/unfocused/aspirin_4609.bmp', '/content/drive/My Drive/Paul sandu/Requirement/Thesis stuff/data/unfocused/aspirin_6746.bmp', '/content/drive/My Drive/Paul sandu/Requirement/Thesis stuff/data/unfocused/aspirin_6698.bmp', '/content/drive/My Drive/Paul sandu/Requirement/Thesis stuff/data/unfocused/aspirin_3839.bmp', '/content/drive/My Drive/Paul sandu/Requirement/Thesis stuff/data/unfocused/aspirin_7103.bmp', '/content/drive/My Drive/Paul sandu/Requirement/Thesis stuff/data/unfocused/aspirin_713.bmp', '/content/drive/My Drive/Paul sandu/Requirement/Thesis stuff/data/unfocused/aspirin_608.bmp', '/content/drive/My Drive/Paul sandu/Requirement/Thesis stuff/data/unfocused/aspirin_5167.bmp', '/content/drive/My Drive/Paul sandu/Requirement/Thesis stuff/data/unfocused/aspirin_7054.bmp', '/content/drive/My Drive/Paul sandu/Requirement/Thesis stuff/data/unfocused/aspirin_6617.bmp', '/content/drive/My Drive/Paul sandu/Requirement/Thesis stuff/data/unfocused/aspirin_6093.bmp', '/content/drive/My Drive/Paul sandu/Requirement/Thesis stuff/data/unfocused/aspirin_5702.bmp', '/content/drive/My Drive/Paul sandu/Requirement/Thesis stuff/data/unfocused/JoMg_AB6833_Final_Product_C1_10125.bmp', '/content/drive/My Drive/Paul sandu/Requirement/Thesis stuff/data/unfocused/JoMg_AB6833_Final_Product_C1_10026.bmp', '/content/drive/My Drive/Paul sandu/Requirement/Thesis stuff/data/unfocused/JoMg_AB6833_Final_Product_C1_101.bmp', '/content/drive/My Drive/Paul sandu/Requirement/Thesis stuff/data/unfocused/aspirin_7360.bmp', '/content/drive/My Drive/Paul sandu/Requirement/Thesis stuff/data/unfocused/aspirin_7246.bmp', '/content/drive/My Drive/Paul sandu/Requirement/Thesis stuff/data/unfocused/aspirin_7828.bmp', '/content/drive/My Drive/Paul sandu/Requirement/Thesis stuff/data/unfocused/JoMg_AB6833_Final_Product_C1_10097.bmp', '/content/drive/My Drive/Paul sandu/Requirement/Thesis stuff/data/unfocused/JoMg_AB6833_Final_Product_C1_10085.bmp', '/content/drive/My Drive/Paul sandu/Requirement/Thesis stuff/data/unfocused/aspirin_8390.bmp', '/content/drive/My Drive/Paul sandu/Requirement/Thesis stuff/data/unfocused/JoMg_AB6833_Final_Product_C1_10075.bmp', '/content/drive/My Drive/Paul sandu/Requirement/Thesis stuff/data/unfocused/aspirin_7634.bmp', '/content/drive/My Drive/Paul sandu/Requirement/Thesis stuff/data/unfocused/JoMg_AB6833_Final_Product_C1_10145.bmp', '/content/drive/My Drive/Paul sandu/Requirement/Thesis stuff/data/unfocused/JoMg_AB6833_Final_Product_C1_10174.bmp', '/content/drive/My Drive/Paul sandu/Requirement/Thesis stuff/data/unfocused/aspirin_8120.bmp', '/content/drive/My Drive/Paul sandu/Requirement/Thesis stuff/data/unfocused/JoMg_AB6833_Final_Product_C1_10050.bmp', '/content/drive/My Drive/Paul sandu/Requirement/Thesis stuff/data/unfocused/aspirin_8006.bmp', '/content/drive/My Drive/Paul sandu/Requirement/Thesis stuff/data/unfocused/aspirin_8286.bmp', '/content/drive/My Drive/Paul sandu/Requirement/Thesis stuff/data/unfocused/aspirin_8011.bmp', '/content/drive/My Drive/Paul sandu/Requirement/Thesis stuff/data/unfocused/aspirin_8296.bmp', '/content/drive/My Drive/Paul sandu/Requirement/Thesis stuff/data/unfocused/aspirin_8377.bmp', '/content/drive/My Drive/Paul sandu/Requirement/Thesis stuff/data/unfocused/JoMg_AB6833_Final_Product_C1_10055.bmp', '/content/drive/My Drive/Paul sandu/Requirement/Thesis stuff/data/unfocused/JoMg_AB6833_Final_Product_C1_10092.bmp', '/content/drive/My Drive/Paul sandu/Requirement/Thesis stuff/data/unfocused/aspirin_8078.bmp', '/content/drive/My Drive/Paul sandu/Requirement/Thesis stuff/data/unfocused/aspirin_7640.bmp', '/content/drive/My Drive/Paul sandu/Requirement/Thesis stuff/data/unfocused/aspirin_8275.bmp', '/content/drive/My Drive/Paul sandu/Requirement/Thesis stuff/data/unfocused/aspirin_735.bmp', '/content/drive/My Drive/Paul sandu/Requirement/Thesis stuff/data/unfocused/JoMg_AB6833_Final_Product_C1_10047.bmp', '/content/drive/My Drive/Paul sandu/Requirement/Thesis stuff/data/unfocused/JoMg_AB6833_Final_Product_C1_10062.bmp', '/content/drive/My Drive/Paul sandu/Requirement/Thesis stuff/data/unfocused/aspirin_7857.bmp', '/content/drive/My Drive/Paul sandu/Requirement/Thesis stuff/data/unfocused/JoMg_AB6833_Final_Product_C1_16237.bmp', '/content/drive/My Drive/Paul sandu/Requirement/Thesis stuff/data/unfocused/JoMg_AB6833_Final_Product_C1_16135.bmp', '/content/drive/My Drive/Paul sandu/Requirement/Thesis stuff/data/unfocused/JoMg_AB6833_Final_Product_C1_10184.bmp', '/content/drive/My Drive/Paul sandu/Requirement/Thesis stuff/data/unfocused/JoMg_AB6833_Final_Product_C1_16109.bmp', '/content/drive/My Drive/Paul sandu/Requirement/Thesis stuff/data/unfocused/JoMg_AB6833_Final_Product_C1_10177.bmp', '/content/drive/My Drive/Paul sandu/Requirement/Thesis stuff/data/unfocused/JoMg_AB6833_Final_Product_C1_10256.bmp', '/content/drive/My Drive/Paul sandu/Requirement/Thesis stuff/data/unfocused/JoMg_AB6833_Final_Product_C1_16182.bmp', '/content/drive/My Drive/Paul sandu/Requirement/Thesis stuff/data/unfocused/JoMg_AB6833_Final_Product_C1_16213.bmp', '/content/drive/My Drive/Paul sandu/Requirement/Thesis stuff/data/unfocused/JoMg_AB6833_Final_Product_C1_16112.bmp', '/content/drive/My Drive/Paul sandu/Requirement/Thesis stuff/data/unfocused/JoMg_AB6833_Final_Product_C1_16152.bmp', '/content/drive/My Drive/Paul sandu/Requirement/Thesis stuff/data/unfocused/JoMg_AB6833_Final_Product_C1_16260.bmp', '/content/drive/My Drive/Paul sandu/Requirement/Thesis stuff/data/unfocused/JoMg_AB6833_Final_Product_C1_16208.bmp', '/content/drive/My Drive/Paul sandu/Requirement/Thesis stuff/data/unfocused/JoMg_AB6833_Final_Product_C1_16256.bmp', '/content/drive/My Drive/Paul sandu/Requirement/Thesis stuff/data/unfocused/JoMg_AB6833_Final_Product_C1_14637.bmp', '/content/drive/My Drive/Paul sandu/Requirement/Thesis stuff/data/unfocused/JoMg_AB6833_Final_Product_C1_10290.bmp', '/content/drive/My Drive/Paul sandu/Requirement/Thesis stuff/data/unfocused/JoMg_AB6833_Final_Product_C1_16162.bmp', '/content/drive/My Drive/Paul sandu/Requirement/Thesis stuff/data/unfocused/JoMg_AB6833_Final_Product_C1_103.bmp', '/content/drive/My Drive/Paul sandu/Requirement/Thesis stuff/data/unfocused/JoMg_AB6833_Final_Product_C1_16191.bmp', '/content/drive/My Drive/Paul sandu/Requirement/Thesis stuff/data/unfocused/JoMg_AB6833_Final_Product_C1_16266.bmp', '/content/drive/My Drive/Paul sandu/Requirement/Thesis stuff/data/unfocused/JoMg_AB6833_Final_Product_C1_10194.bmp', '/content/drive/My Drive/Paul sandu/Requirement/Thesis stuff/data/unfocused/JoMg_AB6833_Final_Product_C1_10264.bmp', '/content/drive/My Drive/Paul sandu/Requirement/Thesis stuff/data/unfocused/JoMg_AB6833_Final_Product_C1_10252.bmp', '/content/drive/My Drive/Paul sandu/Requirement/Thesis stuff/data/unfocused/JoMg_AB6833_Final_Product_C1_15760.bmp', '/content/drive/My Drive/Paul sandu/Requirement/Thesis stuff/data/unfocused/JoMg_AB6833_Final_Product_C1_16110.bmp', '/content/drive/My Drive/Paul sandu/Requirement/Thesis stuff/data/unfocused/JoMg_AB6833_Final_Product_C1_10192.bmp', '/content/drive/My Drive/Paul sandu/Requirement/Thesis stuff/data/unfocused/JoMg_AB6833_Final_Product_C1_10284.bmp', '/content/drive/My Drive/Paul sandu/Requirement/Thesis stuff/data/unfocused/JoMg_AB6833_Final_Product_C1_16238.bmp', '/content/drive/My Drive/Paul sandu/Requirement/Thesis stuff/data/unfocused/JoMg_AB6833_Final_Product_C1_13700.bmp', '/content/drive/My Drive/Paul sandu/Requirement/Thesis stuff/data/unfocused/JoMg_AB6833_Final_Product_C1_16374.bmp', '/content/drive/My Drive/Paul sandu/Requirement/Thesis stuff/data/unfocused/JoMg_AB6833_Final_Product_C1_16359.bmp', '/content/drive/My Drive/Paul sandu/Requirement/Thesis stuff/data/unfocused/JoMg_AB6833_Final_Product_C1_16302.bmp', '/content/drive/My Drive/Paul sandu/Requirement/Thesis stuff/data/unfocused/JoMg_AB6833_Final_Product_C1_16510.bmp', '/content/drive/My Drive/Paul sandu/Requirement/Thesis stuff/data/unfocused/JoMg_AB6833_Final_Product_C1_16437.bmp', '/content/drive/My Drive/Paul sandu/Requirement/Thesis stuff/data/unfocused/JoMg_AB6833_Final_Product_C1_16382.bmp', '/content/drive/My Drive/Paul sandu/Requirement/Thesis stuff/data/unfocused/JoMg_AB6833_Final_Product_C1_16438.bmp', '/content/drive/My Drive/Paul sandu/Requirement/Thesis stuff/data/unfocused/JoMg_AB6833_Final_Product_C1_1645.bmp', '/content/drive/My Drive/Paul sandu/Requirement/Thesis stuff/data/unfocused/JoMg_AB6833_Final_Product_C1_16345.bmp', '/content/drive/My Drive/Paul sandu/Requirement/Thesis stuff/data/unfocused/JoMg_AB6833_Final_Product_C1_16574.bmp', '/content/drive/My Drive/Paul sandu/Requirement/Thesis stuff/data/unfocused/JoMg_AB6833_Final_Product_C1_16313.bmp', '/content/drive/My Drive/Paul sandu/Requirement/Thesis stuff/data/unfocused/JoMg_AB6833_Final_Product_C1_16329.bmp', '/content/drive/My Drive/Paul sandu/Requirement/Thesis stuff/data/unfocused/JoMg_AB6833_Final_Product_C1_16327.bmp', '/content/drive/My Drive/Paul sandu/Requirement/Thesis stuff/data/unfocused/JoMg_AB6833_Final_Product_C1_16564.bmp', '/content/drive/My Drive/Paul sandu/Requirement/Thesis stuff/data/unfocused/JoMg_AB6833_Final_Product_C1_16276.bmp', '/content/drive/My Drive/Paul sandu/Requirement/Thesis stuff/data/unfocused/JoMg_AB6833_Final_Product_C1_16553.bmp', '/content/drive/My Drive/Paul sandu/Requirement/Thesis stuff/data/unfocused/JoMg_AB6833_Final_Product_C1_16267.bmp', '/content/drive/My Drive/Paul sandu/Requirement/Thesis stuff/data/unfocused/JoMg_AB6833_Final_Product_C1_16331.bmp', '/content/drive/My Drive/Paul sandu/Requirement/Thesis stuff/data/unfocused/JoMg_AB6833_Final_Product_C1_1629.bmp', '/content/drive/My Drive/Paul sandu/Requirement/Thesis stuff/data/unfocused/JoMg_AB6833_Final_Product_C1_16405.bmp', '/content/drive/My Drive/Paul sandu/Requirement/Thesis stuff/data/unfocused/JoMg_AB6833_Final_Product_C1_16391.bmp', '/content/drive/My Drive/Paul sandu/Requirement/Thesis stuff/data/unfocused/JoMg_AB6833_Final_Product_C1_16305.bmp', '/content/drive/My Drive/Paul sandu/Requirement/Thesis stuff/data/unfocused/JoMg_AB6833_Final_Product_C1_16443.bmp', '/content/drive/My Drive/Paul sandu/Requirement/Thesis stuff/data/unfocused/JoMg_AB6833_Final_Product_C1_16477.bmp', '/content/drive/My Drive/Paul sandu/Requirement/Thesis stuff/data/unfocused/JoMg_AB6833_Final_Product_C1_16445.bmp', '/content/drive/My Drive/Paul sandu/Requirement/Thesis stuff/data/unfocused/JoMg_AB6833_Final_Product_C1_16472.bmp', '/content/drive/My Drive/Paul sandu/Requirement/Thesis stuff/data/unfocused/JoMg_AB6833_Final_Product_C1_16494.bmp', '/content/drive/My Drive/Paul sandu/Requirement/Thesis stuff/data/unfocused/JoMg_AB6833_Final_Product_C1_16519.bmp', '/content/drive/My Drive/Paul sandu/Requirement/Thesis stuff/data/unfocused/JoMg_AB6833_Final_Product_C1_16549.bmp', '/content/drive/My Drive/Paul sandu/Requirement/Thesis stuff/data/unfocused/JoMg_AB6833_Final_Product_C1_16283.bmp', '/content/drive/My Drive/Paul sandu/Requirement/Thesis stuff/data/unfocused/JoMg_AB6833_Final_Product_C1_1667.bmp', '/content/drive/My Drive/Paul sandu/Requirement/Thesis stuff/data/unfocused/JoMg_AB6833_Final_Product_C1_16904.bmp', '/content/drive/My Drive/Paul sandu/Requirement/Thesis stuff/data/unfocused/JoMg_AB6833_Final_Product_C1_16878.bmp', '/content/drive/My Drive/Paul sandu/Requirement/Thesis stuff/data/unfocused/JoMg_AB6833_Final_Product_C1_16635.bmp', '/content/drive/My Drive/Paul sandu/Requirement/Thesis stuff/data/unfocused/JoMg_AB6833_Final_Product_C1_1661.bmp', '/content/drive/My Drive/Paul sandu/Requirement/Thesis stuff/data/unfocused/JoMg_AB6833_Final_Product_C1_16743.bmp', '/content/drive/My Drive/Paul sandu/Requirement/Thesis stuff/data/unfocused/JoMg_AB6833_Final_Product_C1_16655.bmp', '/content/drive/My Drive/Paul sandu/Requirement/Thesis stuff/data/unfocused/JoMg_AB6833_Final_Product_C1_16769.bmp', '/content/drive/My Drive/Paul sandu/Requirement/Thesis stuff/data/unfocused/JoMg_AB6833_Final_Product_C1_1674.bmp', '/content/drive/My Drive/Paul sandu/Requirement/Thesis stuff/data/unfocused/JoMg_AB6833_Final_Product_C1_16871.bmp', '/content/drive/My Drive/Paul sandu/Requirement/Thesis stuff/data/unfocused/JoMg_AB6833_Final_Product_C1_16589.bmp', '/content/drive/My Drive/Paul sandu/Requirement/Thesis stuff/data/unfocused/JoMg_AB6833_Final_Product_C1_16837.bmp', '/content/drive/My Drive/Paul sandu/Requirement/Thesis stuff/data/unfocused/JoMg_AB6833_Final_Product_C1_16774.bmp', '/content/drive/My Drive/Paul sandu/Requirement/Thesis stuff/data/unfocused/JoMg_AB6833_Final_Product_C1_16757.bmp', '/content/drive/My Drive/Paul sandu/Requirement/Thesis stuff/data/unfocused/JoMg_AB6833_Final_Product_C1_16851.bmp', '/content/drive/My Drive/Paul sandu/Requirement/Thesis stuff/data/unfocused/JoMg_AB6833_Final_Product_C1_16633.bmp', '/content/drive/My Drive/Paul sandu/Requirement/Thesis stuff/data/unfocused/JoMg_AB6833_Final_Product_C1_16845.bmp', '/content/drive/My Drive/Paul sandu/Requirement/Thesis stuff/data/unfocused/JoMg_AB6833_Final_Product_C1_16650.bmp', '/content/drive/My Drive/Paul sandu/Requirement/Thesis stuff/data/unfocused/JoMg_AB6833_Final_Product_C1_16753.bmp', '/content/drive/My Drive/Paul sandu/Requirement/Thesis stuff/data/unfocused/JoMg_AB6833_Final_Product_C1_16834.bmp', '/content/drive/My Drive/Paul sandu/Requirement/Thesis stuff/data/unfocused/JoMg_AB6833_Final_Product_C1_166.bmp', '/content/drive/My Drive/Paul sandu/Requirement/Thesis stuff/data/unfocused/JoMg_AB6833_Final_Product_C1_16593.bmp', '/content/drive/My Drive/Paul sandu/Requirement/Thesis stuff/data/unfocused/JoMg_AB6833_Final_Product_C1_16711.bmp', '/content/drive/My Drive/Paul sandu/Requirement/Thesis stuff/data/unfocused/JoMg_AB6833_Final_Product_C1_16666.bmp', '/content/drive/My Drive/Paul sandu/Requirement/Thesis stuff/data/unfocused/JoMg_AB6833_Final_Product_C1_16606.bmp', '/content/drive/My Drive/Paul sandu/Requirement/Thesis stuff/data/unfocused/JoMg_AB6833_Final_Product_C1_16870.bmp', '/content/drive/My Drive/Paul sandu/Requirement/Thesis stuff/data/unfocused/JoMg_AB6833_Final_Product_C1_16735.bmp', '/content/drive/My Drive/Paul sandu/Requirement/Thesis stuff/data/unfocused/JoMg_AB6833_Final_Product_C1_1659.bmp', '/content/drive/My Drive/Paul sandu/Requirement/Thesis stuff/data/unfocused/JoMg_AB6833_Final_Product_C1_16809.bmp', '/content/drive/My Drive/Paul sandu/Requirement/Thesis stuff/data/unfocused/JoMg_AB6833_Final_Product_C1_16891.bmp', '/content/drive/My Drive/Paul sandu/Requirement/Thesis stuff/data/unfocused/JoMg_AB6833_Final_Product_C1_16612.bmp', '/content/drive/My Drive/Paul sandu/Requirement/Thesis stuff/data/unfocused/JoMg_AB6833_Final_Product_C1_16734.bmp', '/content/drive/My Drive/Paul sandu/Requirement/Thesis stuff/data/unfocused/JoMg_AB6833_Final_Product_C1_16669.bmp', '/content/drive/My Drive/Paul sandu/Requirement/Thesis stuff/data/unfocused/JoMg_AB6833_Final_Product_C1_16765.bmp', '/content/drive/My Drive/Paul sandu/Requirement/Thesis stuff/data/unfocused/JoMg_AB6833_Final_Product_C1_16848.bmp', '/content/drive/My Drive/Paul sandu/Requirement/Thesis stuff/data/unfocused/JoMg_AB6833_Final_Product_C1_17147.bmp', '/content/drive/My Drive/Paul sandu/Requirement/Thesis stuff/data/unfocused/JoMg_AB6833_Final_Product_C1_17142.bmp', '/content/drive/My Drive/Paul sandu/Requirement/Thesis stuff/data/unfocused/JoMg_AB6833_Final_Product_C1_16936.bmp', '/content/drive/My Drive/Paul sandu/Requirement/Thesis stuff/data/unfocused/JoMg_AB6833_Final_Product_C1_17064.bmp', '/content/drive/My Drive/Paul sandu/Requirement/Thesis stuff/data/unfocused/JoMg_AB6833_Final_Product_C1_17177.bmp', '/content/drive/My Drive/Paul sandu/Requirement/Thesis stuff/data/unfocused/JoMg_AB6833_Final_Product_C1_17070.bmp', '/content/drive/My Drive/Paul sandu/Requirement/Thesis stuff/data/unfocused/JoMg_AB6833_Final_Product_C1_17039.bmp', '/content/drive/My Drive/Paul sandu/Requirement/Thesis stuff/data/unfocused/JoMg_AB6833_Final_Product_C1_16926.bmp', '/content/drive/My Drive/Paul sandu/Requirement/Thesis stuff/data/unfocused/JoMg_AB6833_Final_Product_C1_1704.bmp', '/content/drive/My Drive/Paul sandu/Requirement/Thesis stuff/data/unfocused/JoMg_AB6833_Final_Product_C1_16955.bmp', '/content/drive/My Drive/Paul sandu/Requirement/Thesis stuff/data/unfocused/JoMg_AB6833_Final_Product_C1_17040.bmp', '/content/drive/My Drive/Paul sandu/Requirement/Thesis stuff/data/unfocused/JoMg_AB6833_Final_Product_C1_17087.bmp', '/content/drive/My Drive/Paul sandu/Requirement/Thesis stuff/data/unfocused/JoMg_AB6833_Final_Product_C1_16998.bmp', '/content/drive/My Drive/Paul sandu/Requirement/Thesis stuff/data/unfocused/JoMg_AB6833_Final_Product_C1_16956.bmp', '/content/drive/My Drive/Paul sandu/Requirement/Thesis stuff/data/unfocused/JoMg_AB6833_Final_Product_C1_17125.bmp', '/content/drive/My Drive/Paul sandu/Requirement/Thesis stuff/data/unfocused/JoMg_AB6833_Final_Product_C1_16983.bmp', '/content/drive/My Drive/Paul sandu/Requirement/Thesis stuff/data/unfocused/JoMg_AB6833_Final_Product_C1_16944.bmp', '/content/drive/My Drive/Paul sandu/Requirement/Thesis stuff/data/unfocused/JoMg_AB6833_Final_Product_C1_16990.bmp', '/content/drive/My Drive/Paul sandu/Requirement/Thesis stuff/data/unfocused/JoMg_AB6833_Final_Product_C1_16925.bmp', '/content/drive/My Drive/Paul sandu/Requirement/Thesis stuff/data/unfocused/JoMg_AB6833_Final_Product_C1_1699.bmp', '/content/drive/My Drive/Paul sandu/Requirement/Thesis stuff/data/unfocused/JoMg_AB6833_Final_Product_C1_17038.bmp', '/content/drive/My Drive/Paul sandu/Requirement/Thesis stuff/data/unfocused/JoMg_AB6833_Final_Product_C1_17074.bmp', '/content/drive/My Drive/Paul sandu/Requirement/Thesis stuff/data/unfocused/JoMg_AB6833_Final_Product_C1_17057.bmp', '/content/drive/My Drive/Paul sandu/Requirement/Thesis stuff/data/unfocused/JoMg_AB6833_Final_Product_C1_17075.bmp', '/content/drive/My Drive/Paul sandu/Requirement/Thesis stuff/data/unfocused/JoMg_AB6833_Final_Product_C1_1716.bmp', '/content/drive/My Drive/Paul sandu/Requirement/Thesis stuff/data/unfocused/JoMg_AB6833_Final_Product_C1_16965.bmp', '/content/drive/My Drive/Paul sandu/Requirement/Thesis stuff/data/unfocused/JoMg_AB6833_Final_Product_C1_17100.bmp', '/content/drive/My Drive/Paul sandu/Requirement/Thesis stuff/data/unfocused/JoMg_AB6833_Final_Product_C1_17041.bmp', '/content/drive/My Drive/Paul sandu/Requirement/Thesis stuff/data/unfocused/JoMg_AB6833_Final_Product_C1_17073.bmp', '/content/drive/My Drive/Paul sandu/Requirement/Thesis stuff/data/unfocused/JoMg_AB6833_Final_Product_C1_17115.bmp', '/content/drive/My Drive/Paul sandu/Requirement/Thesis stuff/data/unfocused/JoMg_AB6833_Final_Product_C1_16928.bmp', '/content/drive/My Drive/Paul sandu/Requirement/Thesis stuff/data/unfocused/JoMg_AB6833_Final_Product_C1_16979.bmp', '/content/drive/My Drive/Paul sandu/Requirement/Thesis stuff/data/unfocused/JoMg_AB6833_Final_Product_C1_17072.bmp', '/content/drive/My Drive/Paul sandu/Requirement/Thesis stuff/data/unfocused/JoMg_AB6833_Final_Product_C1_17151.bmp', '/content/drive/My Drive/Paul sandu/Requirement/Thesis stuff/data/unfocused/JoMg_AB6833_Final_Product_C1_17034.bmp', '/content/drive/My Drive/Paul sandu/Requirement/Thesis stuff/data/unfocused/JoMg_AB6833_Final_Product_C1_17060.bmp', '/content/drive/My Drive/Paul sandu/Requirement/Thesis stuff/data/unfocused/JoMg_AB6833_Final_Product_C1_17002.bmp', '/content/drive/My Drive/Paul sandu/Requirement/Thesis stuff/data/unfocused/JoMg_AB6833_Final_Product_C1_17249.bmp', '/content/drive/My Drive/Paul sandu/Requirement/Thesis stuff/data/unfocused/JoMg_AB6833_Final_Product_C1_17361.bmp', '/content/drive/My Drive/Paul sandu/Requirement/Thesis stuff/data/unfocused/JoMg_AB6833_Final_Product_C1_17423.bmp', '/content/drive/My Drive/Paul sandu/Requirement/Thesis stuff/data/unfocused/JoMg_AB6833_Final_Product_C1_17380.bmp', '/content/drive/My Drive/Paul sandu/Requirement/Thesis stuff/data/unfocused/JoMg_AB6833_Final_Product_C1_17410.bmp', '/content/drive/My Drive/Paul sandu/Requirement/Thesis stuff/data/unfocused/JoMg_AB6833_Final_Product_C1_1730.bmp', '/content/drive/My Drive/Paul sandu/Requirement/Thesis stuff/data/unfocused/JoMg_AB6833_Final_Product_C1_17499.bmp', '/content/drive/My Drive/Paul sandu/Requirement/Thesis stuff/data/unfocused/JoMg_AB6833_Final_Product_C1_1727.bmp', '/content/drive/My Drive/Paul sandu/Requirement/Thesis stuff/data/unfocused/JoMg_AB6833_Final_Product_C1_17240.bmp', '/content/drive/My Drive/Paul sandu/Requirement/Thesis stuff/data/unfocused/JoMg_AB6833_Final_Product_C1_17470.bmp', '/content/drive/My Drive/Paul sandu/Requirement/Thesis stuff/data/unfocused/JoMg_AB6833_Final_Product_C1_17448.bmp', '/content/drive/My Drive/Paul sandu/Requirement/Thesis stuff/data/unfocused/JoMg_AB6833_Final_Product_C1_1735.bmp', '/content/drive/My Drive/Paul sandu/Requirement/Thesis stuff/data/unfocused/JoMg_AB6833_Final_Product_C1_17338.bmp', '/content/drive/My Drive/Paul sandu/Requirement/Thesis stuff/data/unfocused/JoMg_AB6833_Final_Product_C1_17430.bmp', '/content/drive/My Drive/Paul sandu/Requirement/Thesis stuff/data/unfocused/JoMg_AB6833_Final_Product_C1_17244.bmp', '/content/drive/My Drive/Paul sandu/Requirement/Thesis stuff/data/unfocused/JoMg_AB6833_Final_Product_C1_17254.bmp', '/content/drive/My Drive/Paul sandu/Requirement/Thesis stuff/data/unfocused/JoMg_AB6833_Final_Product_C1_17210.bmp', '/content/drive/My Drive/Paul sandu/Requirement/Thesis stuff/data/unfocused/JoMg_AB6833_Final_Product_C1_17405.bmp', '/content/drive/My Drive/Paul sandu/Requirement/Thesis stuff/data/unfocused/JoMg_AB6833_Final_Product_C1_17474.bmp', '/content/drive/My Drive/Paul sandu/Requirement/Thesis stuff/data/unfocused/JoMg_AB6833_Final_Product_C1_17321.bmp', '/content/drive/My Drive/Paul sandu/Requirement/Thesis stuff/data/unfocused/JoMg_AB6833_Final_Product_C1_17469.bmp', '/content/drive/My Drive/Paul sandu/Requirement/Thesis stuff/data/unfocused/JoMg_AB6833_Final_Product_C1_17351.bmp', '/content/drive/My Drive/Paul sandu/Requirement/Thesis stuff/data/unfocused/JoMg_AB6833_Final_Product_C1_17373.bmp', '/content/drive/My Drive/Paul sandu/Requirement/Thesis stuff/data/unfocused/JoMg_AB6833_Final_Product_C1_17393.bmp', '/content/drive/My Drive/Paul sandu/Requirement/Thesis stuff/data/unfocused/JoMg_AB6833_Final_Product_C1_1732.bmp', '/content/drive/My Drive/Paul sandu/Requirement/Thesis stuff/data/unfocused/JoMg_AB6833_Final_Product_C1_17330.bmp', '/content/drive/My Drive/Paul sandu/Requirement/Thesis stuff/data/unfocused/JoMg_AB6833_Final_Product_C1_17246.bmp', '/content/drive/My Drive/Paul sandu/Requirement/Thesis stuff/data/unfocused/JoMg_AB6833_Final_Product_C1_17323.bmp', '/content/drive/My Drive/Paul sandu/Requirement/Thesis stuff/data/unfocused/JoMg_AB6833_Final_Product_C1_17407.bmp', '/content/drive/My Drive/Paul sandu/Requirement/Thesis stuff/data/unfocused/JoMg_AB6833_Final_Product_C1_17268.bmp', '/content/drive/My Drive/Paul sandu/Requirement/Thesis stuff/data/unfocused/JoMg_AB6833_Final_Product_C1_17364.bmp', '/content/drive/My Drive/Paul sandu/Requirement/Thesis stuff/data/unfocused/JoMg_AB6833_Final_Product_C1_17389.bmp', '/content/drive/My Drive/Paul sandu/Requirement/Thesis stuff/data/unfocused/JoMg_AB6833_Final_Product_C1_172.bmp', '/content/drive/My Drive/Paul sandu/Requirement/Thesis stuff/data/unfocused/JoMg_AB6833_Final_Product_C1_17548.bmp', '/content/drive/My Drive/Paul sandu/Requirement/Thesis stuff/data/unfocused/JoMg_AB6833_Final_Product_C1_17594.bmp', '/content/drive/My Drive/Paul sandu/Requirement/Thesis stuff/data/unfocused/JoMg_AB6833_Final_Product_C1_17525.bmp', '/content/drive/My Drive/Paul sandu/Requirement/Thesis stuff/data/unfocused/JoMg_AB6833_Final_Product_C1_17668.bmp', '/content/drive/My Drive/Paul sandu/Requirement/Thesis stuff/data/unfocused/JoMg_AB6833_Final_Product_C1_17582.bmp', '/content/drive/My Drive/Paul sandu/Requirement/Thesis stuff/data/unfocused/JoMg_AB6833_Final_Product_C1_17522.bmp', '/content/drive/My Drive/Paul sandu/Requirement/Thesis stuff/data/unfocused/JoMg_AB6833_Final_Product_C1_17667.bmp', '/content/drive/My Drive/Paul sandu/Requirement/Thesis stuff/data/unfocused/JoMg_AB6833_Final_Product_C1_17503.bmp', '/content/drive/My Drive/Paul sandu/Requirement/Thesis stuff/data/unfocused/JoMg_AB6833_Final_Product_C1_17657.bmp', '/content/drive/My Drive/Paul sandu/Requirement/Thesis stuff/data/unfocused/JoMg_AB6833_Final_Product_C1_17596.bmp', '/content/drive/My Drive/Paul sandu/Requirement/Thesis stuff/data/unfocused/JoMg_AB6833_Final_Product_C1_17713.bmp', '/content/drive/My Drive/Paul sandu/Requirement/Thesis stuff/data/unfocused/JoMg_AB6833_Final_Product_C1_17759.bmp', '/content/drive/My Drive/Paul sandu/Requirement/Thesis stuff/data/unfocused/JoMg_AB6833_Final_Product_C1_17606.bmp', '/content/drive/My Drive/Paul sandu/Requirement/Thesis stuff/data/unfocused/JoMg_AB6833_Final_Product_C1_17730.bmp', '/content/drive/My Drive/Paul sandu/Requirement/Thesis stuff/data/unfocused/JoMg_AB6833_Final_Product_C1_17506.bmp', '/content/drive/My Drive/Paul sandu/Requirement/Thesis stuff/data/unfocused/JoMg_AB6833_Final_Product_C1_17717.bmp', '/content/drive/My Drive/Paul sandu/Requirement/Thesis stuff/data/unfocused/JoMg_AB6833_Final_Product_C1_17627.bmp', '/content/drive/My Drive/Paul sandu/Requirement/Thesis stuff/data/unfocused/JoMg_AB6833_Final_Product_C1_17665.bmp', '/content/drive/My Drive/Paul sandu/Requirement/Thesis stuff/data/unfocused/JoMg_AB6833_Final_Product_C1_17528.bmp', '/content/drive/My Drive/Paul sandu/Requirement/Thesis stuff/data/unfocused/JoMg_AB6833_Final_Product_C1_17642.bmp', '/content/drive/My Drive/Paul sandu/Requirement/Thesis stuff/data/unfocused/JoMg_AB6833_Final_Product_C1_17761.bmp', '/content/drive/My Drive/Paul sandu/Requirement/Thesis stuff/data/unfocused/JoMg_AB6833_Final_Product_C1_17520.bmp', '/content/drive/My Drive/Paul sandu/Requirement/Thesis stuff/data/unfocused/JoMg_AB6833_Final_Product_C1_17681.bmp', '/content/drive/My Drive/Paul sandu/Requirement/Thesis stuff/data/unfocused/JoMg_AB6833_Final_Product_C1_17618.bmp', '/content/drive/My Drive/Paul sandu/Requirement/Thesis stuff/data/unfocused/JoMg_AB6833_Final_Product_C1_17603.bmp', '/content/drive/My Drive/Paul sandu/Requirement/Thesis stuff/data/unfocused/JoMg_AB6833_Final_Product_C1_17683.bmp', '/content/drive/My Drive/Paul sandu/Requirement/Thesis stuff/data/unfocused/JoMg_AB6833_Final_Product_C1_17746.bmp', '/content/drive/My Drive/Paul sandu/Requirement/Thesis stuff/data/unfocused/JoMg_AB6833_Final_Product_C1_17580.bmp', '/content/drive/My Drive/Paul sandu/Requirement/Thesis stuff/data/unfocused/JoMg_AB6833_Final_Product_C1_17663.bmp', '/content/drive/My Drive/Paul sandu/Requirement/Thesis stuff/data/unfocused/JoMg_AB6833_Final_Product_C1_17645.bmp', '/content/drive/My Drive/Paul sandu/Requirement/Thesis stuff/data/unfocused/JoMg_AB6833_Final_Product_C1_17505.bmp', '/content/drive/My Drive/Paul sandu/Requirement/Thesis stuff/data/unfocused/JoMg_AB6833_Final_Product_C1_17637.bmp', '/content/drive/My Drive/Paul sandu/Requirement/Thesis stuff/data/unfocused/JoMg_AB6833_Final_Product_C1_17635.bmp', '/content/drive/My Drive/Paul sandu/Requirement/Thesis stuff/data/unfocused/JoMg_AB6833_Final_Product_C1_17923.bmp', '/content/drive/My Drive/Paul sandu/Requirement/Thesis stuff/data/unfocused/JoMg_AB6833_Final_Product_C1_17955.bmp', '/content/drive/My Drive/Paul sandu/Requirement/Thesis stuff/data/unfocused/JoMg_AB6833_Final_Product_C1_17769.bmp', '/content/drive/My Drive/Paul sandu/Requirement/Thesis stuff/data/unfocused/JoMg_AB6833_Final_Product_C1_17946.bmp', '/content/drive/My Drive/Paul sandu/Requirement/Thesis stuff/data/unfocused/JoMg_AB6833_Final_Product_C1_17924.bmp', '/content/drive/My Drive/Paul sandu/Requirement/Thesis stuff/data/unfocused/JoMg_AB6833_Final_Product_C1_17907.bmp', '/content/drive/My Drive/Paul sandu/Requirement/Thesis stuff/data/unfocused/JoMg_AB6833_Final_Product_C1_17951.bmp', '/content/drive/My Drive/Paul sandu/Requirement/Thesis stuff/data/unfocused/JoMg_AB6833_Final_Product_C1_17926.bmp', '/content/drive/My Drive/Paul sandu/Requirement/Thesis stuff/data/unfocused/JoMg_AB6833_Final_Product_C1_17827.bmp', '/content/drive/My Drive/Paul sandu/Requirement/Thesis stuff/data/unfocused/JoMg_AB6833_Final_Product_C1_17958.bmp', '/content/drive/My Drive/Paul sandu/Requirement/Thesis stuff/data/unfocused/JoMg_AB6833_Final_Product_C1_17934.bmp', '/content/drive/My Drive/Paul sandu/Requirement/Thesis stuff/data/unfocused/JoMg_AB6833_Final_Product_C1_17842.bmp', '/content/drive/My Drive/Paul sandu/Requirement/Thesis stuff/data/unfocused/JoMg_AB6833_Final_Product_C1_17950.bmp', '/content/drive/My Drive/Paul sandu/Requirement/Thesis stuff/data/unfocused/JoMg_AB6833_Final_Product_C1_17835.bmp', '/content/drive/My Drive/Paul sandu/Requirement/Thesis stuff/data/unfocused/JoMg_AB6833_Final_Product_C1_17793.bmp', '/content/drive/My Drive/Paul sandu/Requirement/Thesis stuff/data/unfocused/JoMg_AB6833_Final_Product_C1_17900.bmp', '/content/drive/My Drive/Paul sandu/Requirement/Thesis stuff/data/unfocused/JoMg_AB6833_Final_Product_C1_17882.bmp', '/content/drive/My Drive/Paul sandu/Requirement/Thesis stuff/data/unfocused/JoMg_AB6833_Final_Product_C1_1794.bmp', '/content/drive/My Drive/Paul sandu/Requirement/Thesis stuff/data/unfocused/JoMg_AB6833_Final_Product_C1_17953.bmp', '/content/drive/My Drive/Paul sandu/Requirement/Thesis stuff/data/unfocused/JoMg_AB6833_Final_Product_C1_17959.bmp', '/content/drive/My Drive/Paul sandu/Requirement/Thesis stuff/data/unfocused/JoMg_AB6833_Final_Product_C1_17895.bmp', '/content/drive/My Drive/Paul sandu/Requirement/Thesis stuff/data/unfocused/JoMg_AB6833_Final_Product_C1_17930.bmp', '/content/drive/My Drive/Paul sandu/Requirement/Thesis stuff/data/unfocused/JoMg_AB6833_Final_Product_C1_17794.bmp', '/content/drive/My Drive/Paul sandu/Requirement/Thesis stuff/data/unfocused/JoMg_AB6833_Final_Product_C1_17766.bmp', '/content/drive/My Drive/Paul sandu/Requirement/Thesis stuff/data/unfocused/JoMg_AB6833_Final_Product_C1_17864.bmp', '/content/drive/My Drive/Paul sandu/Requirement/Thesis stuff/data/unfocused/JoMg_AB6833_Final_Product_C1_17938.bmp', '/content/drive/My Drive/Paul sandu/Requirement/Thesis stuff/data/unfocused/JoMg_AB6833_Final_Product_C1_17965.bmp', '/content/drive/My Drive/Paul sandu/Requirement/Thesis stuff/data/unfocused/JoMg_AB6833_Final_Product_C1_17892.bmp', '/content/drive/My Drive/Paul sandu/Requirement/Thesis stuff/data/unfocused/JoMg_AB6833_Final_Product_C1_17903.bmp', '/content/drive/My Drive/Paul sandu/Requirement/Thesis stuff/data/unfocused/JoMg_AB6833_Final_Product_C1_18056.bmp', '/content/drive/My Drive/Paul sandu/Requirement/Thesis stuff/data/unfocused/JoMg_AB6833_Final_Product_C1_18021.bmp', '/content/drive/My Drive/Paul sandu/Requirement/Thesis stuff/data/unfocused/JoMg_AB6833_Final_Product_C1_18015.bmp', '/content/drive/My Drive/Paul sandu/Requirement/Thesis stuff/data/unfocused/JoMg_AB6833_Final_Product_C1_18102.bmp', '/content/drive/My Drive/Paul sandu/Requirement/Thesis stuff/data/unfocused/JoMg_AB6833_Final_Product_C1_18088.bmp', '/content/drive/My Drive/Paul sandu/Requirement/Thesis stuff/data/unfocused/JoMg_AB6833_Final_Product_C1_17988.bmp', '/content/drive/My Drive/Paul sandu/Requirement/Thesis stuff/data/unfocused/JoMg_AB6833_Final_Product_C1_18103.bmp', '/content/drive/My Drive/Paul sandu/Requirement/Thesis stuff/data/unfocused/JoMg_AB6833_Final_Product_C1_17992.bmp', '/content/drive/My Drive/Paul sandu/Requirement/Thesis stuff/data/unfocused/JoMg_AB6833_Final_Product_C1_18069.bmp', '/content/drive/My Drive/Paul sandu/Requirement/Thesis stuff/data/unfocused/JoMg_AB6833_Final_Product_C1_18051.bmp', '/content/drive/My Drive/Paul sandu/Requirement/Thesis stuff/data/unfocused/JoMg_AB6833_Final_Product_C1_17984.bmp', '/content/drive/My Drive/Paul sandu/Requirement/Thesis stuff/data/unfocused/JoMg_AB6833_Final_Product_C1_18078.bmp', '/content/drive/My Drive/Paul sandu/Requirement/Thesis stuff/data/unfocused/JoMg_AB6833_Final_Product_C1_18105.bmp', '/content/drive/My Drive/Paul sandu/Requirement/Thesis stuff/data/unfocused/JoMg_AB6833_Final_Product_C1_18011.bmp', '/content/drive/My Drive/Paul sandu/Requirement/Thesis stuff/data/unfocused/JoMg_AB6833_Final_Product_C1_18058.bmp', '/content/drive/My Drive/Paul sandu/Requirement/Thesis stuff/data/unfocused/JoMg_AB6833_Final_Product_C1_17996.bmp', '/content/drive/My Drive/Paul sandu/Requirement/Thesis stuff/data/unfocused/JoMg_AB6833_Final_Product_C1_18120.bmp', '/content/drive/My Drive/Paul sandu/Requirement/Thesis stuff/data/unfocused/JoMg_AB6833_Final_Product_C1_18118.bmp', '/content/drive/My Drive/Paul sandu/Requirement/Thesis stuff/data/unfocused/JoMg_AB6833_Final_Product_C1_1798.bmp', '/content/drive/My Drive/Paul sandu/Requirement/Thesis stuff/data/unfocused/JoMg_AB6833_Final_Product_C1_18057.bmp', '/content/drive/My Drive/Paul sandu/Requirement/Thesis stuff/data/unfocused/JoMg_AB6833_Final_Product_C1_18097.bmp', '/content/drive/My Drive/Paul sandu/Requirement/Thesis stuff/data/unfocused/JoMg_AB6833_Final_Product_C1_17975.bmp', '/content/drive/My Drive/Paul sandu/Requirement/Thesis stuff/data/unfocused/JoMg_AB6833_Final_Product_C1_18129.bmp', '/content/drive/My Drive/Paul sandu/Requirement/Thesis stuff/data/unfocused/JoMg_AB6833_Final_Product_C1_18061.bmp', '/content/drive/My Drive/Paul sandu/Requirement/Thesis stuff/data/unfocused/JoMg_AB6833_Final_Product_C1_18072.bmp', '/content/drive/My Drive/Paul sandu/Requirement/Thesis stuff/data/unfocused/JoMg_AB6833_Final_Product_C1_18077.bmp', '/content/drive/My Drive/Paul sandu/Requirement/Thesis stuff/data/unfocused/JoMg_AB6833_Final_Product_C1_18064.bmp', '/content/drive/My Drive/Paul sandu/Requirement/Thesis stuff/data/unfocused/JoMg_AB6833_Final_Product_C1_18124.bmp', '/content/drive/My Drive/Paul sandu/Requirement/Thesis stuff/data/unfocused/JoMg_AB6833_Final_Product_C1_17976.bmp', '/content/drive/My Drive/Paul sandu/Requirement/Thesis stuff/data/unfocused/JoMg_AB6833_Final_Product_C1_17998.bmp', '/content/drive/My Drive/Paul sandu/Requirement/Thesis stuff/data/unfocused/JoMg_AB6833_Final_Product_C1_18113.bmp', '/content/drive/My Drive/Paul sandu/Requirement/Thesis stuff/data/unfocused/JoMg_AB6833_Final_Product_C1_18020.bmp', '/content/drive/My Drive/Paul sandu/Requirement/Thesis stuff/data/unfocused/JoMg_AB6833_Final_Product_C1_180.bmp', '/content/drive/My Drive/Paul sandu/Requirement/Thesis stuff/data/unfocused/JoMg_AB6833_Final_Product_C1_18186.bmp', '/content/drive/My Drive/Paul sandu/Requirement/Thesis stuff/data/unfocused/JoMg_AB6833_Final_Product_C1_18143.bmp', '/content/drive/My Drive/Paul sandu/Requirement/Thesis stuff/data/unfocused/JoMg_AB6833_Final_Product_C1_18171.bmp', '/content/drive/My Drive/Paul sandu/Requirement/Thesis stuff/data/unfocused/JoMg_AB6833_Final_Product_C1_18227.bmp', '/content/drive/My Drive/Paul sandu/Requirement/Thesis stuff/data/unfocused/JoMg_AB6833_Final_Product_C1_18183.bmp', '/content/drive/My Drive/Paul sandu/Requirement/Thesis stuff/data/unfocused/JoMg_AB6833_Final_Product_C1_18204.bmp', '/content/drive/My Drive/Paul sandu/Requirement/Thesis stuff/data/unfocused/JoMg_AB6833_Final_Product_C1_18178.bmp', '/content/drive/My Drive/Paul sandu/Requirement/Thesis stuff/data/unfocused/JoMg_AB6833_Final_Product_C1_18157.bmp', '/content/drive/My Drive/Paul sandu/Requirement/Thesis stuff/data/unfocused/JoMg_AB6833_Final_Product_C1_18166.bmp', '/content/drive/My Drive/Paul sandu/Requirement/Thesis stuff/data/unfocused/JoMg_AB6833_Final_Product_C1_18156.bmp', '/content/drive/My Drive/Paul sandu/Requirement/Thesis stuff/data/unfocused/JoMg_AB6833_Final_Product_C1_18169.bmp', '/content/drive/My Drive/Paul sandu/Requirement/Thesis stuff/data/unfocused/JoMg_AB6833_Final_Product_C1_18200.bmp', '/content/drive/My Drive/Paul sandu/Requirement/Thesis stuff/data/unfocused/JoMg_AB6833_Final_Product_C1_18151.bmp', '/content/drive/My Drive/Paul sandu/Requirement/Thesis stuff/data/unfocused/JoMg_AB6833_Final_Product_C1_18217.bmp', '/content/drive/My Drive/Paul sandu/Requirement/Thesis stuff/data/unfocused/JoMg_AB6833_Final_Product_C1_18137.bmp', '/content/drive/My Drive/Paul sandu/Requirement/Thesis stuff/data/unfocused/JoMg_AB6833_Final_Product_C1_18175.bmp', '/content/drive/My Drive/Paul sandu/Requirement/Thesis stuff/data/unfocused/JoMg_AB6833_Final_Product_C1_18158.bmp', '/content/drive/My Drive/Paul sandu/Requirement/Thesis stuff/data/unfocused/JoMg_AB6833_Final_Product_C1_18146.bmp', '/content/drive/My Drive/Paul sandu/Requirement/Thesis stuff/data/unfocused/JoMg_AB6833_Final_Product_C1_18145.bmp', '/content/drive/My Drive/Paul sandu/Requirement/Thesis stuff/data/unfocused/JoMg_AB6833_Final_Product_C1_18221.bmp', '/content/drive/My Drive/Paul sandu/Requirement/Thesis stuff/data/unfocused/JoMg_AB6833_Final_Product_C1_18179.bmp', '/content/drive/My Drive/Paul sandu/Requirement/Thesis stuff/data/unfocused/JoMg_AB6833_Final_Product_C1_18172.bmp', '/content/drive/My Drive/Paul sandu/Requirement/Thesis stuff/data/unfocused/JoMg_AB6833_Final_Product_C1_18202.bmp', '/content/drive/My Drive/Paul sandu/Requirement/Thesis stuff/data/unfocused/JoMg_AB6833_Final_Product_C1_18225.bmp', '/content/drive/My Drive/Paul sandu/Requirement/Thesis stuff/data/unfocused/JoMg_AB6833_Final_Product_C1_18165.bmp', '/content/drive/My Drive/Paul sandu/Requirement/Thesis stuff/data/unfocused/JoMg_AB6833_Final_Product_C1_18154.bmp', '/content/drive/My Drive/Paul sandu/Requirement/Thesis stuff/data/unfocused/JoMg_AB6833_Final_Product_C1_18214.bmp', '/content/drive/My Drive/Paul sandu/Requirement/Thesis stuff/data/unfocused/JoMg_AB6833_Final_Product_C1_18216.bmp', '/content/drive/My Drive/Paul sandu/Requirement/Thesis stuff/data/unfocused/JoMg_AB6833_Final_Product_C1_18194.bmp', '/content/drive/My Drive/Paul sandu/Requirement/Thesis stuff/data/unfocused/JoMg_AB6833_Final_Product_C1_18195.bmp', '/content/drive/My Drive/Paul sandu/Requirement/Thesis stuff/data/unfocused/JoMg_AB6833_Final_Product_C1_1814.bmp', '/content/drive/My Drive/Paul sandu/Requirement/Thesis stuff/data/unfocused/JoMg_AB6833_Final_Product_C1_18184.bmp', '/content/drive/My Drive/Paul sandu/Requirement/Thesis stuff/data/unfocused/JoMg_AB6833_Final_Product_C1_18201.bmp', '/content/drive/My Drive/Paul sandu/Requirement/Thesis stuff/data/unfocused/JoMg_AB6833_Final_Product_C1_1823.bmp', '/content/drive/My Drive/Paul sandu/Requirement/Thesis stuff/data/unfocused/JoMg_AB6833_Final_Product_C1_18149.bmp', '/content/drive/My Drive/Paul sandu/Requirement/Thesis stuff/data/unfocused/JoMg_AB6833_Final_Product_C1_18273.bmp', '/content/drive/My Drive/Paul sandu/Requirement/Thesis stuff/data/unfocused/JoMg_AB6833_Final_Product_C1_18266.bmp']\n"
     ]
    }
   ],
   "source": [
    "print(unfocused_imgs_filenames)"
   ]
  },
  {
   "cell_type": "code",
   "execution_count": null,
   "id": "95eee2dd",
   "metadata": {
    "id": "95eee2dd"
   },
   "outputs": [],
   "source": [
    "for i,file in enumerate(unfocused_imgs_resized):\n",
    "    cv2.imwrite('/content/drive/MyDrive/Paul sandu/Requirement/Thesis stuff/data/unfocused_resized_512_bi/'+unfocused_imgs_filenames[i],file)\n",
    "    \n",
    "for i,file in enumerate(focused_imgs_resized):\n",
    "    cv2.imwrite('/content/drive/MyDrive/Paul sandu/Requirement/Thesis stuff/data/focused_resized_512_bi/'+focused_imgs_filenames[i],file)"
   ]
  },
  {
   "cell_type": "code",
   "execution_count": null,
   "id": "6f0274d1",
   "metadata": {
    "colab": {
     "base_uri": "https://localhost:8080/"
    },
    "id": "6f0274d1",
    "outputId": "bc39d611-f002-47fd-ad5a-f0551a60c4f8"
   },
   "outputs": [
    {
     "data": {
      "text/plain": [
       "1380"
      ]
     },
     "execution_count": 20,
     "metadata": {},
     "output_type": "execute_result"
    }
   ],
   "source": [
    "len(unfocused_imgs_resized)"
   ]
  },
  {
   "cell_type": "markdown",
   "id": "c8608e07",
   "metadata": {
    "id": "c8608e07"
   },
   "source": [
    "## Label data "
   ]
  },
  {
   "cell_type": "code",
   "execution_count": null,
   "id": "fa030b0f",
   "metadata": {
    "id": "fa030b0f"
   },
   "outputs": [],
   "source": [
    "All_images=unfocused_imgs_resized+focused_imgs_resized\n",
    "A=[0 for file in unfocused_imgs_resized] # 0=unfocused\n",
    "B=[1 for file in focused_imgs_resized] # 1=focused\n",
    "All_images_labelled=A+B\n",
    "All_images = np.array(All_images)\n",
    "All_images_labelled = np.array(All_images_labelled)"
   ]
  },
  {
   "cell_type": "code",
   "execution_count": null,
   "id": "Z-qL7BmV5XxD",
   "metadata": {
    "colab": {
     "base_uri": "https://localhost:8080/",
     "height": 286
    },
    "id": "Z-qL7BmV5XxD",
    "outputId": "622f35d3-9c7b-4baa-f873-998d9633bba0"
   },
   "outputs": [
    {
     "data": {
      "text/plain": [
       "<matplotlib.image.AxesImage at 0x7f6595468250>"
      ]
     },
     "execution_count": 22,
     "metadata": {},
     "output_type": "execute_result"
    },
    {
     "data": {
      "image/png": "[encoded data removed]",
      "text/plain": [
       "<Figure size 432x288 with 1 Axes>"
      ]
     },
     "metadata": {
      "needs_background": "light"
     },
     "output_type": "display_data"
    }
   ],
   "source": [
    "plt.figure()\n",
    "plt.imshow(All_images[2], cmap=\"Greys_r\")"
   ]
  },
  {
   "cell_type": "markdown",
   "id": "1e45c667",
   "metadata": {
    "id": "1e45c667"
   },
   "source": [
    "## Building the Trainer and Training the Model\n",
    "\n",
    "The final step is to put all of the four things together and train the model. The model, data, optimiser and loss function are combined in a ``Trainer`` object. These exist in the ``battle_factory`` script mentioned above.\n",
    "\n",
    "The ``Trainer`` objects combine the model, data, optimiser and loss function into a single object and have the training and validation functions built-in already depending on whether you are doing classification or regression.\n",
    "\n",
    "Here we will use the ``ClassifierTrainer`` object since we want to train a classification model.\n",
    "\n",
    "This will be the trickiest bit of coding, since every dataset will be different, we need to create a new ``Trainer`` that inherits from ``ClassifierTrainer``. Inheritance here is an object-oriented programming term that essentially means the new object will have the same properties as the previous object but be able to add more stuff to it &mdash; in this case data loading.\n",
    "\n",
    "To do this we need to create a [Python class](https://towardsdatascience.com/explaining-python-classes-in-a-simple-way-e3742827c8b5) which is done via the following:"
   ]
  },
  {
   "cell_type": "code",
   "execution_count": null,
   "id": "e8ce6e15",
   "metadata": {
    "id": "e8ce6e15"
   },
   "outputs": [],
   "source": [
    "class ResNetTrainer(ClassifierTrainer):   \n",
    "    def load_data(self, images, labels):\n",
    "        indices = np.arange(labels.shape[0])\n",
    "        np.random.RandomState(seed=12).shuffle(indices)\n",
    "        max_idx = int(0.8*indices.shape[0])\n",
    "        \n",
    "        train_in = images[indices[:max_idx]]\n",
    "        train_out = labels[indices[:max_idx]]\n",
    "        print(train_in.shape,train_out.shape)\n",
    "        # print(train_in[:50].shape)\n",
    "        train_in = train_in[:50].reshape(50,512*512,3)\n",
    "        train_out = train_out[:50]\n",
    "        # print(train_in.shape,train_out.shape)\n",
    "        val_in = images[indices[max_idx:]]\n",
    "        val_out = labels[indices[max_idx:]]\n",
    "        val_in = val_in[:10].reshape(10,512*512,3)\n",
    "        val_out = val_out[:10]\n",
    "        print(torch.from_numpy(train_in).unsqueeze(1).float().shape, torch.from_numpy(train_out).long().shape)\n",
    "        # for i,j in (torch.from_numpy(train_in).unsqueeze(1).float(),torch.from_numpy(train_out).long()):\n",
    "        #   print(i.shape)\n",
    "        # print(train_out.int())\n",
    "        train_set = TensorDataset(torch.from_numpy(train_in).unsqueeze(1).float(), torch.from_numpy(train_out).int())\n",
    "        val_set = TensorDataset(torch.from_numpy(val_in).unsqueeze(1).float(), torch.from_numpy(val_out).int())\n",
    "        print(train_set,val_set)\n",
    "        self.train_loader = DataLoader(train_set, batch_size=self.batch_size, shuffle=True)\n",
    "        self.val_loader = DataLoader(val_set, batch_size=self.batch_size, shuffle=True)\n",
    "        print(self.train_loader,self.val_loader)\n",
    "        \n",
    "    def trainval(self):\n",
    "        self.training_loss=[]\n",
    "        self.validation_per=[]\n",
    "        for n in range(self.total_epochs):\n",
    "            tl, tp = self.train(train_loader=self.train_loader)\n",
    "            vl, vp = self.validation(val_loader=self.val_loader)\n",
    "            self.training_loss.append(tl)\n",
    "            self.validation_per.append(vp)\n",
    "            print(f\"For epoch {n}, training loss: {tl}, training percentage: {tp}, validation loss: {vl}, validation percentage {vp}\")"
   ]
  },
  {
   "cell_type": "markdown",
   "id": "2d0338da",
   "metadata": {
    "id": "2d0338da"
   },
   "source": [
    "The above has a bit to unpack so here we go:\n",
    "\n",
    "- The first line ``class ResNetTrainer(ClassifierTrainer)`` defines a class called ``ResNetTrainer`` and ``ClassifierTrainer`` within the brackets indicates that ``ResNetTrainer`` will inherit from ``ClassifierTrainer``.\n",
    "- Since our trainer has inherited all of the aspects of ``ClassifierTrainer`` the only function we need to define is how to load the data into the ``Trainer``. This is achieved through defining the ``load_data`` function. A function defined within a class is known as a *class method* and in Python must always take \"self\" as the first argument to indicate that it is a function within the class.\n",
    "- The ``load_data`` function will be different for every dataset so here all we need to do is split up the data in [training and validation sets](https://blog.roboflow.com/train-test-split/) since the data was already loaded into memory when it was downloaded.\n",
    "- The first three lines of this function randomly shuffles the data and defines ``max_idx`` (the maximum index for which data will be included in the training set) as 80% of the total data. The images and labels are then indexed using these shuffled positions to randomly split the dataset into 80% training and 20% validation.\n",
    "- We then create a ``TensorDataset`` for both the training set and validation set. The ``unsqueeze`` creates a dummy dimension in the images, this is needed since RGB images are technically three dimensional so the grayscale images must be made so too. ``.float()`` ensures that the images are represented by floating point numbers which is required by PyTorch and ``.long()`` ensures that the labels are represented by integers which is also required by PyTorch.\n",
    "- Lastly, we wrapped the datasets in ``DataLoader`` objects by defining a batch size. The ``DataLoader`` will split up the data into equal sizes of ``batch_size`` and also shuffle the data to make sure the network would not just memorise the training data.\n",
    "\n",
    "For the ``trainval`` function we create a for loop over the number of epochs of training we want to do and then call on the built-in training and validation functions to perform this. Then there is a line to print the current values of the losses and percentages for the epoch we are on."
   ]
  },
  {
   "cell_type": "markdown",
   "id": "ddad8d51",
   "metadata": {
    "id": "ddad8d51"
   },
   "source": [
    "The trainer can now be constructed via the following"
   ]
  },
  {
   "cell_type": "code",
   "execution_count": null,
   "id": "480960f4",
   "metadata": {
    "id": "480960f4"
   },
   "outputs": [],
   "source": [
    "resnet_trainer = ResNetTrainer (\n",
    "    model=resnet,\n",
    "    optimiser=optimi,\n",
    "    loss_fn=loss,\n",
    "    no_of_epochs=5,\n",
    "    batch_size=16,\n",
    "    data_pth = \".\"\n",
    ")"
   ]
  },
  {
   "cell_type": "markdown",
   "id": "f89701fc",
   "metadata": {
    "id": "f89701fc"
   },
   "source": [
    "And the data can be loaded using"
   ]
  },
  {
   "cell_type": "code",
   "execution_count": null,
   "id": "33200668",
   "metadata": {
    "colab": {
     "base_uri": "https://localhost:8080/"
    },
    "id": "33200668",
    "outputId": "5e89aafe-754d-42e8-cbed-db6b52d55f5d"
   },
   "outputs": [
    {
     "name": "stdout",
     "output_type": "stream",
     "text": [
      "(1812, 512, 512, 3) (1812,)\n",
      "torch.Size([50, 1, 262144, 3]) torch.Size([50])\n",
      "<torch.utils.data.dataset.TensorDataset object at 0x7f6595dc43d0> <torch.utils.data.dataset.TensorDataset object at 0x7f6595eb5f90>\n",
      "<torch.utils.data.dataloader.DataLoader object at 0x7f659540bbd0> <torch.utils.data.dataloader.DataLoader object at 0x7f6596af1e10>\n"
     ]
    }
   ],
   "source": [
    "resnet_trainer.load_data(All_images, All_images_labelled)"
   ]
  },
  {
   "cell_type": "code",
   "execution_count": null,
   "id": "A7fwdwMI4nbL",
   "metadata": {
    "colab": {
     "base_uri": "https://localhost:8080/"
    },
    "id": "A7fwdwMI4nbL",
    "outputId": "43790f42-54ac-4ad2-f866-594b238052da"
   },
   "outputs": [
    {
     "data": {
      "text/plain": [
       "(array([<torch.utils.data.dataloader.DataLoader object at 0x7f659540bbd0>],\n",
       "       dtype=object), array([1]))"
      ]
     },
     "execution_count": 26,
     "metadata": {},
     "output_type": "execute_result"
    }
   ],
   "source": [
    "np.unique(resnet_trainer.train_loader, return_counts=True)"
   ]
  },
  {
   "cell_type": "markdown",
   "id": "42505e8b",
   "metadata": {
    "id": "42505e8b"
   },
   "source": [
    "And trained"
   ]
  },
  {
   "cell_type": "code",
   "execution_count": null,
   "id": "61ebab73",
   "metadata": {
    "colab": {
     "base_uri": "https://localhost:8080/"
    },
    "id": "61ebab73",
    "outputId": "852708f6-eba0-4983-ad9e-9bff8d540d63",
    "scrolled": false
   },
   "outputs": [
    {
     "name": "stderr",
     "output_type": "stream",
     "text": [
      "100%|██████████| 4/4 [00:31<00:00,  7.85s/it]\n"
     ]
    },
    {
     "name": "stdout",
     "output_type": "stream",
     "text": [
      "For epoch 0, training loss: 0.8321467041969299, training percentage: 42.0, validation loss: 0.774346113204956, validation percentage 30.000001907348633\n"
     ]
    },
    {
     "name": "stderr",
     "output_type": "stream",
     "text": [
      "100%|██████████| 4/4 [00:31<00:00,  7.81s/it]\n"
     ]
    },
    {
     "name": "stdout",
     "output_type": "stream",
     "text": [
      "For epoch 1, training loss: 0.6275780200958252, training percentage: 64.0, validation loss: 0.65704345703125, validation percentage 70.0\n"
     ]
    },
    {
     "name": "stderr",
     "output_type": "stream",
     "text": [
      "100%|██████████| 4/4 [00:33<00:00,  8.35s/it]\n"
     ]
    },
    {
     "name": "stdout",
     "output_type": "stream",
     "text": [
      "For epoch 2, training loss: 0.6712424755096436, training percentage: 70.0, validation loss: 0.6258057355880737, validation percentage 70.0\n"
     ]
    },
    {
     "name": "stderr",
     "output_type": "stream",
     "text": [
      "100%|██████████| 4/4 [00:33<00:00,  8.28s/it]\n"
     ]
    },
    {
     "name": "stdout",
     "output_type": "stream",
     "text": [
      "For epoch 3, training loss: 0.4630991518497467, training percentage: 84.0, validation loss: 0.6284764409065247, validation percentage 90.0\n"
     ]
    },
    {
     "name": "stderr",
     "output_type": "stream",
     "text": [
      "100%|██████████| 4/4 [00:33<00:00,  8.31s/it]\n"
     ]
    },
    {
     "name": "stdout",
     "output_type": "stream",
     "text": [
      "For epoch 4, training loss: 0.3903227150440216, training percentage: 88.0, validation loss: 0.6244993209838867, validation percentage 60.000003814697266\n"
     ]
    }
   ],
   "source": [
    "resnet_trainer.trainval()"
   ]
  },
  {
   "cell_type": "code",
   "execution_count": null,
   "id": "SUxKXJVt1AFg",
   "metadata": {
    "colab": {
     "base_uri": "https://localhost:8080/"
    },
    "id": "SUxKXJVt1AFg",
    "outputId": "0ec0ee29-f069-4f46-cd22-b58338e96c95"
   },
   "outputs": [
    {
     "data": {
      "text/plain": [
       "(10, 262144, 3)"
      ]
     },
     "execution_count": 28,
     "metadata": {},
     "output_type": "execute_result"
    }
   ],
   "source": [
    "Random_data_model_check = [cv2.imread(file) for file in glob.glob('/content/drive/MyDrive/Paul sandu/Requirement/Thesis stuff/Random Data/*.bmp')]                 \n",
    "Random_data_model_check_resized=[cv2.resize(image,(512,512)) for image in Random_data_model_check]\n",
    "Random_data_model_files= [file.split(\"\\\\\")[-1] for file in glob.glob('/content/drive/MyDrive/Paul sandu/Requirement/Thesis stuff/Random Data/*.bmp')]\n",
    "Random_images=np.array(Random_data_model_check_resized[:10]).reshape(10,512*512,3)\n",
    "Random_images_2 = torch.from_numpy(Random_images)\n",
    "Random_images_3=Random_images_2.float()\n",
    "Random_images.shape"
   ]
  },
  {
   "cell_type": "code",
   "execution_count": null,
   "id": "JYYn1L-zgzmn",
   "metadata": {
    "colab": {
     "base_uri": "https://localhost:8080/",
     "height": 123
    },
    "id": "JYYn1L-zgzmn",
    "outputId": "51580455-e827-4759-9b60-a58efe31aa04"
   },
   "outputs": [
    {
     "data": {
      "application/vnd.google.colaboratory.intrinsic+json": {
       "type": "string"
      },
      "text/plain": [
       "'|===========================================================================|\\n|                  PyTorch CUDA memory summary, device ID 0                 |\\n|---------------------------------------------------------------------------|\\n|            CUDA OOMs: 4            |        cudaMalloc retries: 5         |\\n|===========================================================================|\\n|        Metric         | Cur Usage  | Peak Usage | Tot Alloc  | Tot Freed  |\\n|---------------------------------------------------------------------------|\\n| Allocated memory      |  133662 KB |   12466 MB |     831 GB |     831 GB |\\n|       from large pool |  123648 KB |   12456 MB |     831 GB |     831 GB |\\n|       from small pool |   10014 KB |      10 MB |       0 GB |       0 GB |\\n|---------------------------------------------------------------------------|\\n| Active memory         |  133662 KB |   12466 MB |     831 GB |     831 GB |\\n|       from large pool |  123648 KB |   12456 MB |     831 GB |     831 GB |\\n|       from small pool |   10014 KB |      10 MB |       0 GB |       0 GB |\\n|---------------------------------------------------------------------------|\\n| GPU reserved memory   |     842 MB |   12712 MB |   25012 MB |   24170 MB |\\n|       from large pool |     830 MB |   12700 MB |   25000 MB |   24170 MB |\\n|       from small pool |      12 MB |      12 MB |      12 MB |       0 MB |\\n|---------------------------------------------------------------------------|\\n| Non-releasable memory |  728545 KB |    5109 MB |  615874 MB |  615162 MB |\\n|       from large pool |  726272 KB |    5107 MB |  615707 MB |  614998 MB |\\n|       from small pool |    2273 KB |       2 MB |     166 MB |     164 MB |\\n|---------------------------------------------------------------------------|\\n| Allocations           |     249    |     341    |    6071    |    5822    |\\n|       from large pool |      24    |      67    |    3346    |    3322    |\\n|       from small pool |     225    |     277    |    2725    |    2500    |\\n|---------------------------------------------------------------------------|\\n| Active allocs         |     249    |     341    |    6071    |    5822    |\\n|       from large pool |      24    |      67    |    3346    |    3322    |\\n|       from small pool |     225    |     277    |    2725    |    2500    |\\n|---------------------------------------------------------------------------|\\n| GPU reserved segments |      11    |      30    |      44    |      33    |\\n|       from large pool |       5    |      24    |      38    |      33    |\\n|       from small pool |       6    |       6    |       6    |       0    |\\n|---------------------------------------------------------------------------|\\n| Non-releasable allocs |      12    |      18    |    2148    |    2136    |\\n|       from large pool |       3    |      10    |    1243    |    1240    |\\n|       from small pool |       9    |      11    |     905    |     896    |\\n|---------------------------------------------------------------------------|\\n| Oversize allocations  |       0    |       0    |       0    |       0    |\\n|---------------------------------------------------------------------------|\\n| Oversize GPU segments |       0    |       0    |       0    |       0    |\\n|===========================================================================|\\n'"
      ]
     },
     "execution_count": 29,
     "metadata": {},
     "output_type": "execute_result"
    }
   ],
   "source": [
    "import torch\n",
    "torch.cuda.empty_cache()\n",
    "# import gc\n",
    "# del variables\n",
    "# gc.collect()\n",
    "torch.cuda.memory_summary(device=None, abbreviated=False)"
   ]
  },
  {
   "cell_type": "code",
   "execution_count": null,
   "id": "M1rc_7wo1OSA",
   "metadata": {
    "id": "M1rc_7wo1OSA"
   },
   "outputs": [],
   "source": [
    "resnet_trainer.model.eval()\n",
    "with torch.no_grad():\n",
    "    output=resnet_trainer.model(Random_images_3.unsqueeze(1).cuda())\n",
    "    output=output.cpu()\n",
    "    pred_label=torch.argmax(output, axis=1)"
   ]
  },
  {
   "cell_type": "code",
   "execution_count": null,
   "id": "qW8evmYU7DfL",
   "metadata": {
    "colab": {
     "base_uri": "https://localhost:8080/"
    },
    "id": "qW8evmYU7DfL",
    "outputId": "e433ae75-6946-4c51-cf88-285691303d87"
   },
   "outputs": [
    {
     "data": {
      "text/plain": [
       "tensor([[-0.2021, -0.1634],\n",
       "        [ 0.0334, -0.0838],\n",
       "        [-0.0942, -0.0386],\n",
       "        [-0.0499, -0.1529],\n",
       "        [ 0.0496, -0.2105],\n",
       "        [ 0.0783, -0.0868],\n",
       "        [ 0.0670, -0.1133],\n",
       "        [-0.1637, -0.2054],\n",
       "        [-0.1588, -0.2006],\n",
       "        [-0.0139, -0.1156]])"
      ]
     },
     "execution_count": 54,
     "metadata": {},
     "output_type": "execute_result"
    }
   ],
   "source": [
    "output"
   ]
  },
  {
   "cell_type": "code",
   "execution_count": null,
   "id": "nifCnlDVMWMP",
   "metadata": {
    "colab": {
     "base_uri": "https://localhost:8080/"
    },
    "id": "nifCnlDVMWMP",
    "outputId": "b706cddb-9100-4010-c2e4-c93e84648bc6"
   },
   "outputs": [
    {
     "data": {
      "text/plain": [
       "tensor([1, 0, 1, 0, 0, 0, 0, 0, 0, 0])"
      ]
     },
     "execution_count": 55,
     "metadata": {},
     "output_type": "execute_result"
    }
   ],
   "source": [
    "# predicted labels for first 10 random images\n",
    "pred_label"
   ]
  },
  {
   "cell_type": "code",
   "execution_count": null,
   "id": "rkHDZpG55BVG",
   "metadata": {
    "id": "rkHDZpG55BVG"
   },
   "outputs": [],
   "source": [
    "# from torchvision import transforms\n",
    "# resnet_trainer(transform=transforms.Compose([transforms.ToTensor()]))"
   ]
  },
  {
   "cell_type": "code",
   "execution_count": null,
   "id": "2nekInllkhAw",
   "metadata": {
    "id": "2nekInllkhAw"
   },
   "outputs": [],
   "source": [
    "# resnet_trainer(transform=transforms)"
   ]
  },
  {
   "cell_type": "code",
   "execution_count": null,
   "id": "9Fux6xeFjO_n",
   "metadata": {
    "colab": {
     "base_uri": "https://localhost:8080/"
    },
    "id": "9Fux6xeFjO_n",
    "outputId": "5bb8e4f3-de35-4731-bdcb-929a0ef1ac82"
   },
   "outputs": [
    {
     "data": {
      "text/plain": [
       "[tensor(0.8321),\n",
       " tensor(0.6276),\n",
       " tensor(0.6712),\n",
       " tensor(0.4631),\n",
       " tensor(0.3903)]"
      ]
     },
     "execution_count": 34,
     "metadata": {},
     "output_type": "execute_result"
    }
   ],
   "source": [
    "resnet_trainer.training_loss"
   ]
  },
  {
   "cell_type": "code",
   "execution_count": null,
   "id": "meHNApUkv8OJ",
   "metadata": {
    "colab": {
     "base_uri": "https://localhost:8080/"
    },
    "id": "meHNApUkv8OJ",
    "outputId": "7021a0dc-4767-4b9a-a961-9c83438fbcb1"
   },
   "outputs": [
    {
     "data": {
      "text/plain": [
       "[30.000001907348633, 70.0, 70.0, 90.0, 60.000003814697266]"
      ]
     },
     "execution_count": 35,
     "metadata": {},
     "output_type": "execute_result"
    }
   ],
   "source": [
    "resnet_trainer.validation_per"
   ]
  },
  {
   "cell_type": "code",
   "execution_count": null,
   "id": "55rgKQS4kQnU",
   "metadata": {
    "colab": {
     "base_uri": "https://localhost:8080/",
     "height": 388
    },
    "id": "55rgKQS4kQnU",
    "outputId": "ad8d5436-7e94-4ded-8062-b175e1668f9a"
   },
   "outputs": [
    {
     "data": {
      "image/png": "[encoded data removed]",
      "text/plain": [
       "<Figure size 432x432 with 2 Axes>"
      ]
     },
     "metadata": {
      "needs_background": "light"
     },
     "output_type": "display_data"
    }
   ],
   "source": [
    "fig = plt.figure(figsize=(6,6))\n",
    "train_ax = fig.add_subplot(1,1,1)\n",
    "val_ax = train_ax.twinx()\n",
    "# train_ax.set_yscale(\"log\")\n",
    "train_ax.plot([1,2,3,4,5],resnet_trainer.training_loss,color='cyan')\n",
    "val_ax.plot([1,2,3,4,5],resnet_trainer.validation_per,color='magenta')\n",
    "train_ax.set_ylabel(\"Training Loss\", color=\"cyan\")\n",
    "train_ax.set_xlabel(\"Number of Epochs\")\n",
    "val_ax.set_ylabel(\"Validation Classification [%]\", color=\"magenta\")\n",
    "fig.show()\n",
    "fig.canvas.draw()"
   ]
  },
  {
   "cell_type": "code",
   "execution_count": null,
   "id": "IHMPbYSA1d_a",
   "metadata": {
    "id": "IHMPbYSA1d_a"
   },
   "outputs": [],
   "source": [
    "# fig.suptitle(f\"Time elapsed {t_now}s after epoch {self.current_epoch}\")\n",
    "train_ax.plot(resnet_trainer.validation_per,[1,2,3,4,5])\n",
    "train_ax.set_ylabel(\"Training Loss\", color=\"cyan\")\n",
    "train_ax.set_xlabel(\"Number of Epochs\")\n",
    "val_ax.set_ylabel(\"Validation Classification [%]\", color=\"magenta\")\n",
    "fig.show()\n",
    "# train_ax.semilogy(train_losses, color=pt_vibrant[\"cyan\"], marker=\"o\")\n",
    "# val_ax.plot(val_losses, color=pt_vibrant[\"magenta\"], marker=\"o\")\n",
    "# fig.canvas.draw()"
   ]
  },
  {
   "cell_type": "code",
   "execution_count": null,
   "id": "jvlzBzm4HpVY",
   "metadata": {
    "colab": {
     "base_uri": "https://localhost:8080/",
     "height": 388
    },
    "id": "jvlzBzm4HpVY",
    "outputId": "43ac0d13-dcea-4305-89cc-b9fef32c3979"
   },
   "outputs": [
    {
     "data": {
      "image/png": "[encoded data removed]",
      "text/plain": [
       "<Figure size 432x432 with 2 Axes>"
      ]
     },
     "metadata": {
      "needs_background": "light"
     },
     "output_type": "display_data"
    }
   ],
   "source": [
    "fig = plt.figure(figsize=(6,6))\n",
    "train_ax = fig.add_subplot(1,1,1)\n",
    "val_ax = train_ax.twinx()\n",
    "#fig.suptitle(f\"Time elapsed {t_now}s after epoch {self.current_epoch}\")\n",
    "train_ax.set_ylabel(\"Training Loss\", color=\"cyan\")\n",
    "train_ax.set_xlabel(\"Number of Epochs\")\n",
    "val_ax.set_ylabel(\"Validation Classification [%]\", color=\"magenta\")\n",
    "train_ax.semilogy(resnet_trainer.training_loss, color=\"cyan\", marker=\"o\")\n",
    "val_ax.plot(resnet_trainer.validation_per, color=\"magenta\", marker=\"o\")\n",
    "fig.show()\n",
    "fig.canvas.draw()"
   ]
  },
  {
   "cell_type": "code",
   "execution_count": null,
   "id": "VR5pQgrHI1fB",
   "metadata": {
    "id": "VR5pQgrHI1fB"
   },
   "outputs": [],
   "source": []
  }
 ],
 "metadata": {
  "accelerator": "GPU",
  "colab": {
   "collapsed_sections": [],
   "name": "training_a_classifier_(2).ipynb",
   "provenance": []
  },
  "gpuClass": "standard",
  "kernelspec": {
   "display_name": "Python 3 (ipykernel)",
   "language": "python",
   "name": "python3"
  },
  "language_info": {
   "codemirror_mode": {
    "name": "ipython",
    "version": 3
   },
   "file_extension": ".py",
   "mimetype": "text/x-python",
   "name": "python",
   "nbconvert_exporter": "python",
   "pygments_lexer": "ipython3",
   "version": "3.9.12"
  },
  "widgets": {
   "application/vnd.jupyter.widget-state+json": {
    "039b89f8036b4c2d9e4a884032f4dda2": {
     "model_module": "@jupyter-widgets/controls",
     "model_module_version": "1.5.0",
     "model_name": "FloatProgressModel",
     "state": {
      "_dom_classes": [],
      "_model_module": "@jupyter-widgets/controls",
      "_model_module_version": "1.5.0",
      "_model_name": "FloatProgressModel",
      "_view_count": null,
      "_view_module": "@jupyter-widgets/controls",
      "_view_module_version": "1.5.0",
      "_view_name": "ProgressView",
      "bar_style": "success",
      "description": "",
      "description_tooltip": null,
      "layout": "IPY_MODEL_96c102aa116f45f8a27ec46485ddb829",
      "max": 1648877,
      "min": 0,
      "orientation": "horizontal",
      "style": "IPY_MODEL_c64f2748f46440b7b3d6a2231fbf40a9",
      "value": 1648877
     }
    },
    "039cf90dfcc14205ada242f2a03e2851": {
     "model_module": "@jupyter-widgets/controls",
     "model_module_version": "1.5.0",
     "model_name": "DescriptionStyleModel",
     "state": {
      "_model_module": "@jupyter-widgets/controls",
      "_model_module_version": "1.5.0",
      "_model_name": "DescriptionStyleModel",
      "_view_count": null,
      "_view_module": "@jupyter-widgets/base",
      "_view_module_version": "1.2.0",
      "_view_name": "StyleView",
      "description_width": ""
     }
    },
    "04ba2fdac886416fa80414662a1bba9a": {
     "model_module": "@jupyter-widgets/base",
     "model_module_version": "1.2.0",
     "model_name": "LayoutModel",
     "state": {
      "_model_module": "@jupyter-widgets/base",
      "_model_module_version": "1.2.0",
      "_model_name": "LayoutModel",
      "_view_count": null,
      "_view_module": "@jupyter-widgets/base",
      "_view_module_version": "1.2.0",
      "_view_name": "LayoutView",
      "align_content": null,
      "align_items": null,
      "align_self": null,
      "border": null,
      "bottom": null,
      "display": null,
      "flex": null,
      "flex_flow": null,
      "grid_area": null,
      "grid_auto_columns": null,
      "grid_auto_flow": null,
      "grid_auto_rows": null,
      "grid_column": null,
      "grid_gap": null,
      "grid_row": null,
      "grid_template_areas": null,
      "grid_template_columns": null,
      "grid_template_rows": null,
      "height": null,
      "justify_content": null,
      "justify_items": null,
      "left": null,
      "margin": null,
      "max_height": null,
      "max_width": null,
      "min_height": null,
      "min_width": null,
      "object_fit": null,
      "object_position": null,
      "order": null,
      "overflow": null,
      "overflow_x": null,
      "overflow_y": null,
      "padding": null,
      "right": null,
      "top": null,
      "visibility": null,
      "width": null
     }
    },
    "0645441c47dc4abb80b07abb575b247a": {
     "model_module": "@jupyter-widgets/controls",
     "model_module_version": "1.5.0",
     "model_name": "HTMLModel",
     "state": {
      "_dom_classes": [],
      "_model_module": "@jupyter-widgets/controls",
      "_model_module_version": "1.5.0",
      "_model_name": "HTMLModel",
      "_view_count": null,
      "_view_module": "@jupyter-widgets/controls",
      "_view_module_version": "1.5.0",
      "_view_name": "HTMLView",
      "description": "",
      "description_tooltip": null,
      "layout": "IPY_MODEL_b476d7ba96d24be89128a7e914aeb72d",
      "placeholder": "​",
      "style": "IPY_MODEL_e5b820f5b835444c95ce8f2a7944ff4a",
      "value": " 44.7M/44.7M [00:00&lt;00:00, 68.1MB/s]"
     }
    },
    "0eddd9cc16d6493cb0084537b50b9983": {
     "model_module": "@jupyter-widgets/controls",
     "model_module_version": "1.5.0",
     "model_name": "ProgressStyleModel",
     "state": {
      "_model_module": "@jupyter-widgets/controls",
      "_model_module_version": "1.5.0",
      "_model_name": "ProgressStyleModel",
      "_view_count": null,
      "_view_module": "@jupyter-widgets/base",
      "_view_module_version": "1.2.0",
      "_view_name": "StyleView",
      "bar_color": null,
      "description_width": ""
     }
    },
    "1133d27b6a3f41b5830a4ef89bc07c59": {
     "model_module": "@jupyter-widgets/base",
     "model_module_version": "1.2.0",
     "model_name": "LayoutModel",
     "state": {
      "_model_module": "@jupyter-widgets/base",
      "_model_module_version": "1.2.0",
      "_model_name": "LayoutModel",
      "_view_count": null,
      "_view_module": "@jupyter-widgets/base",
      "_view_module_version": "1.2.0",
      "_view_name": "LayoutView",
      "align_content": null,
      "align_items": null,
      "align_self": null,
      "border": null,
      "bottom": null,
      "display": null,
      "flex": null,
      "flex_flow": null,
      "grid_area": null,
      "grid_auto_columns": null,
      "grid_auto_flow": null,
      "grid_auto_rows": null,
      "grid_column": null,
      "grid_gap": null,
      "grid_row": null,
      "grid_template_areas": null,
      "grid_template_columns": null,
      "grid_template_rows": null,
      "height": null,
      "justify_content": null,
      "justify_items": null,
      "left": null,
      "margin": null,
      "max_height": null,
      "max_width": null,
      "min_height": null,
      "min_width": null,
      "object_fit": null,
      "object_position": null,
      "order": null,
      "overflow": null,
      "overflow_x": null,
      "overflow_y": null,
      "padding": null,
      "right": null,
      "top": null,
      "visibility": null,
      "width": null
     }
    },
    "3262385a143b408faae1056005c279fc": {
     "model_module": "@jupyter-widgets/controls",
     "model_module_version": "1.5.0",
     "model_name": "HBoxModel",
     "state": {
      "_dom_classes": [],
      "_model_module": "@jupyter-widgets/controls",
      "_model_module_version": "1.5.0",
      "_model_name": "HBoxModel",
      "_view_count": null,
      "_view_module": "@jupyter-widgets/controls",
      "_view_module_version": "1.5.0",
      "_view_name": "HBoxView",
      "box_style": "",
      "children": [
       "IPY_MODEL_b22e3e0d991143b69aa034e5d1e9da36",
       "IPY_MODEL_039b89f8036b4c2d9e4a884032f4dda2",
       "IPY_MODEL_fb38d639adf647d0a8d8978757b5512a"
      ],
      "layout": "IPY_MODEL_91bd3a4f75044493a3330c9956d4abca"
     }
    },
    "38901222eda447cf9ac70a3f95476256": {
     "model_module": "@jupyter-widgets/base",
     "model_module_version": "1.2.0",
     "model_name": "LayoutModel",
     "state": {
      "_model_module": "@jupyter-widgets/base",
      "_model_module_version": "1.2.0",
      "_model_name": "LayoutModel",
      "_view_count": null,
      "_view_module": "@jupyter-widgets/base",
      "_view_module_version": "1.2.0",
      "_view_name": "LayoutView",
      "align_content": null,
      "align_items": null,
      "align_self": null,
      "border": null,
      "bottom": null,
      "display": null,
      "flex": null,
      "flex_flow": null,
      "grid_area": null,
      "grid_auto_columns": null,
      "grid_auto_flow": null,
      "grid_auto_rows": null,
      "grid_column": null,
      "grid_gap": null,
      "grid_row": null,
      "grid_template_areas": null,
      "grid_template_columns": null,
      "grid_template_rows": null,
      "height": null,
      "justify_content": null,
      "justify_items": null,
      "left": null,
      "margin": null,
      "max_height": null,
      "max_width": null,
      "min_height": null,
      "min_width": null,
      "object_fit": null,
      "object_position": null,
      "order": null,
      "overflow": null,
      "overflow_x": null,
      "overflow_y": null,
      "padding": null,
      "right": null,
      "top": null,
      "visibility": null,
      "width": null
     }
    },
    "4452ee78ff594f26897b278bd151f94a": {
     "model_module": "@jupyter-widgets/base",
     "model_module_version": "1.2.0",
     "model_name": "LayoutModel",
     "state": {
      "_model_module": "@jupyter-widgets/base",
      "_model_module_version": "1.2.0",
      "_model_name": "LayoutModel",
      "_view_count": null,
      "_view_module": "@jupyter-widgets/base",
      "_view_module_version": "1.2.0",
      "_view_name": "LayoutView",
      "align_content": null,
      "align_items": null,
      "align_self": null,
      "border": null,
      "bottom": null,
      "display": null,
      "flex": null,
      "flex_flow": null,
      "grid_area": null,
      "grid_auto_columns": null,
      "grid_auto_flow": null,
      "grid_auto_rows": null,
      "grid_column": null,
      "grid_gap": null,
      "grid_row": null,
      "grid_template_areas": null,
      "grid_template_columns": null,
      "grid_template_rows": null,
      "height": null,
      "justify_content": null,
      "justify_items": null,
      "left": null,
      "margin": null,
      "max_height": null,
      "max_width": null,
      "min_height": null,
      "min_width": null,
      "object_fit": null,
      "object_position": null,
      "order": null,
      "overflow": null,
      "overflow_x": null,
      "overflow_y": null,
      "padding": null,
      "right": null,
      "top": null,
      "visibility": null,
      "width": null
     }
    },
    "4f730c1c7f314c29a9ada9004399db3d": {
     "model_module": "@jupyter-widgets/controls",
     "model_module_version": "1.5.0",
     "model_name": "DescriptionStyleModel",
     "state": {
      "_model_module": "@jupyter-widgets/controls",
      "_model_module_version": "1.5.0",
      "_model_name": "DescriptionStyleModel",
      "_view_count": null,
      "_view_module": "@jupyter-widgets/base",
      "_view_module_version": "1.2.0",
      "_view_name": "StyleView",
      "description_width": ""
     }
    },
    "4fb568b1a5b84a6e8d328b5717499508": {
     "model_module": "@jupyter-widgets/controls",
     "model_module_version": "1.5.0",
     "model_name": "HBoxModel",
     "state": {
      "_dom_classes": [],
      "_model_module": "@jupyter-widgets/controls",
      "_model_module_version": "1.5.0",
      "_model_name": "HBoxModel",
      "_view_count": null,
      "_view_module": "@jupyter-widgets/controls",
      "_view_module_version": "1.5.0",
      "_view_name": "HBoxView",
      "box_style": "",
      "children": [
       "IPY_MODEL_7acb1aa85f844acd841e0fffa59e9fbf",
       "IPY_MODEL_ddd53488b30142b4a70460b50e8e8096",
       "IPY_MODEL_94555c2be2904e44b7ec680fe1a69276"
      ],
      "layout": "IPY_MODEL_b5f1d3ad158040ce9af80c5bec58c498"
     }
    },
    "4ffc77ce727e45f89c374224ee4f12e9": {
     "model_module": "@jupyter-widgets/base",
     "model_module_version": "1.2.0",
     "model_name": "LayoutModel",
     "state": {
      "_model_module": "@jupyter-widgets/base",
      "_model_module_version": "1.2.0",
      "_model_name": "LayoutModel",
      "_view_count": null,
      "_view_module": "@jupyter-widgets/base",
      "_view_module_version": "1.2.0",
      "_view_name": "LayoutView",
      "align_content": null,
      "align_items": null,
      "align_self": null,
      "border": null,
      "bottom": null,
      "display": null,
      "flex": null,
      "flex_flow": null,
      "grid_area": null,
      "grid_auto_columns": null,
      "grid_auto_flow": null,
      "grid_auto_rows": null,
      "grid_column": null,
      "grid_gap": null,
      "grid_row": null,
      "grid_template_areas": null,
      "grid_template_columns": null,
      "grid_template_rows": null,
      "height": null,
      "justify_content": null,
      "justify_items": null,
      "left": null,
      "margin": null,
      "max_height": null,
      "max_width": null,
      "min_height": null,
      "min_width": null,
      "object_fit": null,
      "object_position": null,
      "order": null,
      "overflow": null,
      "overflow_x": null,
      "overflow_y": null,
      "padding": null,
      "right": null,
      "top": null,
      "visibility": null,
      "width": null
     }
    },
    "58cf05a99d9e49c498b5adb2a65acdfd": {
     "model_module": "@jupyter-widgets/base",
     "model_module_version": "1.2.0",
     "model_name": "LayoutModel",
     "state": {
      "_model_module": "@jupyter-widgets/base",
      "_model_module_version": "1.2.0",
      "_model_name": "LayoutModel",
      "_view_count": null,
      "_view_module": "@jupyter-widgets/base",
      "_view_module_version": "1.2.0",
      "_view_name": "LayoutView",
      "align_content": null,
      "align_items": null,
      "align_self": null,
      "border": null,
      "bottom": null,
      "display": null,
      "flex": null,
      "flex_flow": null,
      "grid_area": null,
      "grid_auto_columns": null,
      "grid_auto_flow": null,
      "grid_auto_rows": null,
      "grid_column": null,
      "grid_gap": null,
      "grid_row": null,
      "grid_template_areas": null,
      "grid_template_columns": null,
      "grid_template_rows": null,
      "height": null,
      "justify_content": null,
      "justify_items": null,
      "left": null,
      "margin": null,
      "max_height": null,
      "max_width": null,
      "min_height": null,
      "min_width": null,
      "object_fit": null,
      "object_position": null,
      "order": null,
      "overflow": null,
      "overflow_x": null,
      "overflow_y": null,
      "padding": null,
      "right": null,
      "top": null,
      "visibility": null,
      "width": null
     }
    },
    "5d46d7cd2ea549999851064af8f3b86d": {
     "model_module": "@jupyter-widgets/controls",
     "model_module_version": "1.5.0",
     "model_name": "HBoxModel",
     "state": {
      "_dom_classes": [],
      "_model_module": "@jupyter-widgets/controls",
      "_model_module_version": "1.5.0",
      "_model_name": "HBoxModel",
      "_view_count": null,
      "_view_module": "@jupyter-widgets/controls",
      "_view_module_version": "1.5.0",
      "_view_name": "HBoxView",
      "box_style": "",
      "children": [
       "IPY_MODEL_e5ff511702b7466ab71cab796e21834c",
       "IPY_MODEL_d8b3789fbeb244969d700bd0dcad1136",
       "IPY_MODEL_0645441c47dc4abb80b07abb575b247a"
      ],
      "layout": "IPY_MODEL_e56d4a6a9e9d4d1fb5499a419a6577fc"
     }
    },
    "600438f114014c68aaeb5951841a3351": {
     "model_module": "@jupyter-widgets/base",
     "model_module_version": "1.2.0",
     "model_name": "LayoutModel",
     "state": {
      "_model_module": "@jupyter-widgets/base",
      "_model_module_version": "1.2.0",
      "_model_name": "LayoutModel",
      "_view_count": null,
      "_view_module": "@jupyter-widgets/base",
      "_view_module_version": "1.2.0",
      "_view_name": "LayoutView",
      "align_content": null,
      "align_items": null,
      "align_self": null,
      "border": null,
      "bottom": null,
      "display": null,
      "flex": null,
      "flex_flow": null,
      "grid_area": null,
      "grid_auto_columns": null,
      "grid_auto_flow": null,
      "grid_auto_rows": null,
      "grid_column": null,
      "grid_gap": null,
      "grid_row": null,
      "grid_template_areas": null,
      "grid_template_columns": null,
      "grid_template_rows": null,
      "height": null,
      "justify_content": null,
      "justify_items": null,
      "left": null,
      "margin": null,
      "max_height": null,
      "max_width": null,
      "min_height": null,
      "min_width": null,
      "object_fit": null,
      "object_position": null,
      "order": null,
      "overflow": null,
      "overflow_x": null,
      "overflow_y": null,
      "padding": null,
      "right": null,
      "top": null,
      "visibility": null,
      "width": null
     }
    },
    "62fe01cac3eb40abaf7e0adc468fcd22": {
     "model_module": "@jupyter-widgets/controls",
     "model_module_version": "1.5.0",
     "model_name": "DescriptionStyleModel",
     "state": {
      "_model_module": "@jupyter-widgets/controls",
      "_model_module_version": "1.5.0",
      "_model_name": "DescriptionStyleModel",
      "_view_count": null,
      "_view_module": "@jupyter-widgets/base",
      "_view_module_version": "1.2.0",
      "_view_name": "StyleView",
      "description_width": ""
     }
    },
    "68539494834045e9a548fd90496c32ca": {
     "model_module": "@jupyter-widgets/controls",
     "model_module_version": "1.5.0",
     "model_name": "DescriptionStyleModel",
     "state": {
      "_model_module": "@jupyter-widgets/controls",
      "_model_module_version": "1.5.0",
      "_model_name": "DescriptionStyleModel",
      "_view_count": null,
      "_view_module": "@jupyter-widgets/base",
      "_view_module_version": "1.2.0",
      "_view_name": "StyleView",
      "description_width": ""
     }
    },
    "689d5d63c39749b98ff367a83cbb254f": {
     "model_module": "@jupyter-widgets/controls",
     "model_module_version": "1.5.0",
     "model_name": "DescriptionStyleModel",
     "state": {
      "_model_module": "@jupyter-widgets/controls",
      "_model_module_version": "1.5.0",
      "_model_name": "DescriptionStyleModel",
      "_view_count": null,
      "_view_module": "@jupyter-widgets/base",
      "_view_module_version": "1.2.0",
      "_view_name": "StyleView",
      "description_width": ""
     }
    },
    "72542b32984d4486a9924b2f2dafd4b6": {
     "model_module": "@jupyter-widgets/controls",
     "model_module_version": "1.5.0",
     "model_name": "ProgressStyleModel",
     "state": {
      "_model_module": "@jupyter-widgets/controls",
      "_model_module_version": "1.5.0",
      "_model_name": "ProgressStyleModel",
      "_view_count": null,
      "_view_module": "@jupyter-widgets/base",
      "_view_module_version": "1.2.0",
      "_view_name": "StyleView",
      "bar_color": null,
      "description_width": ""
     }
    },
    "79c819f94a574064b93b3bf3fbdb4785": {
     "model_module": "@jupyter-widgets/base",
     "model_module_version": "1.2.0",
     "model_name": "LayoutModel",
     "state": {
      "_model_module": "@jupyter-widgets/base",
      "_model_module_version": "1.2.0",
      "_model_name": "LayoutModel",
      "_view_count": null,
      "_view_module": "@jupyter-widgets/base",
      "_view_module_version": "1.2.0",
      "_view_name": "LayoutView",
      "align_content": null,
      "align_items": null,
      "align_self": null,
      "border": null,
      "bottom": null,
      "display": null,
      "flex": null,
      "flex_flow": null,
      "grid_area": null,
      "grid_auto_columns": null,
      "grid_auto_flow": null,
      "grid_auto_rows": null,
      "grid_column": null,
      "grid_gap": null,
      "grid_row": null,
      "grid_template_areas": null,
      "grid_template_columns": null,
      "grid_template_rows": null,
      "height": null,
      "justify_content": null,
      "justify_items": null,
      "left": null,
      "margin": null,
      "max_height": null,
      "max_width": null,
      "min_height": null,
      "min_width": null,
      "object_fit": null,
      "object_position": null,
      "order": null,
      "overflow": null,
      "overflow_x": null,
      "overflow_y": null,
      "padding": null,
      "right": null,
      "top": null,
      "visibility": null,
      "width": null
     }
    },
    "7acb1aa85f844acd841e0fffa59e9fbf": {
     "model_module": "@jupyter-widgets/controls",
     "model_module_version": "1.5.0",
     "model_name": "HTMLModel",
     "state": {
      "_dom_classes": [],
      "_model_module": "@jupyter-widgets/controls",
      "_model_module_version": "1.5.0",
      "_model_name": "HTMLModel",
      "_view_count": null,
      "_view_module": "@jupyter-widgets/controls",
      "_view_module_version": "1.5.0",
      "_view_name": "HTMLView",
      "description": "",
      "description_tooltip": null,
      "layout": "IPY_MODEL_04ba2fdac886416fa80414662a1bba9a",
      "placeholder": "​",
      "style": "IPY_MODEL_039cf90dfcc14205ada242f2a03e2851",
      "value": ""
     }
    },
    "7f4fc931c2a5447d8067fc3819d03ec3": {
     "model_module": "@jupyter-widgets/controls",
     "model_module_version": "1.5.0",
     "model_name": "DescriptionStyleModel",
     "state": {
      "_model_module": "@jupyter-widgets/controls",
      "_model_module_version": "1.5.0",
      "_model_name": "DescriptionStyleModel",
      "_view_count": null,
      "_view_module": "@jupyter-widgets/base",
      "_view_module_version": "1.2.0",
      "_view_name": "StyleView",
      "description_width": ""
     }
    },
    "81c3b33fd4d34a4da2ba536a6bd7ba96": {
     "model_module": "@jupyter-widgets/base",
     "model_module_version": "1.2.0",
     "model_name": "LayoutModel",
     "state": {
      "_model_module": "@jupyter-widgets/base",
      "_model_module_version": "1.2.0",
      "_model_name": "LayoutModel",
      "_view_count": null,
      "_view_module": "@jupyter-widgets/base",
      "_view_module_version": "1.2.0",
      "_view_name": "LayoutView",
      "align_content": null,
      "align_items": null,
      "align_self": null,
      "border": null,
      "bottom": null,
      "display": null,
      "flex": null,
      "flex_flow": null,
      "grid_area": null,
      "grid_auto_columns": null,
      "grid_auto_flow": null,
      "grid_auto_rows": null,
      "grid_column": null,
      "grid_gap": null,
      "grid_row": null,
      "grid_template_areas": null,
      "grid_template_columns": null,
      "grid_template_rows": null,
      "height": null,
      "justify_content": null,
      "justify_items": null,
      "left": null,
      "margin": null,
      "max_height": null,
      "max_width": null,
      "min_height": null,
      "min_width": null,
      "object_fit": null,
      "object_position": null,
      "order": null,
      "overflow": null,
      "overflow_x": null,
      "overflow_y": null,
      "padding": null,
      "right": null,
      "top": null,
      "visibility": null,
      "width": null
     }
    },
    "89e4b2008e114d95bcf3c320bd4d6f4d": {
     "model_module": "@jupyter-widgets/base",
     "model_module_version": "1.2.0",
     "model_name": "LayoutModel",
     "state": {
      "_model_module": "@jupyter-widgets/base",
      "_model_module_version": "1.2.0",
      "_model_name": "LayoutModel",
      "_view_count": null,
      "_view_module": "@jupyter-widgets/base",
      "_view_module_version": "1.2.0",
      "_view_name": "LayoutView",
      "align_content": null,
      "align_items": null,
      "align_self": null,
      "border": null,
      "bottom": null,
      "display": null,
      "flex": null,
      "flex_flow": null,
      "grid_area": null,
      "grid_auto_columns": null,
      "grid_auto_flow": null,
      "grid_auto_rows": null,
      "grid_column": null,
      "grid_gap": null,
      "grid_row": null,
      "grid_template_areas": null,
      "grid_template_columns": null,
      "grid_template_rows": null,
      "height": null,
      "justify_content": null,
      "justify_items": null,
      "left": null,
      "margin": null,
      "max_height": null,
      "max_width": null,
      "min_height": null,
      "min_width": null,
      "object_fit": null,
      "object_position": null,
      "order": null,
      "overflow": null,
      "overflow_x": null,
      "overflow_y": null,
      "padding": null,
      "right": null,
      "top": null,
      "visibility": null,
      "width": null
     }
    },
    "8ad328bbdcb04af0a87666ee0df91937": {
     "model_module": "@jupyter-widgets/controls",
     "model_module_version": "1.5.0",
     "model_name": "DescriptionStyleModel",
     "state": {
      "_model_module": "@jupyter-widgets/controls",
      "_model_module_version": "1.5.0",
      "_model_name": "DescriptionStyleModel",
      "_view_count": null,
      "_view_module": "@jupyter-widgets/base",
      "_view_module_version": "1.2.0",
      "_view_name": "StyleView",
      "description_width": ""
     }
    },
    "8d3bb5a4cf0f44a59cdc98d52b9c9c82": {
     "model_module": "@jupyter-widgets/controls",
     "model_module_version": "1.5.0",
     "model_name": "HBoxModel",
     "state": {
      "_dom_classes": [],
      "_model_module": "@jupyter-widgets/controls",
      "_model_module_version": "1.5.0",
      "_model_name": "HBoxModel",
      "_view_count": null,
      "_view_module": "@jupyter-widgets/controls",
      "_view_module_version": "1.5.0",
      "_view_name": "HBoxView",
      "box_style": "",
      "children": [
       "IPY_MODEL_b313d4c9c4054f729630c0d970ad4665",
       "IPY_MODEL_bbb3659f4c3244fcac24ca1f06b36986",
       "IPY_MODEL_d28506426c5846ac9b324a8fb0b00330"
      ],
      "layout": "IPY_MODEL_fb3c0a830ee04a699b5160d3b3f12f64"
     }
    },
    "91bd3a4f75044493a3330c9956d4abca": {
     "model_module": "@jupyter-widgets/base",
     "model_module_version": "1.2.0",
     "model_name": "LayoutModel",
     "state": {
      "_model_module": "@jupyter-widgets/base",
      "_model_module_version": "1.2.0",
      "_model_name": "LayoutModel",
      "_view_count": null,
      "_view_module": "@jupyter-widgets/base",
      "_view_module_version": "1.2.0",
      "_view_name": "LayoutView",
      "align_content": null,
      "align_items": null,
      "align_self": null,
      "border": null,
      "bottom": null,
      "display": null,
      "flex": null,
      "flex_flow": null,
      "grid_area": null,
      "grid_auto_columns": null,
      "grid_auto_flow": null,
      "grid_auto_rows": null,
      "grid_column": null,
      "grid_gap": null,
      "grid_row": null,
      "grid_template_areas": null,
      "grid_template_columns": null,
      "grid_template_rows": null,
      "height": null,
      "justify_content": null,
      "justify_items": null,
      "left": null,
      "margin": null,
      "max_height": null,
      "max_width": null,
      "min_height": null,
      "min_width": null,
      "object_fit": null,
      "object_position": null,
      "order": null,
      "overflow": null,
      "overflow_x": null,
      "overflow_y": null,
      "padding": null,
      "right": null,
      "top": null,
      "visibility": null,
      "width": null
     }
    },
    "94555c2be2904e44b7ec680fe1a69276": {
     "model_module": "@jupyter-widgets/controls",
     "model_module_version": "1.5.0",
     "model_name": "HTMLModel",
     "state": {
      "_dom_classes": [],
      "_model_module": "@jupyter-widgets/controls",
      "_model_module_version": "1.5.0",
      "_model_name": "HTMLModel",
      "_view_count": null,
      "_view_module": "@jupyter-widgets/controls",
      "_view_module_version": "1.5.0",
      "_view_name": "HTMLView",
      "description": "",
      "description_tooltip": null,
      "layout": "IPY_MODEL_89e4b2008e114d95bcf3c320bd4d6f4d",
      "placeholder": "​",
      "style": "IPY_MODEL_7f4fc931c2a5447d8067fc3819d03ec3",
      "value": " 5120/? [00:00&lt;00:00, 110586.16it/s]"
     }
    },
    "945778cbed9f40968fa9ca81f5cdd8b5": {
     "model_module": "@jupyter-widgets/base",
     "model_module_version": "1.2.0",
     "model_name": "LayoutModel",
     "state": {
      "_model_module": "@jupyter-widgets/base",
      "_model_module_version": "1.2.0",
      "_model_name": "LayoutModel",
      "_view_count": null,
      "_view_module": "@jupyter-widgets/base",
      "_view_module_version": "1.2.0",
      "_view_name": "LayoutView",
      "align_content": null,
      "align_items": null,
      "align_self": null,
      "border": null,
      "bottom": null,
      "display": null,
      "flex": null,
      "flex_flow": null,
      "grid_area": null,
      "grid_auto_columns": null,
      "grid_auto_flow": null,
      "grid_auto_rows": null,
      "grid_column": null,
      "grid_gap": null,
      "grid_row": null,
      "grid_template_areas": null,
      "grid_template_columns": null,
      "grid_template_rows": null,
      "height": null,
      "justify_content": null,
      "justify_items": null,
      "left": null,
      "margin": null,
      "max_height": null,
      "max_width": null,
      "min_height": null,
      "min_width": null,
      "object_fit": null,
      "object_position": null,
      "order": null,
      "overflow": null,
      "overflow_x": null,
      "overflow_y": null,
      "padding": null,
      "right": null,
      "top": null,
      "visibility": null,
      "width": null
     }
    },
    "96c102aa116f45f8a27ec46485ddb829": {
     "model_module": "@jupyter-widgets/base",
     "model_module_version": "1.2.0",
     "model_name": "LayoutModel",
     "state": {
      "_model_module": "@jupyter-widgets/base",
      "_model_module_version": "1.2.0",
      "_model_name": "LayoutModel",
      "_view_count": null,
      "_view_module": "@jupyter-widgets/base",
      "_view_module_version": "1.2.0",
      "_view_name": "LayoutView",
      "align_content": null,
      "align_items": null,
      "align_self": null,
      "border": null,
      "bottom": null,
      "display": null,
      "flex": null,
      "flex_flow": null,
      "grid_area": null,
      "grid_auto_columns": null,
      "grid_auto_flow": null,
      "grid_auto_rows": null,
      "grid_column": null,
      "grid_gap": null,
      "grid_row": null,
      "grid_template_areas": null,
      "grid_template_columns": null,
      "grid_template_rows": null,
      "height": null,
      "justify_content": null,
      "justify_items": null,
      "left": null,
      "margin": null,
      "max_height": null,
      "max_width": null,
      "min_height": null,
      "min_width": null,
      "object_fit": null,
      "object_position": null,
      "order": null,
      "overflow": null,
      "overflow_x": null,
      "overflow_y": null,
      "padding": null,
      "right": null,
      "top": null,
      "visibility": null,
      "width": null
     }
    },
    "9796509147e641dcbc8288ca041ac0ce": {
     "model_module": "@jupyter-widgets/controls",
     "model_module_version": "1.5.0",
     "model_name": "HTMLModel",
     "state": {
      "_dom_classes": [],
      "_model_module": "@jupyter-widgets/controls",
      "_model_module_version": "1.5.0",
      "_model_name": "HTMLModel",
      "_view_count": null,
      "_view_module": "@jupyter-widgets/controls",
      "_view_module_version": "1.5.0",
      "_view_name": "HTMLView",
      "description": "",
      "description_tooltip": null,
      "layout": "IPY_MODEL_c7520d202b974d4b8c8193e03e83a366",
      "placeholder": "​",
      "style": "IPY_MODEL_68539494834045e9a548fd90496c32ca",
      "value": ""
     }
    },
    "9f1e4ab8f4924f848a4240c442594778": {
     "model_module": "@jupyter-widgets/base",
     "model_module_version": "1.2.0",
     "model_name": "LayoutModel",
     "state": {
      "_model_module": "@jupyter-widgets/base",
      "_model_module_version": "1.2.0",
      "_model_name": "LayoutModel",
      "_view_count": null,
      "_view_module": "@jupyter-widgets/base",
      "_view_module_version": "1.2.0",
      "_view_name": "LayoutView",
      "align_content": null,
      "align_items": null,
      "align_self": null,
      "border": null,
      "bottom": null,
      "display": null,
      "flex": null,
      "flex_flow": null,
      "grid_area": null,
      "grid_auto_columns": null,
      "grid_auto_flow": null,
      "grid_auto_rows": null,
      "grid_column": null,
      "grid_gap": null,
      "grid_row": null,
      "grid_template_areas": null,
      "grid_template_columns": null,
      "grid_template_rows": null,
      "height": null,
      "justify_content": null,
      "justify_items": null,
      "left": null,
      "margin": null,
      "max_height": null,
      "max_width": null,
      "min_height": null,
      "min_width": null,
      "object_fit": null,
      "object_position": null,
      "order": null,
      "overflow": null,
      "overflow_x": null,
      "overflow_y": null,
      "padding": null,
      "right": null,
      "top": null,
      "visibility": null,
      "width": null
     }
    },
    "b059082a3bf54df6bf6e3b7f2a38ff39": {
     "model_module": "@jupyter-widgets/controls",
     "model_module_version": "1.5.0",
     "model_name": "DescriptionStyleModel",
     "state": {
      "_model_module": "@jupyter-widgets/controls",
      "_model_module_version": "1.5.0",
      "_model_name": "DescriptionStyleModel",
      "_view_count": null,
      "_view_module": "@jupyter-widgets/base",
      "_view_module_version": "1.2.0",
      "_view_name": "StyleView",
      "description_width": ""
     }
    },
    "b22e3e0d991143b69aa034e5d1e9da36": {
     "model_module": "@jupyter-widgets/controls",
     "model_module_version": "1.5.0",
     "model_name": "HTMLModel",
     "state": {
      "_dom_classes": [],
      "_model_module": "@jupyter-widgets/controls",
      "_model_module_version": "1.5.0",
      "_model_name": "HTMLModel",
      "_view_count": null,
      "_view_module": "@jupyter-widgets/controls",
      "_view_module_version": "1.5.0",
      "_view_name": "HTMLView",
      "description": "",
      "description_tooltip": null,
      "layout": "IPY_MODEL_1133d27b6a3f41b5830a4ef89bc07c59",
      "placeholder": "​",
      "style": "IPY_MODEL_b059082a3bf54df6bf6e3b7f2a38ff39",
      "value": ""
     }
    },
    "b313d4c9c4054f729630c0d970ad4665": {
     "model_module": "@jupyter-widgets/controls",
     "model_module_version": "1.5.0",
     "model_name": "HTMLModel",
     "state": {
      "_dom_classes": [],
      "_model_module": "@jupyter-widgets/controls",
      "_model_module_version": "1.5.0",
      "_model_name": "HTMLModel",
      "_view_count": null,
      "_view_module": "@jupyter-widgets/controls",
      "_view_module_version": "1.5.0",
      "_view_name": "HTMLView",
      "description": "",
      "description_tooltip": null,
      "layout": "IPY_MODEL_600438f114014c68aaeb5951841a3351",
      "placeholder": "​",
      "style": "IPY_MODEL_c6d6cdae9eb14d45b67492ebfe0c7754",
      "value": ""
     }
    },
    "b476d7ba96d24be89128a7e914aeb72d": {
     "model_module": "@jupyter-widgets/base",
     "model_module_version": "1.2.0",
     "model_name": "LayoutModel",
     "state": {
      "_model_module": "@jupyter-widgets/base",
      "_model_module_version": "1.2.0",
      "_model_name": "LayoutModel",
      "_view_count": null,
      "_view_module": "@jupyter-widgets/base",
      "_view_module_version": "1.2.0",
      "_view_name": "LayoutView",
      "align_content": null,
      "align_items": null,
      "align_self": null,
      "border": null,
      "bottom": null,
      "display": null,
      "flex": null,
      "flex_flow": null,
      "grid_area": null,
      "grid_auto_columns": null,
      "grid_auto_flow": null,
      "grid_auto_rows": null,
      "grid_column": null,
      "grid_gap": null,
      "grid_row": null,
      "grid_template_areas": null,
      "grid_template_columns": null,
      "grid_template_rows": null,
      "height": null,
      "justify_content": null,
      "justify_items": null,
      "left": null,
      "margin": null,
      "max_height": null,
      "max_width": null,
      "min_height": null,
      "min_width": null,
      "object_fit": null,
      "object_position": null,
      "order": null,
      "overflow": null,
      "overflow_x": null,
      "overflow_y": null,
      "padding": null,
      "right": null,
      "top": null,
      "visibility": null,
      "width": null
     }
    },
    "b5f1d3ad158040ce9af80c5bec58c498": {
     "model_module": "@jupyter-widgets/base",
     "model_module_version": "1.2.0",
     "model_name": "LayoutModel",
     "state": {
      "_model_module": "@jupyter-widgets/base",
      "_model_module_version": "1.2.0",
      "_model_name": "LayoutModel",
      "_view_count": null,
      "_view_module": "@jupyter-widgets/base",
      "_view_module_version": "1.2.0",
      "_view_name": "LayoutView",
      "align_content": null,
      "align_items": null,
      "align_self": null,
      "border": null,
      "bottom": null,
      "display": null,
      "flex": null,
      "flex_flow": null,
      "grid_area": null,
      "grid_auto_columns": null,
      "grid_auto_flow": null,
      "grid_auto_rows": null,
      "grid_column": null,
      "grid_gap": null,
      "grid_row": null,
      "grid_template_areas": null,
      "grid_template_columns": null,
      "grid_template_rows": null,
      "height": null,
      "justify_content": null,
      "justify_items": null,
      "left": null,
      "margin": null,
      "max_height": null,
      "max_width": null,
      "min_height": null,
      "min_width": null,
      "object_fit": null,
      "object_position": null,
      "order": null,
      "overflow": null,
      "overflow_x": null,
      "overflow_y": null,
      "padding": null,
      "right": null,
      "top": null,
      "visibility": null,
      "width": null
     }
    },
    "bbb3659f4c3244fcac24ca1f06b36986": {
     "model_module": "@jupyter-widgets/controls",
     "model_module_version": "1.5.0",
     "model_name": "FloatProgressModel",
     "state": {
      "_dom_classes": [],
      "_model_module": "@jupyter-widgets/controls",
      "_model_module_version": "1.5.0",
      "_model_name": "FloatProgressModel",
      "_view_count": null,
      "_view_module": "@jupyter-widgets/controls",
      "_view_module_version": "1.5.0",
      "_view_name": "ProgressView",
      "bar_style": "success",
      "description": "",
      "description_tooltip": null,
      "layout": "IPY_MODEL_945778cbed9f40968fa9ca81f5cdd8b5",
      "max": 28881,
      "min": 0,
      "orientation": "horizontal",
      "style": "IPY_MODEL_d3f5b19e363849b4a6136c4af02e7323",
      "value": 28881
     }
    },
    "c01d9d065470471dbcdf275b7ab28969": {
     "model_module": "@jupyter-widgets/base",
     "model_module_version": "1.2.0",
     "model_name": "LayoutModel",
     "state": {
      "_model_module": "@jupyter-widgets/base",
      "_model_module_version": "1.2.0",
      "_model_name": "LayoutModel",
      "_view_count": null,
      "_view_module": "@jupyter-widgets/base",
      "_view_module_version": "1.2.0",
      "_view_name": "LayoutView",
      "align_content": null,
      "align_items": null,
      "align_self": null,
      "border": null,
      "bottom": null,
      "display": null,
      "flex": null,
      "flex_flow": null,
      "grid_area": null,
      "grid_auto_columns": null,
      "grid_auto_flow": null,
      "grid_auto_rows": null,
      "grid_column": null,
      "grid_gap": null,
      "grid_row": null,
      "grid_template_areas": null,
      "grid_template_columns": null,
      "grid_template_rows": null,
      "height": null,
      "justify_content": null,
      "justify_items": null,
      "left": null,
      "margin": null,
      "max_height": null,
      "max_width": null,
      "min_height": null,
      "min_width": null,
      "object_fit": null,
      "object_position": null,
      "order": null,
      "overflow": null,
      "overflow_x": null,
      "overflow_y": null,
      "padding": null,
      "right": null,
      "top": null,
      "visibility": null,
      "width": null
     }
    },
    "c64f2748f46440b7b3d6a2231fbf40a9": {
     "model_module": "@jupyter-widgets/controls",
     "model_module_version": "1.5.0",
     "model_name": "ProgressStyleModel",
     "state": {
      "_model_module": "@jupyter-widgets/controls",
      "_model_module_version": "1.5.0",
      "_model_name": "ProgressStyleModel",
      "_view_count": null,
      "_view_module": "@jupyter-widgets/base",
      "_view_module_version": "1.2.0",
      "_view_name": "StyleView",
      "bar_color": null,
      "description_width": ""
     }
    },
    "c6d6cdae9eb14d45b67492ebfe0c7754": {
     "model_module": "@jupyter-widgets/controls",
     "model_module_version": "1.5.0",
     "model_name": "DescriptionStyleModel",
     "state": {
      "_model_module": "@jupyter-widgets/controls",
      "_model_module_version": "1.5.0",
      "_model_name": "DescriptionStyleModel",
      "_view_count": null,
      "_view_module": "@jupyter-widgets/base",
      "_view_module_version": "1.2.0",
      "_view_name": "StyleView",
      "description_width": ""
     }
    },
    "c7520d202b974d4b8c8193e03e83a366": {
     "model_module": "@jupyter-widgets/base",
     "model_module_version": "1.2.0",
     "model_name": "LayoutModel",
     "state": {
      "_model_module": "@jupyter-widgets/base",
      "_model_module_version": "1.2.0",
      "_model_name": "LayoutModel",
      "_view_count": null,
      "_view_module": "@jupyter-widgets/base",
      "_view_module_version": "1.2.0",
      "_view_name": "LayoutView",
      "align_content": null,
      "align_items": null,
      "align_self": null,
      "border": null,
      "bottom": null,
      "display": null,
      "flex": null,
      "flex_flow": null,
      "grid_area": null,
      "grid_auto_columns": null,
      "grid_auto_flow": null,
      "grid_auto_rows": null,
      "grid_column": null,
      "grid_gap": null,
      "grid_row": null,
      "grid_template_areas": null,
      "grid_template_columns": null,
      "grid_template_rows": null,
      "height": null,
      "justify_content": null,
      "justify_items": null,
      "left": null,
      "margin": null,
      "max_height": null,
      "max_width": null,
      "min_height": null,
      "min_width": null,
      "object_fit": null,
      "object_position": null,
      "order": null,
      "overflow": null,
      "overflow_x": null,
      "overflow_y": null,
      "padding": null,
      "right": null,
      "top": null,
      "visibility": null,
      "width": null
     }
    },
    "d28506426c5846ac9b324a8fb0b00330": {
     "model_module": "@jupyter-widgets/controls",
     "model_module_version": "1.5.0",
     "model_name": "HTMLModel",
     "state": {
      "_dom_classes": [],
      "_model_module": "@jupyter-widgets/controls",
      "_model_module_version": "1.5.0",
      "_model_name": "HTMLModel",
      "_view_count": null,
      "_view_module": "@jupyter-widgets/controls",
      "_view_module_version": "1.5.0",
      "_view_name": "HTMLView",
      "description": "",
      "description_tooltip": null,
      "layout": "IPY_MODEL_58cf05a99d9e49c498b5adb2a65acdfd",
      "placeholder": "​",
      "style": "IPY_MODEL_4f730c1c7f314c29a9ada9004399db3d",
      "value": " 29696/? [00:00&lt;00:00, 827255.38it/s]"
     }
    },
    "d3f5b19e363849b4a6136c4af02e7323": {
     "model_module": "@jupyter-widgets/controls",
     "model_module_version": "1.5.0",
     "model_name": "ProgressStyleModel",
     "state": {
      "_model_module": "@jupyter-widgets/controls",
      "_model_module_version": "1.5.0",
      "_model_name": "ProgressStyleModel",
      "_view_count": null,
      "_view_module": "@jupyter-widgets/base",
      "_view_module_version": "1.2.0",
      "_view_name": "StyleView",
      "bar_color": null,
      "description_width": ""
     }
    },
    "d8b3789fbeb244969d700bd0dcad1136": {
     "model_module": "@jupyter-widgets/controls",
     "model_module_version": "1.5.0",
     "model_name": "FloatProgressModel",
     "state": {
      "_dom_classes": [],
      "_model_module": "@jupyter-widgets/controls",
      "_model_module_version": "1.5.0",
      "_model_name": "FloatProgressModel",
      "_view_count": null,
      "_view_module": "@jupyter-widgets/controls",
      "_view_module_version": "1.5.0",
      "_view_name": "ProgressView",
      "bar_style": "success",
      "description": "",
      "description_tooltip": null,
      "layout": "IPY_MODEL_4ffc77ce727e45f89c374224ee4f12e9",
      "max": 46830571,
      "min": 0,
      "orientation": "horizontal",
      "style": "IPY_MODEL_72542b32984d4486a9924b2f2dafd4b6",
      "value": 46830571
     }
    },
    "d9741a7b48894606be0a9d807f87138b": {
     "model_module": "@jupyter-widgets/controls",
     "model_module_version": "1.5.0",
     "model_name": "HBoxModel",
     "state": {
      "_dom_classes": [],
      "_model_module": "@jupyter-widgets/controls",
      "_model_module_version": "1.5.0",
      "_model_name": "HBoxModel",
      "_view_count": null,
      "_view_module": "@jupyter-widgets/controls",
      "_view_module_version": "1.5.0",
      "_view_name": "HBoxView",
      "box_style": "",
      "children": [
       "IPY_MODEL_9796509147e641dcbc8288ca041ac0ce",
       "IPY_MODEL_dd77ff2c85554a20a9edceb083ae7f73",
       "IPY_MODEL_f463376886c94186b5f9c67e1c6c022e"
      ],
      "layout": "IPY_MODEL_79c819f94a574064b93b3bf3fbdb4785"
     }
    },
    "dd77ff2c85554a20a9edceb083ae7f73": {
     "model_module": "@jupyter-widgets/controls",
     "model_module_version": "1.5.0",
     "model_name": "FloatProgressModel",
     "state": {
      "_dom_classes": [],
      "_model_module": "@jupyter-widgets/controls",
      "_model_module_version": "1.5.0",
      "_model_name": "FloatProgressModel",
      "_view_count": null,
      "_view_module": "@jupyter-widgets/controls",
      "_view_module_version": "1.5.0",
      "_view_name": "ProgressView",
      "bar_style": "success",
      "description": "",
      "description_tooltip": null,
      "layout": "IPY_MODEL_9f1e4ab8f4924f848a4240c442594778",
      "max": 9912422,
      "min": 0,
      "orientation": "horizontal",
      "style": "IPY_MODEL_f50d99dffd8a4979b0fb34d2cdfbc9d4",
      "value": 9912422
     }
    },
    "ddd53488b30142b4a70460b50e8e8096": {
     "model_module": "@jupyter-widgets/controls",
     "model_module_version": "1.5.0",
     "model_name": "FloatProgressModel",
     "state": {
      "_dom_classes": [],
      "_model_module": "@jupyter-widgets/controls",
      "_model_module_version": "1.5.0",
      "_model_name": "FloatProgressModel",
      "_view_count": null,
      "_view_module": "@jupyter-widgets/controls",
      "_view_module_version": "1.5.0",
      "_view_name": "ProgressView",
      "bar_style": "success",
      "description": "",
      "description_tooltip": null,
      "layout": "IPY_MODEL_4452ee78ff594f26897b278bd151f94a",
      "max": 4542,
      "min": 0,
      "orientation": "horizontal",
      "style": "IPY_MODEL_0eddd9cc16d6493cb0084537b50b9983",
      "value": 4542
     }
    },
    "e56d4a6a9e9d4d1fb5499a419a6577fc": {
     "model_module": "@jupyter-widgets/base",
     "model_module_version": "1.2.0",
     "model_name": "LayoutModel",
     "state": {
      "_model_module": "@jupyter-widgets/base",
      "_model_module_version": "1.2.0",
      "_model_name": "LayoutModel",
      "_view_count": null,
      "_view_module": "@jupyter-widgets/base",
      "_view_module_version": "1.2.0",
      "_view_name": "LayoutView",
      "align_content": null,
      "align_items": null,
      "align_self": null,
      "border": null,
      "bottom": null,
      "display": null,
      "flex": null,
      "flex_flow": null,
      "grid_area": null,
      "grid_auto_columns": null,
      "grid_auto_flow": null,
      "grid_auto_rows": null,
      "grid_column": null,
      "grid_gap": null,
      "grid_row": null,
      "grid_template_areas": null,
      "grid_template_columns": null,
      "grid_template_rows": null,
      "height": null,
      "justify_content": null,
      "justify_items": null,
      "left": null,
      "margin": null,
      "max_height": null,
      "max_width": null,
      "min_height": null,
      "min_width": null,
      "object_fit": null,
      "object_position": null,
      "order": null,
      "overflow": null,
      "overflow_x": null,
      "overflow_y": null,
      "padding": null,
      "right": null,
      "top": null,
      "visibility": null,
      "width": null
     }
    },
    "e5b820f5b835444c95ce8f2a7944ff4a": {
     "model_module": "@jupyter-widgets/controls",
     "model_module_version": "1.5.0",
     "model_name": "DescriptionStyleModel",
     "state": {
      "_model_module": "@jupyter-widgets/controls",
      "_model_module_version": "1.5.0",
      "_model_name": "DescriptionStyleModel",
      "_view_count": null,
      "_view_module": "@jupyter-widgets/base",
      "_view_module_version": "1.2.0",
      "_view_name": "StyleView",
      "description_width": ""
     }
    },
    "e5ff511702b7466ab71cab796e21834c": {
     "model_module": "@jupyter-widgets/controls",
     "model_module_version": "1.5.0",
     "model_name": "HTMLModel",
     "state": {
      "_dom_classes": [],
      "_model_module": "@jupyter-widgets/controls",
      "_model_module_version": "1.5.0",
      "_model_name": "HTMLModel",
      "_view_count": null,
      "_view_module": "@jupyter-widgets/controls",
      "_view_module_version": "1.5.0",
      "_view_name": "HTMLView",
      "description": "",
      "description_tooltip": null,
      "layout": "IPY_MODEL_38901222eda447cf9ac70a3f95476256",
      "placeholder": "​",
      "style": "IPY_MODEL_62fe01cac3eb40abaf7e0adc468fcd22",
      "value": "100%"
     }
    },
    "f463376886c94186b5f9c67e1c6c022e": {
     "model_module": "@jupyter-widgets/controls",
     "model_module_version": "1.5.0",
     "model_name": "HTMLModel",
     "state": {
      "_dom_classes": [],
      "_model_module": "@jupyter-widgets/controls",
      "_model_module_version": "1.5.0",
      "_model_name": "HTMLModel",
      "_view_count": null,
      "_view_module": "@jupyter-widgets/controls",
      "_view_module_version": "1.5.0",
      "_view_name": "HTMLView",
      "description": "",
      "description_tooltip": null,
      "layout": "IPY_MODEL_81c3b33fd4d34a4da2ba536a6bd7ba96",
      "placeholder": "​",
      "style": "IPY_MODEL_8ad328bbdcb04af0a87666ee0df91937",
      "value": " 9913344/? [00:01&lt;00:00, 14695811.65it/s]"
     }
    },
    "f50d99dffd8a4979b0fb34d2cdfbc9d4": {
     "model_module": "@jupyter-widgets/controls",
     "model_module_version": "1.5.0",
     "model_name": "ProgressStyleModel",
     "state": {
      "_model_module": "@jupyter-widgets/controls",
      "_model_module_version": "1.5.0",
      "_model_name": "ProgressStyleModel",
      "_view_count": null,
      "_view_module": "@jupyter-widgets/base",
      "_view_module_version": "1.2.0",
      "_view_name": "StyleView",
      "bar_color": null,
      "description_width": ""
     }
    },
    "fb38d639adf647d0a8d8978757b5512a": {
     "model_module": "@jupyter-widgets/controls",
     "model_module_version": "1.5.0",
     "model_name": "HTMLModel",
     "state": {
      "_dom_classes": [],
      "_model_module": "@jupyter-widgets/controls",
      "_model_module_version": "1.5.0",
      "_model_name": "HTMLModel",
      "_view_count": null,
      "_view_module": "@jupyter-widgets/controls",
      "_view_module_version": "1.5.0",
      "_view_name": "HTMLView",
      "description": "",
      "description_tooltip": null,
      "layout": "IPY_MODEL_c01d9d065470471dbcdf275b7ab28969",
      "placeholder": "​",
      "style": "IPY_MODEL_689d5d63c39749b98ff367a83cbb254f",
      "value": " 1649664/? [00:01&lt;00:00, 1972022.73it/s]"
     }
    },
    "fb3c0a830ee04a699b5160d3b3f12f64": {
     "model_module": "@jupyter-widgets/base",
     "model_module_version": "1.2.0",
     "model_name": "LayoutModel",
     "state": {
      "_model_module": "@jupyter-widgets/base",
      "_model_module_version": "1.2.0",
      "_model_name": "LayoutModel",
      "_view_count": null,
      "_view_module": "@jupyter-widgets/base",
      "_view_module_version": "1.2.0",
      "_view_name": "LayoutView",
      "align_content": null,
      "align_items": null,
      "align_self": null,
      "border": null,
      "bottom": null,
      "display": null,
      "flex": null,
      "flex_flow": null,
      "grid_area": null,
      "grid_auto_columns": null,
      "grid_auto_flow": null,
      "grid_auto_rows": null,
      "grid_column": null,
      "grid_gap": null,
      "grid_row": null,
      "grid_template_areas": null,
      "grid_template_columns": null,
      "grid_template_rows": null,
      "height": null,
      "justify_content": null,
      "justify_items": null,
      "left": null,
      "margin": null,
      "max_height": null,
      "max_width": null,
      "min_height": null,
      "min_width": null,
      "object_fit": null,
      "object_position": null,
      "order": null,
      "overflow": null,
      "overflow_x": null,
      "overflow_y": null,
      "padding": null,
      "right": null,
      "top": null,
      "visibility": null,
      "width": null
     }
    }
   }
  }
 },
 "nbformat": 4,
 "nbformat_minor": 5
}
